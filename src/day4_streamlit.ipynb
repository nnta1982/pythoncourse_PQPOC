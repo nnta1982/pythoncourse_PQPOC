{
 "cells": [
  {
   "cell_type": "markdown",
   "id": "764e0cea",
   "metadata": {},
   "source": [
    "(See also [Cheatsheet](https://docs.streamlit.io/develop/quick-reference/cheat-sheet))"
   ]
  }
 ],
 "metadata": {
  "language_info": {
   "name": "python"
  }
 },
 "nbformat": 4,
 "nbformat_minor": 5
}

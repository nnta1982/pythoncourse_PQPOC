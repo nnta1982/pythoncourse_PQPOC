{
 "cells": [
  {
   "cell_type": "markdown",
   "id": "385f71ef",
   "metadata": {},
   "source": [
    "#   What is a Class?\n",
    "    *   A class is a blueprint for creating objects.\n",
    "\n",
    "    *   It defines attributes (data) and methods (functions) that the objects will have.\n",
    "\n",
    "    *   Think of a class as a template (like a house plan), and an object as the house built from that template."
   ]
  },
  {
   "cell_type": "markdown",
   "id": "4839c854",
   "metadata": {},
   "source": [
    "#   Defining a Class"
   ]
  },
  {
   "cell_type": "code",
   "execution_count": null,
   "id": "2d04b679",
   "metadata": {},
   "outputs": [],
   "source": [
    "class ClassName:\n",
    "    def __init__(self, param1, param2):\n",
    "        self.param1 = param1  # attribute\n",
    "        self.param2 = param2  # attribute\n",
    "\n",
    "    def method_name(self):\n",
    "        # do something\n",
    "        return something"
   ]
  },
  {
   "cell_type": "markdown",
   "id": "9bbc76bf",
   "metadata": {},
   "source": [
    "# Example"
   ]
  },
  {
   "cell_type": "code",
   "execution_count": null,
   "id": "d2a8ec8d",
   "metadata": {},
   "outputs": [],
   "source": [
    "class Well:\n",
    "    def __init__(self, name, block, production):\n",
    "        self.name = name\n",
    "        self.block = block\n",
    "        self.production = production\n",
    "    \n",
    "    def describe(self):\n",
    "        return f\"{self.name} is in block {self.block} producing {self.production} bbl/day\"\n"
   ]
  },
  {
   "cell_type": "markdown",
   "id": "7016adae",
   "metadata": {},
   "source": [
    "#   Creating Objects (Instances)"
   ]
  },
  {
   "cell_type": "code",
   "execution_count": null,
   "id": "b030b027",
   "metadata": {},
   "outputs": [],
   "source": [
    "well1 = Well(\"Well_1\", \"A\", 300)\n",
    "well2 = Well(\"Well_2\", \"B\", 500)\n",
    "\n",
    "print(well1.describe())  \n",
    "print(well2.describe())\n"
   ]
  },
  {
   "cell_type": "markdown",
   "id": "96d20c90",
   "metadata": {},
   "source": [
    " #  Key Concepts\n",
    " *  __init__ Method\n",
    " *   Runs automatically when you create a new object.\n",
    "\n",
    "*   Used to initialize attributes."
   ]
  }
 ],
 "metadata": {
  "kernelspec": {
   "display_name": "Python 3",
   "language": "python",
   "name": "python3"
  },
  "language_info": {
   "name": "python",
   "version": "3.12.2"
  }
 },
 "nbformat": 4,
 "nbformat_minor": 5
}

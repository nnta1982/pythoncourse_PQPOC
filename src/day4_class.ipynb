{
 "cells": [
  {
   "cell_type": "markdown",
   "id": "385f71ef",
   "metadata": {},
   "source": [
    "#   What is a Class?\n",
    "    *   A class is a blueprint for creating objects.\n",
    "\n",
    "    *   It defines attributes (data) and methods (functions) that the objects will have.\n",
    "\n",
    "    *   Think of a class as a template (like a house plan), and an object as the house built from that template."
   ]
  },
  {
   "cell_type": "markdown",
   "id": "4839c854",
   "metadata": {},
   "source": [
    "#   Defining a Class"
   ]
  },
  {
   "cell_type": "code",
   "execution_count": 1,
   "id": "2d04b679",
   "metadata": {},
   "outputs": [],
   "source": [
    "class ClassName:\n",
    "    def __init__(self, param1, param2):\n",
    "        self.param1 = param1  # attribute\n",
    "        self.param2 = param2  # attribute\n",
    "\n",
    "    def method_name(self):\n",
    "        # do something\n",
    "        return something"
   ]
  },
  {
   "cell_type": "markdown",
   "id": "9bbc76bf",
   "metadata": {},
   "source": [
    "# Example"
   ]
  },
  {
   "cell_type": "code",
   "execution_count": 2,
   "id": "d2a8ec8d",
   "metadata": {},
   "outputs": [],
   "source": [
    "class Well:\n",
    "    def __init__(self, name, block, production):\n",
    "        self.name = name\n",
    "        self.block = block\n",
    "        self.production = production\n",
    "    \n",
    "    def describe(self):\n",
    "        return f\"{self.name} is in block {self.block} producing {self.production} bbl/day\"\n"
   ]
  },
  {
   "cell_type": "markdown",
   "id": "7016adae",
   "metadata": {},
   "source": [
    "#   Creating Objects (Instances)"
   ]
  },
  {
   "cell_type": "code",
   "execution_count": 3,
   "id": "b030b027",
   "metadata": {},
   "outputs": [
    {
     "name": "stdout",
     "output_type": "stream",
     "text": [
      "Well_1 is in block A producing 300 bbl/day\n",
      "Well_2 is in block B producing 500 bbl/day\n"
     ]
    }
   ],
   "source": [
    "well1 = Well(\"Well_1\", \"A\", 300)\n",
    "well2 = Well(\"Well_2\", \"B\", 500)\n",
    "\n",
    "print(well1.describe())  \n",
    "print(well2.describe())\n"
   ]
  },
  {
   "cell_type": "markdown",
   "id": "96d20c90",
   "metadata": {},
   "source": [
    "#  Key Concepts\n",
    "    *  __init__ Method\n",
    "    *  Runs automatically when you create a new object.\n",
    "    *  Used to initialize attributes.\n",
    "    *  Attributes vs Methods\n",
    "        *   Attributes = variables attached to an object.\n",
    "        *   Methods = functions defined inside the class that operate on the object.\n",
    "    *   The self Keyword\n",
    "        *   Refers to the current instance of the class.\n",
    "        *   Lets methods access attributes and other methods."
   ]
  },
  {
   "cell_type": "code",
   "execution_count": 4,
   "id": "c4a66b5c",
   "metadata": {},
   "outputs": [],
   "source": [
    "class Well:\n",
    "    def __init__(self, name, block, production):\n",
    "        self.name = name\n",
    "        self.block = block\n",
    "        self.production = production\n",
    "    \n",
    "    def update_production(self, new_rate):\n",
    "        self.production = new_rate\n",
    "        print(f\"{self.name} production updated to {self.production} bbl/day\")\n"
   ]
  },
  {
   "cell_type": "code",
   "execution_count": 5,
   "id": "08d7e45c",
   "metadata": {},
   "outputs": [
    {
     "name": "stdout",
     "output_type": "stream",
     "text": [
      "Well_1 production updated to 450 bbl/day\n"
     ]
    }
   ],
   "source": [
    "well1 = Well(\"Well_1\", \"A\", 300)\n",
    "well1.update_production(450)"
   ]
  },
  {
   "cell_type": "markdown",
   "id": "5f418781",
   "metadata": {},
   "source": [
    "#   Class vs Instance Attributes\n",
    "    *   Instance Attributes: Belong to each object separately.\n",
    "    *   Class Attributes: Shared by all objects."
   ]
  },
  {
   "cell_type": "code",
   "execution_count": 6,
   "id": "34b315c6",
   "metadata": {},
   "outputs": [],
   "source": [
    "class Well:\n",
    "    total_wells = 0  # class attribute\n",
    "\n",
    "    def __init__(self, name, block, production):\n",
    "        self.name = name\n",
    "        self.block = block\n",
    "        self.production = production\n",
    "        Well.total_wells += 1  # count wells created\n"
   ]
  },
  {
   "cell_type": "code",
   "execution_count": 7,
   "id": "66534c4c",
   "metadata": {},
   "outputs": [
    {
     "name": "stdout",
     "output_type": "stream",
     "text": [
      "2\n"
     ]
    }
   ],
   "source": [
    "well1 = Well(\"Well_1\", \"A\", 300)\n",
    "well2 = Well(\"Well_2\", \"B\", 400)\n",
    "print(Well.total_wells)  # Output: 2"
   ]
  },
  {
   "cell_type": "code",
   "execution_count": 12,
   "id": "ecf2491f",
   "metadata": {},
   "outputs": [
    {
     "data": {
      "text/plain": [
       "'Well_1'"
      ]
     },
     "execution_count": 12,
     "metadata": {},
     "output_type": "execute_result"
    }
   ],
   "source": [
    "well1.__dict__[\"name\"]"
   ]
  },
  {
   "cell_type": "markdown",
   "id": "5a1a563a",
   "metadata": {},
   "source": [
    "#   Special Methods (Dunder Methods)\n",
    "    *   __str__ → controls what print(object) shows\n",
    "    *   __repr__ → “official” string representation\n",
    "    *   __len__, __eq__, __add__ → allow objects to behave like built-in types.\n",
    "    *   __getitem__, __setitem__ → Cho phép truy cập như list/dict: obj[key]\n",
    "    *   __eq__, __lt__, __add__ … → Cho phép so sánh & toán tử ==, <, +"
   ]
  },
  {
   "cell_type": "code",
   "execution_count": 23,
   "id": "930b5521",
   "metadata": {},
   "outputs": [],
   "source": [
    "class Well:\n",
    "    def __init__(self, name, block, production):\n",
    "        self.name = name\n",
    "        self.block = block\n",
    "        self.production = production\n",
    "    def __str__(self):\n",
    "        return f\"Well {self.name} in block {self.block}\"\n",
    "    def __repr__(self):\n",
    "        return f\"Well(name={self.name!r}, block={self.block!r}, production={self.production!r})\"\n",
    "    def __len__(self):\n",
    "        return len(self.name)\n",
    "    def __eq__(self, other):   \n",
    "        return self.production == other.production\n",
    "    def __add__(self, other):   \n",
    "        return self.production + other.production\n"
   ]
  },
  {
   "cell_type": "code",
   "execution_count": 21,
   "id": "53e217ce",
   "metadata": {},
   "outputs": [],
   "source": [
    "well1 = Well(\"Well_1\", \"A\", 300)\n",
    "well2 = Well(\"Well_2\", \"B\", 400)"
   ]
  },
  {
   "cell_type": "code",
   "execution_count": 17,
   "id": "8a61c433",
   "metadata": {},
   "outputs": [
    {
     "data": {
      "text/plain": [
       "700"
      ]
     },
     "execution_count": 17,
     "metadata": {},
     "output_type": "execute_result"
    }
   ],
   "source": [
    "well1+well2"
   ]
  },
  {
   "cell_type": "code",
   "execution_count": 19,
   "id": "9f31536e",
   "metadata": {},
   "outputs": [
    {
     "data": {
      "text/plain": [
       "False"
      ]
     },
     "execution_count": 19,
     "metadata": {},
     "output_type": "execute_result"
    }
   ],
   "source": [
    "well1==well2"
   ]
  },
  {
   "cell_type": "markdown",
   "id": "0ac5ff9c",
   "metadata": {},
   "source": [
    "#   Inheritance\n",
    "    *   A class can inherit from another class → it gets all the attributes and methods from the parent."
   ]
  },
  {
   "cell_type": "code",
   "execution_count": 10,
   "id": "ee609d37",
   "metadata": {},
   "outputs": [],
   "source": [
    "class OffshoreWell(Well):\n",
    "    def __init__(self, name, block, production, platform):\n",
    "        super().__init__(name, block, production)  # call parent constructor\n",
    "        self.platform = platform"
   ]
  },
  {
   "cell_type": "code",
   "execution_count": 11,
   "id": "f0360d0f",
   "metadata": {},
   "outputs": [
    {
     "ename": "AttributeError",
     "evalue": "'OffshoreWell' object has no attribute 'describe'",
     "output_type": "error",
     "traceback": [
      "\u001b[1;31m---------------------------------------------------------------------------\u001b[0m",
      "\u001b[1;31mAttributeError\u001b[0m                            Traceback (most recent call last)",
      "Cell \u001b[1;32mIn[11], line 2\u001b[0m\n\u001b[0;32m      1\u001b[0m ow \u001b[38;5;241m=\u001b[39m OffshoreWell(\u001b[38;5;124m\"\u001b[39m\u001b[38;5;124mWell_10\u001b[39m\u001b[38;5;124m\"\u001b[39m, \u001b[38;5;124m\"\u001b[39m\u001b[38;5;124mD\u001b[39m\u001b[38;5;124m\"\u001b[39m, \u001b[38;5;241m700\u001b[39m, \u001b[38;5;124m\"\u001b[39m\u001b[38;5;124mPlatform_X\u001b[39m\u001b[38;5;124m\"\u001b[39m)\n\u001b[1;32m----> 2\u001b[0m \u001b[38;5;28mprint\u001b[39m(\u001b[43mow\u001b[49m\u001b[38;5;241;43m.\u001b[39;49m\u001b[43mdescribe\u001b[49m())\n",
      "\u001b[1;31mAttributeError\u001b[0m: 'OffshoreWell' object has no attribute 'describe'"
     ]
    }
   ],
   "source": [
    "ow = OffshoreWell(\"Well_10\", \"D\", 700, \"Platform_X\")\n",
    "print(ow.describe())\n"
   ]
  },
  {
   "cell_type": "code",
   "execution_count": null,
   "id": "381dde2e",
   "metadata": {},
   "outputs": [],
   "source": [
    "import pandas as pd"
   ]
  },
  {
   "cell_type": "code",
   "execution_count": null,
   "id": "247181a4",
   "metadata": {},
   "outputs": [],
   "source": [
    "class User_Pandas(pd.DataFrame):\n",
    "    def __init__(self,*args,**kwargs):\n",
    "        super().__init__(*args,**kwargs)\n"
   ]
  },
  {
   "cell_type": "markdown",
   "id": "44e42b50",
   "metadata": {},
   "source": [
    "#   Why Use Classes?\n",
    "✅ Organizes code (groups data + behavior)\n",
    "\n",
    "✅ Easier to manage complex systems (OOP design)\n",
    "\n",
    "✅ Enables reusability via inheritance\n",
    "\n",
    "✅ Makes code more readable and maintainable"
   ]
  }
 ],
 "metadata": {
  "kernelspec": {
   "display_name": "Python 3",
   "language": "python",
   "name": "python3"
  },
  "language_info": {
   "codemirror_mode": {
    "name": "ipython",
    "version": 3
   },
   "file_extension": ".py",
   "mimetype": "text/x-python",
   "name": "python",
   "nbconvert_exporter": "python",
   "pygments_lexer": "ipython3",
   "version": "3.12.2"
  }
 },
 "nbformat": 4,
 "nbformat_minor": 5
}

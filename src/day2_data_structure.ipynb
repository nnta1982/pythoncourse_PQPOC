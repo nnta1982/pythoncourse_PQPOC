{
 "cells": [
  {
   "cell_type": "markdown",
   "id": "583ddc02",
   "metadata": {},
   "source": [
    "# LIST\n",
    "    + Declare\n",
    "    + Accessing items\n",
    "    + Unpacking\n",
    "    + Loop Over List\n",
    "    + Add and Remove\n",
    "    + Sort list\n",
    "    + list comprehension\n"
   ]
  },
  {
   "cell_type": "markdown",
   "id": "e1e24a3c",
   "metadata": {},
   "source": [
    "✅ 1. What is a List?\n",
    "\n",
    "*   A list is an ordered, mutable (can change) collection in Python.\n",
    "\n",
    "*   Defined using square brackets []."
   ]
  },
  {
   "cell_type": "markdown",
   "id": "756e158a",
   "metadata": {},
   "source": [
    "✅ Key features:\n",
    "\n",
    "*   Ordered → Keeps item order.\n",
    "\n",
    "*   Mutable → You can change, add, or remove items.\n",
    "\n",
    "*   Allows duplicates."
   ]
  },
  {
   "cell_type": "markdown",
   "id": "8c12991a",
   "metadata": {},
   "source": [
    "✅ 2. Creating Lists"
   ]
  },
  {
   "cell_type": "code",
   "execution_count": null,
   "id": "1ab6b2d1",
   "metadata": {},
   "outputs": [],
   "source": [
    "empty = []                     # Empty list\n",
    "numbers = [1, 2, 3, 4]         # List of integers\n",
    "mixed = [1, \"apple\", 3.5]      # Mixed types\n",
    "nested = [1, [2, 3], [4, 5]]   # Nested lists\n"
   ]
  },
  {
   "cell_type": "markdown",
   "id": "6932e5d5",
   "metadata": {},
   "source": [
    "✅ 3. Accessing List Elements"
   ]
  },
  {
   "cell_type": "code",
   "execution_count": null,
   "id": "f4239737",
   "metadata": {},
   "outputs": [],
   "source": [
    "fruits = [\"apple\", \"banana\", \"cherry\"]\n",
    "print(fruits[0])    # apple (first element)\n",
    "print(fruits[-1])   # cherry (last element)\n",
    "print(fruits[1:3])  # ['banana', 'cherry']\n"
   ]
  },
  {
   "cell_type": "markdown",
   "id": "a79a0d89",
   "metadata": {},
   "source": [
    "✅ 4. Modifying Lists"
   ]
  },
  {
   "cell_type": "code",
   "execution_count": null,
   "id": "36ecebc1",
   "metadata": {},
   "outputs": [],
   "source": [
    "fruits = [\"apple\", \"banana\", \"cherry\"]\n",
    "fruits[1] = \"blueberry\"   # Change item\n",
    "print(fruits)            # ['apple', 'blueberry', 'cherry']\n"
   ]
  },
  {
   "cell_type": "markdown",
   "id": "63782511",
   "metadata": {},
   "source": [
    "✅ 5. List Methods"
   ]
  },
  {
   "cell_type": "markdown",
   "id": "9a541056",
   "metadata": {},
   "source": [
    "| Method                          | What it does                                          | Example                   |\n",
    "| ------------------------------- | ----------------------------------------------------- | ------------------------- |\n",
    "| `append(x)`                     | Adds **one item** to the end of the list              | `nums.append(10)`         |\n",
    "| `extend(iterable)`              | Adds all elements from another list (or iterable)     | `nums.extend([20, 30])`   |\n",
    "| `insert(i, x)`                  | Inserts `x` **at index `i`**                          | `nums.insert(1, 99)`      |\n",
    "| `remove(x)`                     | Removes **first occurrence** of `x`                   | `nums.remove(99)`         |\n",
    "| `pop([i])`                      | Removes and returns item at index `i` (default last)  | `nums.pop()`              |\n",
    "| `clear()`                       | Removes **all items**                                 | `nums.clear()`            |\n",
    "| `index(x, [start], [end])`      | Returns index of first `x` (can limit with start/end) | `nums.index(20)`          |\n",
    "| `count(x)`                      | Counts occurrences of `x`                             | `nums.count(10)`          |\n",
    "| `sort(key=None, reverse=False)` | Sorts the list **in place**                           | `nums.sort(reverse=True)` |\n",
    "| `reverse()`                     | Reverses the list **in place**                        | `nums.reverse()`          |\n",
    "| `copy()`                        | Returns a **shallow copy** of the list                | `new_list = nums.copy()`  |\n"
   ]
  },
  {
   "cell_type": "markdown",
   "id": "75e0af6e",
   "metadata": {},
   "source": [
    "✅ 6. Common List Operations"
   ]
  },
  {
   "cell_type": "code",
   "execution_count": 47,
   "id": "33aae87a",
   "metadata": {},
   "outputs": [
    {
     "name": "stdout",
     "output_type": "stream",
     "text": [
      "[1, 2, 3, 4, 5]\n",
      "[1, 2, 3, 1, 2, 3]\n",
      "True\n"
     ]
    }
   ],
   "source": [
    "numbers = [1, 2, 3]\n",
    "\n",
    "# Concatenation\n",
    "print(numbers + [4, 5])      # [1, 2, 3, 4, 5]\n",
    "\n",
    "# Repetition\n",
    "print(numbers * 2)           # [1, 2, 3, 1, 2, 3]\n",
    "\n",
    "# Membership test\n",
    "print(2 in numbers)          # True\n"
   ]
  },
  {
   "cell_type": "markdown",
   "id": "d381c960",
   "metadata": {},
   "source": [
    "✅ 7. Iterating Through a List"
   ]
  },
  {
   "cell_type": "code",
   "execution_count": 48,
   "id": "ca414242",
   "metadata": {},
   "outputs": [
    {
     "name": "stdout",
     "output_type": "stream",
     "text": [
      "apple\n",
      "banana\n",
      "cherry\n"
     ]
    }
   ],
   "source": [
    "fruits = [\"apple\", \"banana\", \"cherry\"]\n",
    "\n",
    "for fruit in fruits:\n",
    "    print(fruit)"
   ]
  },
  {
   "cell_type": "markdown",
   "id": "8df0ca24",
   "metadata": {},
   "source": [
    "✅ 8. Why Use Lists?\n",
    "\n",
    "* Useful for storing ordered data that changes often.\n",
    "* Supports various data types (even mixed).\n",
    "* Has many built-in methods for flexibility."
   ]
  },
  {
   "cell_type": "code",
   "execution_count": 2,
   "id": "32ed2230",
   "metadata": {},
   "outputs": [
    {
     "data": {
      "text/plain": [
       "1"
      ]
     },
     "execution_count": 2,
     "metadata": {},
     "output_type": "execute_result"
    }
   ],
   "source": [
    "lst=[1,2,3,4]\n",
    "lst[0]"
   ]
  },
  {
   "cell_type": "code",
   "execution_count": 3,
   "id": "c92eda7b",
   "metadata": {},
   "outputs": [
    {
     "data": {
      "text/plain": [
       "4"
      ]
     },
     "execution_count": 3,
     "metadata": {},
     "output_type": "execute_result"
    }
   ],
   "source": [
    "lst[-1]"
   ]
  },
  {
   "cell_type": "code",
   "execution_count": 4,
   "id": "09fd2c94",
   "metadata": {},
   "outputs": [
    {
     "data": {
      "text/plain": [
       "[4, 3, 2, 1]"
      ]
     },
     "execution_count": 4,
     "metadata": {},
     "output_type": "execute_result"
    }
   ],
   "source": [
    "lst[::-1]"
   ]
  },
  {
   "cell_type": "code",
   "execution_count": 5,
   "id": "cd6b0960",
   "metadata": {},
   "outputs": [
    {
     "data": {
      "text/plain": [
       "[1, 2, 3]"
      ]
     },
     "execution_count": 5,
     "metadata": {},
     "output_type": "execute_result"
    }
   ],
   "source": [
    "lst[:-1]"
   ]
  },
  {
   "cell_type": "code",
   "execution_count": 11,
   "id": "20a00ed1",
   "metadata": {},
   "outputs": [],
   "source": [
    "lst=[\"well1\",\"well2\",\"Well3\"]"
   ]
  },
  {
   "cell_type": "code",
   "execution_count": 12,
   "id": "81857fc7",
   "metadata": {},
   "outputs": [
    {
     "name": "stdout",
     "output_type": "stream",
     "text": [
      "0\n"
     ]
    }
   ],
   "source": [
    "if \"well1\" in lst:\n",
    "    print(lst.index(\"well1\"))"
   ]
  },
  {
   "cell_type": "code",
   "execution_count": 9,
   "id": "c57735fb",
   "metadata": {},
   "outputs": [
    {
     "data": {
      "text/plain": [
       "[0, 1, 2, 3, 4, 5, 6, 7, 8, 9]"
      ]
     },
     "execution_count": 9,
     "metadata": {},
     "output_type": "execute_result"
    }
   ],
   "source": [
    "lst=list(range(10))\n",
    "lst"
   ]
  },
  {
   "cell_type": "code",
   "execution_count": 8,
   "id": "01523b98",
   "metadata": {},
   "outputs": [
    {
     "data": {
      "text/plain": [
       "[0, 2, 4, 6, 8]"
      ]
     },
     "execution_count": 8,
     "metadata": {},
     "output_type": "execute_result"
    }
   ],
   "source": [
    "lst[::2]"
   ]
  },
  {
   "cell_type": "code",
   "execution_count": 23,
   "id": "9b909c55",
   "metadata": {},
   "outputs": [],
   "source": [
    "lst=[\"a\",\"b\",[1,2,3],\"c\",\"d\",\"e\",\"f\"]"
   ]
  },
  {
   "cell_type": "code",
   "execution_count": 24,
   "id": "20a4e84e",
   "metadata": {},
   "outputs": [],
   "source": [
    "f,s,t,*f4=lst"
   ]
  },
  {
   "cell_type": "code",
   "execution_count": 37,
   "id": "1a4d2710",
   "metadata": {},
   "outputs": [],
   "source": [
    "lst1=[1,2,3]\n",
    "lst2=[\"b\",\"c\"]"
   ]
  },
  {
   "cell_type": "code",
   "execution_count": 39,
   "id": "a58621fa",
   "metadata": {},
   "outputs": [
    {
     "data": {
      "text/plain": [
       "[1, 2, 3, 'b', 'c']"
      ]
     },
     "execution_count": 39,
     "metadata": {},
     "output_type": "execute_result"
    }
   ],
   "source": [
    "lst=[*lst1,*lst2]\n",
    "lst"
   ]
  },
  {
   "cell_type": "code",
   "execution_count": 25,
   "id": "2b2670ca",
   "metadata": {},
   "outputs": [
    {
     "data": {
      "text/plain": [
       "['c', 'd', 'e', 'f']"
      ]
     },
     "execution_count": 25,
     "metadata": {},
     "output_type": "execute_result"
    }
   ],
   "source": [
    "f4"
   ]
  },
  {
   "cell_type": "code",
   "execution_count": 28,
   "id": "74ae7563",
   "metadata": {},
   "outputs": [],
   "source": [
    "lst1=[1,2,3,4]\n",
    "lst2=[\"a\",\"b\",\"c\"]"
   ]
  },
  {
   "cell_type": "code",
   "execution_count": 30,
   "id": "3c38ea3b",
   "metadata": {},
   "outputs": [],
   "source": [
    "lst1.append(lst2)"
   ]
  },
  {
   "cell_type": "code",
   "execution_count": 33,
   "id": "42ae92a7",
   "metadata": {},
   "outputs": [
    {
     "data": {
      "text/plain": [
       "[1, 2, 3, 4, ['a', 'b', 'c']]"
      ]
     },
     "execution_count": 33,
     "metadata": {},
     "output_type": "execute_result"
    }
   ],
   "source": [
    "lst1"
   ]
  },
  {
   "cell_type": "code",
   "execution_count": 29,
   "id": "79bb7a5f",
   "metadata": {},
   "outputs": [
    {
     "data": {
      "text/plain": [
       "[1, 2, 3, 4, 'a', 'b', 'c']"
      ]
     },
     "execution_count": 29,
     "metadata": {},
     "output_type": "execute_result"
    }
   ],
   "source": [
    "lst1+lst2"
   ]
  },
  {
   "cell_type": "code",
   "execution_count": 35,
   "id": "da52dc4a",
   "metadata": {},
   "outputs": [
    {
     "name": "stdout",
     "output_type": "stream",
     "text": [
      "1\n",
      "2\n",
      "3\n",
      "4\n",
      "['a', 'b', 'c']\n"
     ]
    }
   ],
   "source": [
    "for i in lst1:\n",
    "    print(i)"
   ]
  },
  {
   "cell_type": "code",
   "execution_count": 36,
   "id": "0deaa525",
   "metadata": {},
   "outputs": [
    {
     "name": "stdout",
     "output_type": "stream",
     "text": [
      "0 1\n",
      "1 2\n",
      "2 3\n",
      "3 4\n",
      "4 ['a', 'b', 'c']\n"
     ]
    }
   ],
   "source": [
    "for i,j in enumerate(lst1):\n",
    "    print(i,j)"
   ]
  },
  {
   "cell_type": "code",
   "execution_count": 44,
   "id": "e7e1b91b",
   "metadata": {},
   "outputs": [
    {
     "name": "stdout",
     "output_type": "stream",
     "text": [
      "(1, 'a')\n",
      "(2, 'b')\n",
      "(3, 'c')\n",
      "(4, 'd')\n"
     ]
    }
   ],
   "source": [
    "lst1=[1,2,3,4]\n",
    "lst2=[\"a\",\"b\",\"c\",\"d\"]\n",
    "for j in zip(lst1,lst2):\n",
    "    print(j)"
   ]
  },
  {
   "cell_type": "markdown",
   "id": "12499fe7",
   "metadata": {},
   "source": [
    "## LIST EXCERCISE"
   ]
  },
  {
   "cell_type": "markdown",
   "id": "15c74106",
   "metadata": {},
   "source": [
    "*   EX1: Count How Many Times 'GR' Appears in logs = ['GR', 'RT', 'SP', 'GR', 'NPHI']\n",
    "*   EX2: zones = ['Lower Miocene', 'Upper Miocene', 'Pliocene'], print zone with index\n",
    "*   EX3: porosities = [0.12, 0.15, 0.18, 0.11], calculate avg porosity by loop\n",
    "*   EX4: lst_well=[\"HT1\",\"ht2\",\"ht 3\"], convert to standard format \"HT1\"\n",
    "*   wells = [\"HT-1\", \"HT-2\", \"HT-3\"], oil = [1200, 900, 1500], print well with oil rate\n"
   ]
  },
  {
   "cell_type": "markdown",
   "id": "eaec8721",
   "metadata": {},
   "source": [
    "# TUPLE\n",
    "    * Read-only list\n",
    "    * concat\n",
    "    * access item\n",
    "    * unpacking"
   ]
  },
  {
   "cell_type": "markdown",
   "id": "5cc3f753",
   "metadata": {},
   "source": [
    "1️⃣ What is a Tuple?\n",
    "\n",
    "*   A tuple is an ordered, immutable collection in Python.\n",
    "*   Defined using parentheses () (or without them, via unpacking)."
   ]
  },
  {
   "cell_type": "code",
   "execution_count": null,
   "id": "aab5fd7d",
   "metadata": {},
   "outputs": [],
   "source": [
    "my_tuple = (1, 2, 3)\n",
    "another_tuple = \"apple\", \"banana\", \"cherry\"  # parentheses optional"
   ]
  },
  {
   "cell_type": "markdown",
   "id": "3bdeb547",
   "metadata": {},
   "source": [
    "✅ Key features:\n",
    "\n",
    "✅ Ordered → elements keep their position.\n",
    "\n",
    "✅ Immutable → cannot be changed after creation.\n",
    "\n",
    "✅ Allows duplicates."
   ]
  },
  {
   "cell_type": "markdown",
   "id": "87f55a03",
   "metadata": {},
   "source": [
    "2️⃣ Creating Tuples"
   ]
  },
  {
   "cell_type": "code",
   "execution_count": null,
   "id": "09261d0d",
   "metadata": {},
   "outputs": [],
   "source": [
    "# Empty tuple\n",
    "empty = ()\n",
    "\n",
    "# Single-element tuple (note the comma!)\n",
    "single = (5,)\n",
    "\n",
    "# Mixed data types\n",
    "mixed = (1, \"hello\", 3.5)\n",
    "\n",
    "# Nested tuple\n",
    "nested = (1, (2, 3), [4, 5])\n"
   ]
  },
  {
   "cell_type": "markdown",
   "id": "7fcfd45e",
   "metadata": {},
   "source": [
    "3️⃣ Accessing Tuples"
   ]
  },
  {
   "cell_type": "code",
   "execution_count": null,
   "id": "a2fb891b",
   "metadata": {},
   "outputs": [],
   "source": [
    "fruits = (\"apple\", \"banana\", \"cherry\")\n",
    "print(fruits[0])   # apple\n",
    "print(fruits[-1])  # cherry\n",
    "print(fruits[0:2]) # ('apple', 'banana')\n"
   ]
  },
  {
   "cell_type": "markdown",
   "id": "8a5124bf",
   "metadata": {},
   "source": [
    "4️⃣ Tuple Operations"
   ]
  },
  {
   "cell_type": "code",
   "execution_count": null,
   "id": "6fa54ebb",
   "metadata": {},
   "outputs": [],
   "source": [
    "a = (1, 2)\n",
    "b = (3, 4)\n",
    "\n",
    "# Concatenation\n",
    "print(a + b)      # (1, 2, 3, 4)\n",
    "\n",
    "# Repetition\n",
    "print(a * 3)      # (1, 2, 1, 2, 1, 2)\n",
    "\n",
    "# Membership\n",
    "print(2 in a)     # True\n"
   ]
  },
  {
   "cell_type": "markdown",
   "id": "32a2e661",
   "metadata": {},
   "source": [
    "5️⃣ Tuple Methods"
   ]
  },
  {
   "cell_type": "code",
   "execution_count": null,
   "id": "8c63f126",
   "metadata": {},
   "outputs": [],
   "source": [
    "nums = (1, 2, 3, 2)\n",
    "print(nums.count(2))   # 2\n",
    "print(nums.index(3))   # 2"
   ]
  },
  {
   "cell_type": "markdown",
   "id": "cfc97565",
   "metadata": {},
   "source": [
    "6️⃣ Tuple Unpacking"
   ]
  },
  {
   "cell_type": "code",
   "execution_count": null,
   "id": "c19b4353",
   "metadata": {},
   "outputs": [],
   "source": [
    "person = (\"John\", 25, \"USA\")\n",
    "name, age, country = person\n",
    "print(name)    # John\n"
   ]
  },
  {
   "cell_type": "code",
   "execution_count": null,
   "id": "382db9bf",
   "metadata": {},
   "outputs": [],
   "source": [
    "nums = (1, 2, 3, 4, 5)\n",
    "a, b, *rest = nums\n",
    "print(rest)    # [3, 4, 5]\n"
   ]
  },
  {
   "cell_type": "markdown",
   "id": "dadb34ad",
   "metadata": {},
   "source": [
    "7️⃣ Why use Tuples?\n",
    "\n",
    "    ✔ Data should not change (e.g., coordinates, database records).\n",
    "    ✔ Slightly faster than lists.\n",
    "    ✔ Can be used as keys in dictionaries (lists cannot)."
   ]
  },
  {
   "cell_type": "markdown",
   "id": "12563806",
   "metadata": {},
   "source": [
    "# SET\n",
    "    * Unique (remove duplicates)\n",
    "    * Union (|)--> return new set either in 1st or 2nd set\n",
    "    * Intersection (&)--> return new set in both\n",
    "    * Different (-)--> different between two set\n",
    "    * Symetric different (^)--> either in first or second set but not both\n",
    "\n"
   ]
  },
  {
   "cell_type": "markdown",
   "id": "958d38bf",
   "metadata": {},
   "source": [
    "✅ 1. What is a Set?\n",
    "\n",
    "*   A set is an unordered, mutable collection of unique elements.\n",
    "\n",
    "*   Defined using curly braces {} or the set() constructor."
   ]
  },
  {
   "cell_type": "code",
   "execution_count": null,
   "id": "f8c81142",
   "metadata": {},
   "outputs": [],
   "source": [
    "fruits = {\"apple\", \"banana\", \"cherry\"}"
   ]
  },
  {
   "cell_type": "markdown",
   "id": "48ed9e99",
   "metadata": {},
   "source": [
    "✅ Key features:\n",
    "\n",
    "*   Unordered → No indexing (no fruits[0]).\n",
    "\n",
    "*   Unique elements → Automatically removes duplicates.\n",
    "\n",
    "*   Mutable → You can add/remove items."
   ]
  },
  {
   "cell_type": "markdown",
   "id": "0bfb301c",
   "metadata": {},
   "source": [
    "✅ 2. Creating Sets"
   ]
  },
  {
   "cell_type": "code",
   "execution_count": null,
   "id": "d1cc6696",
   "metadata": {},
   "outputs": [],
   "source": [
    "empty = set()                 # Empty set (not {} – that’s a dict)\n",
    "numbers = {1, 2, 3, 4}        # Set of integers\n",
    "mixed = {1, \"apple\", 3.5}     # Mixed types\n",
    "duplicates = {1, 1, 2, 2, 3}  # {1, 2, 3} (duplicates removed)\n"
   ]
  },
  {
   "cell_type": "markdown",
   "id": "611cafc5",
   "metadata": {},
   "source": [
    "✅ 3. Basic Set Operations"
   ]
  },
  {
   "cell_type": "code",
   "execution_count": null,
   "id": "e48be849",
   "metadata": {},
   "outputs": [],
   "source": [
    "A = {1, 2, 3}\n",
    "B = {3, 4, 5}\n",
    "\n",
    "print(A | B)   # UNION → {1, 2, 3, 4, 5}\n",
    "print(A & B)   # INTERSECTION → {3}\n",
    "print(A - B)   # DIFFERENCE → {1, 2}\n",
    "print(A ^ B)   # SYMMETRIC DIFFERENCE → {1, 2, 4, 5}\n"
   ]
  },
  {
   "cell_type": "markdown",
   "id": "cfb40647",
   "metadata": {},
   "source": [
    "✅ 4. Adding & Removing Items"
   ]
  },
  {
   "cell_type": "code",
   "execution_count": null,
   "id": "6610948a",
   "metadata": {},
   "outputs": [],
   "source": [
    "fruits = {\"apple\", \"banana\"}\n",
    "\n",
    "# Add\n",
    "fruits.add(\"cherry\")           # Add one item\n",
    "\n",
    "# Add multiple\n",
    "fruits.update([\"mango\", \"orange\"])\n",
    "\n",
    "# Remove (error if not found)\n",
    "fruits.remove(\"banana\")\n",
    "\n",
    "# Remove (safe)\n",
    "fruits.discard(\"banana\")       # No error if missing\n",
    "\n",
    "# Pop (removes random item)\n",
    "item = fruits.pop()\n",
    "\n",
    "# Clear all\n",
    "fruits.clear()\n"
   ]
  },
  {
   "cell_type": "markdown",
   "id": "33f9a373",
   "metadata": {},
   "source": [
    "✅ 5. Checking Membership"
   ]
  },
  {
   "cell_type": "code",
   "execution_count": null,
   "id": "b5d9b73c",
   "metadata": {},
   "outputs": [],
   "source": [
    "fruits = {\"apple\", \"banana\", \"cherry\"}\n",
    "print(\"apple\" in fruits)      # True\n",
    "print(\"grape\" not in fruits)  # True\n"
   ]
  },
  {
   "cell_type": "markdown",
   "id": "a4cac13f",
   "metadata": {},
   "source": [
    "✅ 6. Set Methods"
   ]
  },
  {
   "cell_type": "markdown",
   "id": "afd69e6b",
   "metadata": {},
   "source": [
    "| Method                   | Description                             |\n",
    "| ------------------------ | --------------------------------------- |\n",
    "| `add(x)`                 | Add an element `x`                      |\n",
    "| `update(iterable)`       | Add multiple items                      |\n",
    "| `remove(x)`              | Remove element (error if missing)       |\n",
    "| `discard(x)`             | Remove element (no error if missing)    |\n",
    "| `pop()`                  | Remove and return **random** item       |\n",
    "| `clear()`                | Remove all items                        |\n",
    "| `copy()`                 | Shallow copy                            |\n",
    "| `union()`                | Return union of sets                    |\n",
    "| `intersection()`         | Return intersection                     |\n",
    "| `difference()`           | Return difference                       |\n",
    "| `symmetric_difference()` | Return symmetric difference             |\n",
    "| `issubset()`             | Check if one set is subset of another   |\n",
    "| `issuperset()`           | Check if one set is superset of another |\n",
    "| `isdisjoint()`           | True if no items in common              |\n"
   ]
  },
  {
   "cell_type": "markdown",
   "id": "2b26511f",
   "metadata": {},
   "source": [
    "✅ 7. Why Use Sets?\n",
    "*   Remove duplicates automatically.\n",
    "*    Useful for membership testing (faster than lists).\n",
    "*   Handy for mathematical set operations (union, intersection)."
   ]
  },
  {
   "cell_type": "markdown",
   "id": "fb234674",
   "metadata": {},
   "source": [
    "# DICTIONARY\n",
    "    * declare\n",
    "    * access by key\n",
    "    * add new key-val\n",
    "    * access value by key, use \"get\" function\n",
    "    * loop over dictionary (k,v,dct.items)\n",
    "    * dictionary comprehension\n",
    "\n"
   ]
  },
  {
   "cell_type": "markdown",
   "id": "463cb495",
   "metadata": {},
   "source": [
    "✅ 1. What is a Dictionary?\n",
    "\n",
    "*   A dictionary in Python is a mutable, unordered collection of key-value pairs.\n",
    "\n",
    "*   Defined using curly braces {} with key: value syntax."
   ]
  },
  {
   "cell_type": "code",
   "execution_count": null,
   "id": "d471ed5a",
   "metadata": {},
   "outputs": [],
   "source": [
    "person = {\"name\": \"Alice\", \"age\": 25, \"city\": \"Paris\"}"
   ]
  },
  {
   "cell_type": "markdown",
   "id": "30de5171",
   "metadata": {},
   "source": [
    "✅ Key Features:\n",
    "\n",
    "*   Keys must be unique (duplicates overwrite previous).\n",
    "\n",
    "*   Keys must be immutable types (string, number, tuple).\n",
    "\n",
    "*   Values can be any type and can repeat."
   ]
  },
  {
   "cell_type": "markdown",
   "id": "8f6cd7a0",
   "metadata": {},
   "source": [
    "✅ 2. Creating Dictionaries"
   ]
  },
  {
   "cell_type": "code",
   "execution_count": 50,
   "id": "fac3dcf9",
   "metadata": {},
   "outputs": [],
   "source": [
    "# Empty dictionary\n",
    "empty = {}\n",
    "\n",
    "# With values\n",
    "data = {\"name\": \"John\", \"age\": 30}\n",
    "\n",
    "# Using dict() constructor\n",
    "info = dict(name=\"Emma\", age=22)\n",
    "\n",
    "# From list of tuples\n",
    "pairs = dict([(\"brand\", \"Toyota\"), (\"year\", 2024)])\n"
   ]
  },
  {
   "cell_type": "markdown",
   "id": "b199549f",
   "metadata": {},
   "source": [
    "✅ 3. Accessing Dictionary Values"
   ]
  },
  {
   "cell_type": "code",
   "execution_count": null,
   "id": "3e63413d",
   "metadata": {},
   "outputs": [],
   "source": [
    "person = {\"name\": \"Alice\", \"age\": 25}\n",
    "\n",
    "print(person[\"name\"])     # Alice\n",
    "print(person.get(\"age\"))  # 25\n",
    "print(person.get(\"email\", \"Not Found\"))  # Safe access with default value\n"
   ]
  },
  {
   "cell_type": "markdown",
   "id": "0084d2ff",
   "metadata": {},
   "source": [
    "✅ 4. Adding & Updating Items"
   ]
  },
  {
   "cell_type": "code",
   "execution_count": null,
   "id": "f42082ae",
   "metadata": {},
   "outputs": [],
   "source": [
    "person = {\"name\": \"Alice\"}\n",
    "\n",
    "# Add new key-value\n",
    "person[\"age\"] = 25\n",
    "\n",
    "# Update value\n",
    "person[\"name\"] = \"Bob\"\n"
   ]
  },
  {
   "cell_type": "markdown",
   "id": "fb2ddb4c",
   "metadata": {},
   "source": [
    "✅ 5. Removing Items"
   ]
  },
  {
   "cell_type": "code",
   "execution_count": null,
   "id": "6feb7817",
   "metadata": {},
   "outputs": [],
   "source": [
    "person = {\"name\": \"Alice\", \"age\": 25}\n",
    "\n",
    "person.pop(\"age\")         # Removes key and returns value\n",
    "del person[\"name\"]        # Removes key\n",
    "person.clear()            # Removes everything\n"
   ]
  },
  {
   "cell_type": "markdown",
   "id": "fcb94a2a",
   "metadata": {},
   "source": [
    "✅ 6. Dictionary Methods"
   ]
  },
  {
   "cell_type": "markdown",
   "id": "4884b57c",
   "metadata": {},
   "source": [
    "| Method                     | What it does                       |\n",
    "| -------------------------- | ---------------------------------- |\n",
    "| `dict.keys()`              | Returns all keys                   |\n",
    "| `dict.values()`            | Returns all values                 |\n",
    "| `dict.items()`             | Returns key-value pairs (tuples)   |\n",
    "| `dict.get(key[, default])` | Returns value (or default)         |\n",
    "| `dict.update(other_dict)`  | Updates/merges dictionaries        |\n",
    "| `dict.pop(key[, default])` | Removes and returns value          |\n",
    "| `dict.popitem()`           | Removes and returns **last** pair  |\n",
    "| `dict.clear()`             | Removes all items                  |\n",
    "| `dict.copy()`              | Returns a shallow copy             |\n",
    "| `dict.fromkeys(keys, val)` | Creates a new dict with given keys |\n"
   ]
  },
  {
   "cell_type": "markdown",
   "id": "b4c79a70",
   "metadata": {},
   "source": [
    "✅ 7. Iterating Through a Dictionary"
   ]
  },
  {
   "cell_type": "code",
   "execution_count": null,
   "id": "da1642af",
   "metadata": {},
   "outputs": [],
   "source": [
    "person = {\"name\": \"Alice\", \"age\": 25}\n",
    "\n",
    "for key in person:\n",
    "    print(key, person[key])\n",
    "\n",
    "# Or more pythonic\n",
    "for key, value in person.items():\n",
    "    print(f\"{key} → {value}\")\n"
   ]
  },
  {
   "cell_type": "markdown",
   "id": "7da4921f",
   "metadata": {},
   "source": [
    "✅ 8. Nesting Dictionaries"
   ]
  },
  {
   "cell_type": "code",
   "execution_count": null,
   "id": "0f909031",
   "metadata": {},
   "outputs": [],
   "source": [
    "students = {\n",
    "    \"s1\": {\"name\": \"Alice\", \"age\": 20},\n",
    "    \"s2\": {\"name\": \"Bob\", \"age\": 22}\n",
    "}\n",
    "print(students[\"s1\"][\"name\"])  # Alice\n"
   ]
  },
  {
   "cell_type": "markdown",
   "id": "b4527aaf",
   "metadata": {},
   "source": [
    "# UNPACKING OPERATORS\n",
    "    * Introduce (*): Unpack iterables(list,tuple)\n",
    "    * Introduce (**): Unpack dictionaries"
   ]
  },
  {
   "cell_type": "code",
   "execution_count": 58,
   "id": "350c71ab",
   "metadata": {},
   "outputs": [],
   "source": [
    "lst1=[1,2,3]\n",
    "lst2=[*lst1,5,6]"
   ]
  },
  {
   "cell_type": "code",
   "execution_count": 59,
   "id": "2ef435da",
   "metadata": {},
   "outputs": [
    {
     "name": "stdout",
     "output_type": "stream",
     "text": [
      "1 2 3 5 6\n"
     ]
    }
   ],
   "source": [
    "print(*lst2)"
   ]
  },
  {
   "cell_type": "code",
   "execution_count": 61,
   "id": "54cf9db2",
   "metadata": {},
   "outputs": [],
   "source": [
    "lst=[1,2,3,4,5,6]\n",
    "a,b,*c=lst"
   ]
  },
  {
   "cell_type": "code",
   "execution_count": 63,
   "id": "6805cea8",
   "metadata": {},
   "outputs": [],
   "source": [
    "*a,b,c=lst"
   ]
  },
  {
   "cell_type": "code",
   "execution_count": 64,
   "id": "a1b6f0ad",
   "metadata": {},
   "outputs": [
    {
     "data": {
      "text/plain": [
       "([1, 2, 3, 4], 5, 6)"
      ]
     },
     "execution_count": 64,
     "metadata": {},
     "output_type": "execute_result"
    }
   ],
   "source": [
    "a,b,c"
   ]
  },
  {
   "cell_type": "code",
   "execution_count": 65,
   "id": "dc41c7cc",
   "metadata": {},
   "outputs": [],
   "source": [
    "dct1={\"A\":123,\"B\":456}\n",
    "dct2={\"K\":2222,\"D\":777}"
   ]
  },
  {
   "cell_type": "code",
   "execution_count": 67,
   "id": "adb5d391",
   "metadata": {},
   "outputs": [],
   "source": [
    "m={**dct1,**dct2}"
   ]
  },
  {
   "cell_type": "code",
   "execution_count": 68,
   "id": "e848fff6",
   "metadata": {},
   "outputs": [
    {
     "data": {
      "text/plain": [
       "{'A': 123, 'B': 456, 'K': 2222, 'D': 777}"
      ]
     },
     "execution_count": 68,
     "metadata": {},
     "output_type": "execute_result"
    }
   ],
   "source": [
    "m"
   ]
  },
  {
   "cell_type": "markdown",
   "id": "13dd3df4",
   "metadata": {},
   "source": [
    "# FUNCTION"
   ]
  },
  {
   "cell_type": "markdown",
   "id": "d1971365",
   "metadata": {},
   "source": [
    "✅  1. What is a Function?\n",
    " \n",
    "* A function is a block of code designed to perform a specific task.\n",
    "\n",
    "*   Functions help:\n",
    "\n",
    "        +   Organize code\n",
    "\n",
    "        +   Avoid repetition\n",
    "\n",
    "        +   Make code reusable"
   ]
  },
  {
   "cell_type": "code",
   "execution_count": null,
   "id": "37f5b15a",
   "metadata": {},
   "outputs": [],
   "source": [
    "print(\"Hello\")       # prints text\n",
    "len(\"Python\")        # counts letters (returns 6)\n",
    "type(42)             # shows type of value (returns <class 'int'>)"
   ]
  },
  {
   "cell_type": "markdown",
   "id": "272c8dc7",
   "metadata": {},
   "source": [
    "✅ 2. Why Use Functions?\n",
    "\n",
    "    *   Reusability – write once, use many times\n",
    "    *   Readability – clean and structured code\n",
    "    *   Maintainability – easier to update or debug"
   ]
  },
  {
   "cell_type": "markdown",
   "id": "b29e695e",
   "metadata": {},
   "source": [
    "✅ 3. Defining a Function (User‑Defined Functions)"
   ]
  },
  {
   "cell_type": "code",
   "execution_count": 83,
   "id": "b34e0469",
   "metadata": {},
   "outputs": [],
   "source": [
    "def function_name(parameters):\n",
    "    \"\"\"Optional docstring – explains the function.\"\"\"\n",
    "    # code block\n",
    "    return value   # (optional)\n"
   ]
  },
  {
   "cell_type": "code",
   "execution_count": 84,
   "id": "fd80fa7f",
   "metadata": {},
   "outputs": [],
   "source": [
    "def greet():\n",
    "    print(\"Hello, Python!\")\n"
   ]
  },
  {
   "cell_type": "code",
   "execution_count": 85,
   "id": "ee6ed2fa",
   "metadata": {},
   "outputs": [
    {
     "name": "stdout",
     "output_type": "stream",
     "text": [
      "Hello, Python!\n"
     ]
    }
   ],
   "source": [
    "greet()"
   ]
  },
  {
   "cell_type": "markdown",
   "id": "a16d0a4f",
   "metadata": {},
   "source": [
    "✅ 4. Functions with Parameters"
   ]
  },
  {
   "cell_type": "code",
   "execution_count": 86,
   "id": "10dd0b1a",
   "metadata": {},
   "outputs": [],
   "source": [
    "def greet(name):\n",
    "    print(f\"Hello, {name}!\")\n"
   ]
  },
  {
   "cell_type": "code",
   "execution_count": 87,
   "id": "1e1ec9da",
   "metadata": {},
   "outputs": [
    {
     "name": "stdout",
     "output_type": "stream",
     "text": [
      "Hello, Alice!\n",
      "Hello, Bob!\n"
     ]
    }
   ],
   "source": [
    "greet(\"Alice\")    # Hello, Alice!\n",
    "greet(\"Bob\")      # Hello, Bob!\n"
   ]
  },
  {
   "cell_type": "markdown",
   "id": "4333a73b",
   "metadata": {},
   "source": [
    "✅ 5. Functions with Return Values"
   ]
  },
  {
   "cell_type": "code",
   "execution_count": 88,
   "id": "e1476c7f",
   "metadata": {},
   "outputs": [
    {
     "name": "stdout",
     "output_type": "stream",
     "text": [
      "8\n"
     ]
    }
   ],
   "source": [
    "def add(a, b):\n",
    "    return a + b\n",
    "\n",
    "result = add(3, 5)\n",
    "print(result)    # 8\n"
   ]
  },
  {
   "cell_type": "markdown",
   "id": "2f8d0561",
   "metadata": {},
   "source": [
    "✅ 6. Types of Parameters"
   ]
  },
  {
   "cell_type": "markdown",
   "id": "8506dd61",
   "metadata": {},
   "source": [
    "✅ Positional arguments"
   ]
  },
  {
   "cell_type": "code",
   "execution_count": 96,
   "id": "219c30f6",
   "metadata": {},
   "outputs": [
    {
     "name": "stdout",
     "output_type": "stream",
     "text": [
      "6\n"
     ]
    }
   ],
   "source": [
    "def multiply(x, y):\n",
    "    return x * y\n",
    "\n",
    "print(multiply(2, 3))   # 6\n"
   ]
  },
  {
   "cell_type": "markdown",
   "id": "c3de348d",
   "metadata": {},
   "source": [
    "✅ Keyword arguments"
   ]
  },
  {
   "cell_type": "code",
   "execution_count": 97,
   "id": "abf00ea8",
   "metadata": {},
   "outputs": [
    {
     "name": "stdout",
     "output_type": "stream",
     "text": [
      "Linh is 20 years old\n"
     ]
    }
   ],
   "source": [
    "def introduce(name, age):\n",
    "    print(f\"{name} is {age} years old\")\n",
    "\n",
    "introduce(age=20, name=\"Linh\")   # order doesn’t matter\n"
   ]
  },
  {
   "cell_type": "markdown",
   "id": "a4dcb57e",
   "metadata": {},
   "source": [
    "✅ Default arguments"
   ]
  },
  {
   "cell_type": "code",
   "execution_count": 98,
   "id": "9b19e5c7",
   "metadata": {},
   "outputs": [
    {
     "name": "stdout",
     "output_type": "stream",
     "text": [
      "Welcome, Guest!\n",
      "Welcome, Alice!\n"
     ]
    }
   ],
   "source": [
    "def greet(name=\"Guest\"):\n",
    "    print(f\"Welcome, {name}!\")\n",
    "\n",
    "greet()          # Welcome, Guest!\n",
    "greet(\"Alice\")   # Welcome, Alice!\n"
   ]
  },
  {
   "cell_type": "markdown",
   "id": "426c6f0d",
   "metadata": {},
   "source": [
    "✅ Arbitrary arguments"
   ]
  },
  {
   "cell_type": "markdown",
   "id": "528e2a46",
   "metadata": {},
   "source": [
    "    *   args → collects multiple values into a tuple"
   ]
  },
  {
   "cell_type": "code",
   "execution_count": 99,
   "id": "6d40e64b",
   "metadata": {},
   "outputs": [
    {
     "name": "stdout",
     "output_type": "stream",
     "text": [
      "6\n"
     ]
    }
   ],
   "source": [
    "def add_all(*numbers):\n",
    "    return sum(numbers)\n",
    "\n",
    "print(add_all(1, 2, 3))   # 6"
   ]
  },
  {
   "cell_type": "markdown",
   "id": "90cf2cc9",
   "metadata": {},
   "source": [
    "    **  kwargs → collects keyword arguments into a dictionary"
   ]
  },
  {
   "cell_type": "code",
   "execution_count": 100,
   "id": "aaa5c8a1",
   "metadata": {},
   "outputs": [
    {
     "name": "stdout",
     "output_type": "stream",
     "text": [
      "{'name': 'Alice', 'age': 30}\n"
     ]
    }
   ],
   "source": [
    "def describe(**info):\n",
    "    print(info)\n",
    "\n",
    "describe(name=\"Alice\", age=30)\n",
    "# {'name': 'Alice', 'age': 30}\n"
   ]
  },
  {
   "cell_type": "markdown",
   "id": "72175dbf",
   "metadata": {},
   "source": [
    "✅ 7. Variable Scope\n",
    "\n",
    "    *   Local variable – exists inside the function.\n",
    "\n",
    "    *   Global variable – declared outside the function."
   ]
  },
  {
   "cell_type": "code",
   "execution_count": 95,
   "id": "458c8ad6",
   "metadata": {},
   "outputs": [
    {
     "name": "stdout",
     "output_type": "stream",
     "text": [
      "5\n",
      "10\n"
     ]
    }
   ],
   "source": [
    "x = 10  # global\n",
    "\n",
    "def test():\n",
    "    x = 5  # local\n",
    "    print(x)\n",
    "\n",
    "test()       # 5\n",
    "print(x)     # 10\n"
   ]
  },
  {
   "cell_type": "code",
   "execution_count": 106,
   "id": "3bdaeaef",
   "metadata": {},
   "outputs": [],
   "source": [
    "def f(a,/,*,b):\n",
    "    print(a)\n",
    "    print(b)"
   ]
  },
  {
   "cell_type": "code",
   "execution_count": 108,
   "id": "35018487",
   "metadata": {},
   "outputs": [
    {
     "name": "stdout",
     "output_type": "stream",
     "text": [
      "1\n",
      "2\n"
     ]
    }
   ],
   "source": [
    "f(1,b=2)"
   ]
  },
  {
   "cell_type": "markdown",
   "id": "2e2c8bda",
   "metadata": {},
   "source": [
    "## Built-in function\n",
    "    * random\n",
    "    * lambda\n",
    "    * list\n",
    "    * map\n",
    "    * filter\n",
    "    * reduce\n"
   ]
  },
  {
   "cell_type": "markdown",
   "id": "f3d35b34",
   "metadata": {},
   "source": [
    "# RANDOM"
   ]
  },
  {
   "cell_type": "markdown",
   "id": "076f44e9",
   "metadata": {},
   "source": [
    "| Method | Description | Example |\n",
    "|-------|-------------|---------|\n",
    "| `random()` | Returns a float between **0.0 – 1.0** | `random.random()` → `0.3748` |\n",
    "| `randint(a, b)` | Returns **integer** between `a` and `b` (inclusive) | `random.randint(1, 6)` → `4` |\n",
    "| `randrange(start, stop, step)` | Like `range()`, picks **one random number** | `random.randrange(0, 10, 2)` → `6` |\n",
    "| `uniform(a, b)` | Returns **float** between `a` and `b` | `random.uniform(1, 5)` → `3.72` |\n",
    "| `choice(seq)` | Picks **one random item** from sequence | `random.choice(['a','b','c'])` → `'b'` |\n",
    "| `choices(pop, k=n)` | Picks **k items** (with replacement) | `random.choices([1,2,3], k=2)` → `[2, 3]` |\n",
    "| `sample(pop, k=n)` | Picks **k unique items** (no replacement) | `random.sample([1,2,3,4], 2)` → `[1, 4]` |\n",
    "| `shuffle(list)` | **Shuffles** list in place | `random.shuffle(deck)` |\n",
    "| `seed(x)` | Sets seed for **reproducible results** | `random.seed(42)` |\n"
   ]
  },
  {
   "cell_type": "markdown",
   "id": "72ad81e6",
   "metadata": {},
   "source": [
    "# LAMBDA"
   ]
  },
  {
   "cell_type": "markdown",
   "id": "fb7ced32",
   "metadata": {},
   "source": [
    "✅ 1. What is a Lambda Function?\n",
    "\n",
    "*   A lambda function is a small, anonymous function in Python.\n",
    "\n",
    "*   It is defined using the lambda keyword instead of def.\n",
    "\n",
    "*   Often used for short, simple operations where defining a full function is unnecessary."
   ]
  },
  {
   "cell_type": "markdown",
   "id": "c1d76d71",
   "metadata": {},
   "source": [
    "*       syntax: lambda arguments: expression"
   ]
  },
  {
   "cell_type": "code",
   "execution_count": 81,
   "id": "16fe6a79",
   "metadata": {},
   "outputs": [
    {
     "name": "stdout",
     "output_type": "stream",
     "text": [
      "25\n"
     ]
    }
   ],
   "source": [
    "square = lambda x: x * x\n",
    "print(square(5))   # 25\n"
   ]
  },
  {
   "cell_type": "code",
   "execution_count": 82,
   "id": "dc7bd77b",
   "metadata": {},
   "outputs": [
    {
     "name": "stdout",
     "output_type": "stream",
     "text": [
      "10\n"
     ]
    }
   ],
   "source": [
    "add = lambda a, b: a + b\n",
    "print(add(3, 7))   # 10"
   ]
  },
  {
   "cell_type": "code",
   "execution_count": 110,
   "id": "8bdd4e19",
   "metadata": {},
   "outputs": [
    {
     "data": {
      "text/plain": [
       "[1, 5, 6, 20]"
      ]
     },
     "execution_count": 110,
     "metadata": {},
     "output_type": "execute_result"
    }
   ],
   "source": [
    "lst=[1,20,5,6]\n",
    "sorted(lst)"
   ]
  },
  {
   "cell_type": "code",
   "execution_count": 114,
   "id": "e73c8d7c",
   "metadata": {},
   "outputs": [],
   "source": [
    "dct={\"ab\":1,\"b\":23,\"c\":17,\"d\":34}"
   ]
  },
  {
   "cell_type": "code",
   "execution_count": 120,
   "id": "34d8721e",
   "metadata": {},
   "outputs": [
    {
     "data": {
      "text/plain": [
       "['ab', 'b', 'c', 'd']"
      ]
     },
     "execution_count": 120,
     "metadata": {},
     "output_type": "execute_result"
    }
   ],
   "source": [
    "sorted(dct)"
   ]
  },
  {
   "cell_type": "code",
   "execution_count": 121,
   "id": "1d48e1a0",
   "metadata": {},
   "outputs": [],
   "source": [
    "a=sorted(dct,key=lambda key: dct[key])"
   ]
  },
  {
   "cell_type": "code",
   "execution_count": 122,
   "id": "a3528ee1",
   "metadata": {},
   "outputs": [
    {
     "data": {
      "text/plain": [
       "['ab', 'c', 'b', 'd']"
      ]
     },
     "execution_count": 122,
     "metadata": {},
     "output_type": "execute_result"
    }
   ],
   "source": [
    "a"
   ]
  },
  {
   "cell_type": "code",
   "execution_count": 123,
   "id": "6abc0f9a",
   "metadata": {},
   "outputs": [
    {
     "name": "stdout",
     "output_type": "stream",
     "text": [
      "[(2, 'apple'), (1, 'banana'), (3, 'cherry')]\n"
     ]
    }
   ],
   "source": [
    "pairs = [(1, 'banana'), (2, 'apple'), (3, 'cherry')]\n",
    "sorted_pairs = sorted(pairs, key=lambda x: x[1])\n",
    "print(sorted_pairs)\n",
    "# [(2, 'apple'), (1, 'banana'), (3, 'cherry')]"
   ]
  },
  {
   "cell_type": "markdown",
   "id": "4a8fc74f",
   "metadata": {},
   "source": []
  },
  {
   "cell_type": "markdown",
   "id": "f2deac21",
   "metadata": {},
   "source": [
    "✅ 1. What is List Comprehension?\n",
    "\n",
    "*   A list comprehension is a short, concise way to create a new list from an existing iterable (like a list, tuple, or range).\n",
    "\n",
    "*   It’s often faster and cleaner than using for loops."
   ]
  },
  {
   "cell_type": "markdown",
   "id": "9c4859bf",
   "metadata": {},
   "source": [
    "    *   syntax: [new_item for item in iterable if condition]\n"
   ]
  },
  {
   "cell_type": "markdown",
   "id": "968f3df8",
   "metadata": {},
   "source": [
    "| Pattern | Example | Output |\n",
    "|--------|---------|--------|\n",
    "| **Basic** | `[x*2 for x in [1,2,3]]` | `[2, 4, 6]` |\n",
    "| **With condition** | `[x for x in range(5) if x%2==0]` | `[0, 2, 4]` |\n",
    "| **With if-else** | `[x if x>0 else 0 for x in [-1,2,-3]]` | `[0, 2, 0]` |\n",
    "| **Nested** | `[num for row in [[1,2],[3,4]] for num in row]` | `[1,2,3,4]` |\n"
   ]
  },
  {
   "cell_type": "code",
   "execution_count": 78,
   "id": "6e83506e",
   "metadata": {},
   "outputs": [
    {
     "name": "stdout",
     "output_type": "stream",
     "text": [
      "[1, 4, 9, 16, 25]\n"
     ]
    }
   ],
   "source": [
    "numbers = [1, 2, 3, 4, 5]\n",
    "squares = [n**2 for n in numbers]\n",
    "print(squares)   # [1, 4, 9, 16, 25]"
   ]
  },
  {
   "cell_type": "code",
   "execution_count": 79,
   "id": "13b260c6",
   "metadata": {},
   "outputs": [
    {
     "name": "stdout",
     "output_type": "stream",
     "text": [
      "['odd', 'even', 'odd', 'even', 'odd']\n"
     ]
    }
   ],
   "source": [
    "numbers = [1, 2, 3, 4, 5]\n",
    "labels = [\"even\" if n % 2 == 0 else \"odd\" for n in numbers]\n",
    "print(labels)   # ['odd', 'even', 'odd', 'even', 'odd']\n"
   ]
  },
  {
   "cell_type": "code",
   "execution_count": 80,
   "id": "fa2d3696",
   "metadata": {},
   "outputs": [
    {
     "name": "stdout",
     "output_type": "stream",
     "text": [
      "[1, 2, 3, 4, 5, 6]\n"
     ]
    }
   ],
   "source": [
    "matrix = [[1, 2], [3, 4], [5, 6]]\n",
    "flat = [num for row in matrix for num in row]\n",
    "print(flat)   # [1, 2, 3, 4, 5, 6]"
   ]
  },
  {
   "cell_type": "markdown",
   "id": "a1ab504e",
   "metadata": {},
   "source": [
    "✅ 1. map()\n",
    "\n",
    "*   What it does: Applies a function to each item in an iterable (list, tuple, etc.) and returns a map object (you often convert to list()).\n",
    "*   Output and input are same length"
   ]
  },
  {
   "cell_type": "code",
   "execution_count": null,
   "id": "aac2fbba",
   "metadata": {},
   "outputs": [],
   "source": [
    "numbers = [1, 2, 3, 4]\n",
    "result = map(lambda x: x * 2, numbers)\n",
    "print(list(result))   # [2, 4, 6, 8]"
   ]
  },
  {
   "cell_type": "markdown",
   "id": "dbe27138",
   "metadata": {},
   "source": [
    "✅ Key points:\n",
    "\n",
    "*   Doesn’t modify the original list.\n",
    "\n",
    "*   Returns an iterator (not a list by default)."
   ]
  },
  {
   "cell_type": "markdown",
   "id": "dcca30a2",
   "metadata": {},
   "source": [
    "✅ 2. filter()\n",
    "\n",
    "*   What it does: Applies a function to each item and keeps only items where the function returns True.\n",
    "*   Output and input maybe have the same length"
   ]
  },
  {
   "cell_type": "code",
   "execution_count": null,
   "id": "e64fcd50",
   "metadata": {},
   "outputs": [],
   "source": [
    "numbers = [1, 2, 3, 4, 5]\n",
    "result = filter(lambda x: x % 2 == 0, numbers)\n",
    "print(list(result))   # [2, 4]\n"
   ]
  },
  {
   "cell_type": "code",
   "execution_count": 151,
   "id": "36154ca0",
   "metadata": {},
   "outputs": [],
   "source": [
    "numbers=[10,20,15,34,45]\n",
    "filter_=list(filter(lambda x: x%2==0, numbers))"
   ]
  },
  {
   "cell_type": "code",
   "execution_count": 152,
   "id": "3e23ccc8",
   "metadata": {},
   "outputs": [
    {
     "data": {
      "text/plain": [
       "[10, 20, 34]"
      ]
     },
     "execution_count": 152,
     "metadata": {},
     "output_type": "execute_result"
    }
   ],
   "source": [
    "filter_"
   ]
  },
  {
   "cell_type": "code",
   "execution_count": 131,
   "id": "beabdd03",
   "metadata": {},
   "outputs": [
    {
     "data": {
      "text/plain": [
       "[('Well1', 5000)]"
      ]
     },
     "execution_count": 131,
     "metadata": {},
     "output_type": "execute_result"
    }
   ],
   "source": [
    "items=[(\"Well1\",5000),(\"Well2\",4000),(\"Well3\",4500)]\n",
    "[item for item in items if item[1]>4500]"
   ]
  },
  {
   "cell_type": "code",
   "execution_count": 144,
   "id": "f07841de",
   "metadata": {},
   "outputs": [],
   "source": [
    "item_=list(filter(lambda x: x[1]>4500,items))"
   ]
  },
  {
   "cell_type": "code",
   "execution_count": 145,
   "id": "a7f4b863",
   "metadata": {},
   "outputs": [
    {
     "data": {
      "text/plain": [
       "[('Well1', 5000)]"
      ]
     },
     "execution_count": 145,
     "metadata": {},
     "output_type": "execute_result"
    }
   ],
   "source": [
    "item_"
   ]
  },
  {
   "cell_type": "markdown",
   "id": "7813dde6",
   "metadata": {},
   "source": [
    "| Function     | What It Does              | Returns                      | Example                      |\n",
    "| ------------ | ------------------------- | ---------------------------- | ---------------------------- |\n",
    "| **map()**    | **Transforms** every item | New iterable (same length)   | `[2, 4, 6]` from `[1, 2, 3]` |\n",
    "| **filter()** | **Selects** certain items | New iterable (maybe shorter) | `[2, 4]` from `[1, 2, 3, 4]` |\n",
    "\n"
   ]
  },
  {
   "cell_type": "markdown",
   "id": "7cd8dcce",
   "metadata": {},
   "source": [
    "# REDUCE"
   ]
  },
  {
   "cell_type": "markdown",
   "id": "a6982d92",
   "metadata": {},
   "source": [
    "✅ 1️⃣ What is reduce()?\n",
    "\n",
    "*   reduce() is NOT a built‑in function.\n",
    "\n",
    "*   It comes from the functools module.\n",
    "\n",
    "*   It applies a function cumulatively to the items of an iterable, so that:\n",
    "\n",
    "*   The first two items are processed.\n",
    "\n",
    "*   Then the result is combined with the next item.\n",
    "\n",
    "*   Continues until one final value remains."
   ]
  },
  {
   "cell_type": "code",
   "execution_count": null,
   "id": "3d65df51",
   "metadata": {},
   "outputs": [],
   "source": [
    "from functools import reduce\n",
    "reduce(function, iterable[, initializer])#"
   ]
  },
  {
   "cell_type": "markdown",
   "id": "88d0cf56",
   "metadata": {},
   "source": [
    "*   function: must take two arguments.\n",
    "\n",
    "*   iterable: list, tuple, etc.\n",
    "\n",
    "*   initializer (optional): a starting value.\n"
   ]
  },
  {
   "cell_type": "markdown",
   "id": "2f88e044",
   "metadata": {},
   "source": [
    "✅ 2️⃣ How Does It Work?"
   ]
  },
  {
   "cell_type": "code",
   "execution_count": null,
   "id": "454ac158",
   "metadata": {},
   "outputs": [],
   "source": [
    "[1, 2, 3, 4]\n",
    "(((1 + 2) + 3) + 4) → 10"
   ]
  },
  {
   "cell_type": "markdown",
   "id": "ae0a1536",
   "metadata": {},
   "source": [
    "✅ 3️⃣ Simple Example – Sum Numbers"
   ]
  },
  {
   "cell_type": "code",
   "execution_count": null,
   "id": "43d59540",
   "metadata": {},
   "outputs": [],
   "source": [
    "from functools import reduce\n",
    "\n",
    "numbers = [1, 2, 3, 4]\n",
    "result = reduce(lambda x, y: x + y, numbers)\n",
    "print(result)   # 10"
   ]
  },
  {
   "cell_type": "markdown",
   "id": "2044de62",
   "metadata": {},
   "source": [
    "✅ 4️⃣ Multiplication Example"
   ]
  },
  {
   "cell_type": "code",
   "execution_count": null,
   "id": "c992ae8d",
   "metadata": {},
   "outputs": [],
   "source": [
    "product = reduce(lambda x, y: x * y, [1, 2, 3, 4])\n",
    "print(product)   # 24"
   ]
  },
  {
   "cell_type": "markdown",
   "id": "8c4b3619",
   "metadata": {},
   "source": [
    "✅ 5️⃣ Using an Initializer"
   ]
  },
  {
   "cell_type": "code",
   "execution_count": null,
   "id": "5471e39f",
   "metadata": {},
   "outputs": [],
   "source": [
    "result = reduce(lambda x, y: x + y, [1, 2, 3], 10)\n",
    "print(result)   # 16   (10 + 1 + 2 + 3)"
   ]
  },
  {
   "cell_type": "markdown",
   "id": "e79deda7",
   "metadata": {},
   "source": [
    "✅ 6️⃣ Real‑World Examples\n",
    "\n",
    "✅ Find the longest word in a list:"
   ]
  },
  {
   "cell_type": "code",
   "execution_count": null,
   "id": "5a8bc2b1",
   "metadata": {},
   "outputs": [],
   "source": [
    "words = [\"apple\", \"banana\", \"cherry\", \"kiwi\"]\n",
    "longest = reduce(lambda x, y: x if len(x) > len(y) else y, words)\n",
    "print(longest)   # banana\n"
   ]
  },
  {
   "cell_type": "markdown",
   "id": "6bdaf276",
   "metadata": {},
   "source": [
    "✅ Flatten a nested list:"
   ]
  },
  {
   "cell_type": "code",
   "execution_count": null,
   "id": "70fe4f88",
   "metadata": {},
   "outputs": [],
   "source": [
    "lists = [[1, 2], [3, 4], [5, 6]]\n",
    "flat = reduce(lambda x, y: x + y, lists)\n",
    "print(flat)   # [1, 2, 3, 4, 5, 6]"
   ]
  },
  {
   "cell_type": "markdown",
   "id": "13bd025a",
   "metadata": {},
   "source": [
    "| Use Case       | Example Code | Result |\n",
    "|----------------|--------------|--------|\n",
    "| Sum numbers    | `reduce(lambda x,y: x+y, [1,2,3])` | 6 |\n",
    "| Multiply       | `reduce(lambda x,y: x*y, [1,2,3,4])` | 24 |\n",
    "| With initializer | `reduce(lambda x,y: x+y, [1,2,3], 10)` | 16 |\n",
    "| Longest word   | `reduce(lambda x,y: x if len(x)>len(y) else y, words)` | 'banana' |\n",
    "| Flatten list   | `reduce(lambda x,y: x+y, [[1,2],[3,4]])` | [1,2,3,4] |\n"
   ]
  }
 ],
 "metadata": {
  "kernelspec": {
   "display_name": "Python 3",
   "language": "python",
   "name": "python3"
  },
  "language_info": {
   "codemirror_mode": {
    "name": "ipython",
    "version": 3
   },
   "file_extension": ".py",
   "mimetype": "text/x-python",
   "name": "python",
   "nbconvert_exporter": "python",
   "pygments_lexer": "ipython3",
   "version": "3.12.2"
  }
 },
 "nbformat": 4,
 "nbformat_minor": 5
}

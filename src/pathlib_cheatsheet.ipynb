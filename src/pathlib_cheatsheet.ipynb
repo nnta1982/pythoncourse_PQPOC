{
 "cells": [
  {
   "cell_type": "markdown",
   "id": "4a886c6e",
   "metadata": {},
   "source": [
    "# 📘 Pathlib Cheatsheet for Working with Files"
   ]
  },
  {
   "cell_type": "markdown",
   "id": "a4c86421",
   "metadata": {},
   "source": [
    "![path shortcut explain](../img/path_shortcut.png)"
   ]
  },
  {
   "cell_type": "markdown",
   "id": "a2617f3c",
   "metadata": {},
   "source": [
    "## ✅ 1. Import và tạo đường dẫn"
   ]
  },
  {
   "cell_type": "code",
   "execution_count": 40,
   "id": "d3988872",
   "metadata": {},
   "outputs": [],
   "source": [
    "from pathlib import Path\n",
    "\n",
    "# Tạo Path từ chuỗi\n",
    "p = Path(\"../../Python_courses\")"
   ]
  },
  {
   "cell_type": "code",
   "execution_count": 41,
   "id": "67ac5e2e",
   "metadata": {},
   "outputs": [
    {
     "data": {
      "text/plain": [
       "WindowsPath('../../Python_courses')"
      ]
     },
     "execution_count": 41,
     "metadata": {},
     "output_type": "execute_result"
    }
   ],
   "source": [
    "p"
   ]
  },
  {
   "cell_type": "markdown",
   "id": "2a794f18",
   "metadata": {},
   "source": [
    "## ✅ 2. Kiểm tra Path"
   ]
  },
  {
   "cell_type": "code",
   "execution_count": 43,
   "id": "ae222cef",
   "metadata": {},
   "outputs": [
    {
     "data": {
      "text/plain": [
       "True"
      ]
     },
     "execution_count": 43,
     "metadata": {},
     "output_type": "execute_result"
    }
   ],
   "source": [
    "p.exists()         # True nếu tồn tại"
   ]
  },
  {
   "cell_type": "code",
   "execution_count": 44,
   "id": "bab35c81",
   "metadata": {},
   "outputs": [
    {
     "data": {
      "text/plain": [
       "True"
      ]
     },
     "execution_count": 44,
     "metadata": {},
     "output_type": "execute_result"
    }
   ],
   "source": [
    "p.is_dir()         # True nếu là folder"
   ]
  },
  {
   "cell_type": "code",
   "execution_count": 45,
   "id": "e4ab7651",
   "metadata": {},
   "outputs": [
    {
     "data": {
      "text/plain": [
       "False"
      ]
     },
     "execution_count": 45,
     "metadata": {},
     "output_type": "execute_result"
    }
   ],
   "source": [
    "p.is_file()        # True nếu là file\n"
   ]
  },
  {
   "cell_type": "markdown",
   "id": "3425c5f1",
   "metadata": {},
   "source": [
    "## ✅ 3. Lấy thông tin file"
   ]
  },
  {
   "cell_type": "code",
   "execution_count": 47,
   "id": "4678109f",
   "metadata": {},
   "outputs": [
    {
     "data": {
      "text/plain": [
       "('..', '..', 'Python_courses')"
      ]
     },
     "execution_count": 47,
     "metadata": {},
     "output_type": "execute_result"
    }
   ],
   "source": [
    "p.name     # 'example.sgy'\n",
    "p.stem     # 'example'\n",
    "p.suffix   # '.sgy'\n",
    "p.parent   # Path('data/seismic')\n",
    "p.parts    # ('data', 'seismic', 'example.sgy')"
   ]
  },
  {
   "cell_type": "code",
   "execution_count": 48,
   "id": "f6d79867",
   "metadata": {},
   "outputs": [],
   "source": [
    "folder = Path(\"../../Python_courses\")"
   ]
  },
  {
   "cell_type": "code",
   "execution_count": 50,
   "id": "9b2bacae",
   "metadata": {},
   "outputs": [
    {
     "name": "stdout",
     "output_type": "stream",
     "text": [
      "[WindowsPath('../../Python_courses/data/15-9-19_SR_COMP.las'), WindowsPath('../../Python_courses/data/15_9-F-11A.LAS'), WindowsPath('../../Python_courses/data/15_9-F-11B.LAS'), WindowsPath('../../Python_courses/data/15_9-F-1A.LAS'), WindowsPath('../../Python_courses/data/15_9-F-1B.LAS'), WindowsPath('../../Python_courses/data/15_9-F-1C.LAS')]\n"
     ]
    }
   ],
   "source": [
    "for f in folder.iterdir():\n",
    "    las_files = list(folder.rglob(\"*.las\"))\n",
    "print(las_files)"
   ]
  },
  {
   "cell_type": "markdown",
   "id": "49678636",
   "metadata": {},
   "source": [
    "## ✅ 4. Duyệt folder & lọc file"
   ]
  },
  {
   "cell_type": "code",
   "execution_count": null,
   "id": "79010e11",
   "metadata": {},
   "outputs": [],
   "source": [
    "folder = Path(\"../src\")\n",
    "all_files = list(folder.glob(\"*\"))            # tất cả file + folder\n",
    "sgy_files = list(folder.glob(\"*.ipynb\"))        # các file .sgy\n",
    "all_recursive = list(folder.rglob(\"*.las\"))   # tìm *.las trong toàn bộ folder con\n",
    "\n",
    "# for f in folder.iterdir():\n",
    "#     print(f.name)"
   ]
  },
  {
   "cell_type": "markdown",
   "id": "6877e44e",
   "metadata": {},
   "source": [
    "## ✅ 5. Đọc file với pandas"
   ]
  },
  {
   "cell_type": "code",
   "execution_count": null,
   "id": "83d6f9ad",
   "metadata": {},
   "outputs": [],
   "source": [
    "import pandas as pd\n",
    "\n",
    "csv_path = Path(\"data\") / \"log.csv\" #ghép path\n",
    "df = pd.read_csv(csv_path)"
   ]
  },
  {
   "cell_type": "markdown",
   "id": "e8667309",
   "metadata": {},
   "source": [
    "## ✅ 6. Tạo / xoá / copy file (với shutil)"
   ]
  },
  {
   "cell_type": "code",
   "execution_count": null,
   "id": "d58045b2",
   "metadata": {},
   "outputs": [],
   "source": [
    "p.mkdir(parents=True, exist_ok=True)  # tạo folder nếu chưa có\n",
    "\n",
    "p.unlink()   # xoá file\n",
    "p.rmdir()    # xoá folder (nếu rỗng)\n",
    "\n",
    "import shutil\n",
    "shutil.copy(p, Path(\"backup\") / p.name)"
   ]
  },
  {
   "cell_type": "markdown",
   "id": "6bf14fe0",
   "metadata": {},
   "source": [
    "## ✅ 7. Kết hợp Path thông minh"
   ]
  },
  {
   "cell_type": "code",
   "execution_count": null,
   "id": "75789422",
   "metadata": {},
   "outputs": [],
   "source": [
    "base = Path(\"data\")\n",
    "sub = base / \"processed\" / \"log.csv\" "
   ]
  },
  {
   "cell_type": "markdown",
   "id": "9fc3680b",
   "metadata": {},
   "source": [
    "## ✅ 8. Đổi tên file"
   ]
  },
  {
   "cell_type": "code",
   "execution_count": null,
   "id": "0bb22434",
   "metadata": {},
   "outputs": [],
   "source": [
    "new_name = p.with_name(\"renamed.sgy\")     # đổi tên file\n",
    "new_ext  = p.with_suffix(\".csv\")          # đổi đuôi file"
   ]
  },
  {
   "cell_type": "markdown",
   "id": "72cea5ce",
   "metadata": {},
   "source": [
    "## ✅ 9. Đọc & ghi nội dung văn bản đơn giản"
   ]
  },
  {
   "cell_type": "code",
   "execution_count": null,
   "id": "da94b531",
   "metadata": {},
   "outputs": [],
   "source": [
    "text = Path(\"notes.txt\").read_text()\n",
    "Path(\"new_notes.txt\").write_text(\"Hello pathlib!\")"
   ]
  },
  {
   "cell_type": "markdown",
   "id": "b655c9e1",
   "metadata": {},
   "source": [
    "## 🔁 So sánh pathlib vs os.path"
   ]
  },
  {
   "cell_type": "markdown",
   "id": "64aea275",
   "metadata": {},
   "source": [
    "| Tác vụ            | `os.path`                | `pathlib`                |\n",
    "|-------------------|--------------------------|--------------------------|\n",
    "| Kiểm tra tồn tại  | `os.path.exists(p)`     | `Path(p).exists()`       |\n",
    "| Lấy folder cha    | `os.path.dirname(p)`    | `Path(p).parent`         |\n",
    "| Ghép đường dẫn    | `os.path.join(a, b)`    | `Path(a) / b`            |\n",
    "| Lọc đuôi `.sgy`   | `glob.glob(\"*.sgy\")`    | `Path().glob(\"*.sgy\")`   |"
   ]
  }
 ],
 "metadata": {
  "kernelspec": {
   "display_name": "Python 3",
   "language": "python",
   "name": "python3"
  },
  "language_info": {
   "codemirror_mode": {
    "name": "ipython",
    "version": 3
   },
   "file_extension": ".py",
   "mimetype": "text/x-python",
   "name": "python",
   "nbconvert_exporter": "python",
   "pygments_lexer": "ipython3",
   "version": "3.12.2"
  }
 },
 "nbformat": 4,
 "nbformat_minor": 5
}

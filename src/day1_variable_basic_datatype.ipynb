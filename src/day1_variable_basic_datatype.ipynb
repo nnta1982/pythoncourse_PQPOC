{
 "cells": [
  {
   "cell_type": "markdown",
   "id": "379a136f",
   "metadata": {},
   "source": [
    "## Section 1: Variable"
   ]
  },
  {
   "cell_type": "code",
   "execution_count": 151,
   "id": "9d77b0bd",
   "metadata": {},
   "outputs": [],
   "source": [
    "name=\"tan\" #string\n",
    "pi=3.14 # float\n",
    "int_a=3 # integer\n",
    "bln_check=True"
   ]
  },
  {
   "cell_type": "code",
   "execution_count": 152,
   "id": "80174dd7",
   "metadata": {},
   "outputs": [
    {
     "data": {
      "text/plain": [
       "(str, float, int, bool)"
      ]
     },
     "execution_count": 152,
     "metadata": {},
     "output_type": "execute_result"
    }
   ],
   "source": [
    "type(name),type(pi),type(int_a),type(bln_check) #check type of an variable"
   ]
  },
  {
   "cell_type": "code",
   "execution_count": 153,
   "id": "a74f9ff8",
   "metadata": {},
   "outputs": [
    {
     "data": {
      "text/plain": [
       "'0x12bbe7ba700'"
      ]
     },
     "execution_count": 153,
     "metadata": {},
     "output_type": "execute_result"
    }
   ],
   "source": [
    "hex(id(name)) # check id of an variable in memory"
   ]
  },
  {
   "cell_type": "code",
   "execution_count": 154,
   "id": "1becd978",
   "metadata": {},
   "outputs": [
    {
     "data": {
      "text/plain": [
       "'0x12bc5a457b0'"
      ]
     },
     "execution_count": 154,
     "metadata": {},
     "output_type": "execute_result"
    }
   ],
   "source": [
    "hex(id(pi))"
   ]
  },
  {
   "cell_type": "code",
   "execution_count": 155,
   "id": "aefd951a",
   "metadata": {},
   "outputs": [
    {
     "data": {
      "text/plain": [
       "('0x7ff99ef449f8', '0x7ff99ef449f8')"
      ]
     },
     "execution_count": 155,
     "metadata": {},
     "output_type": "execute_result"
    }
   ],
   "source": [
    "hex(id(int_a)),hex(id(3))"
   ]
  },
  {
   "cell_type": "code",
   "execution_count": 156,
   "id": "f31a220e",
   "metadata": {},
   "outputs": [
    {
     "data": {
      "text/plain": [
       "'0x7ff99ee82c50'"
      ]
     },
     "execution_count": 156,
     "metadata": {},
     "output_type": "execute_result"
    }
   ],
   "source": [
    "hex(id(bln_check))"
   ]
  },
  {
   "cell_type": "markdown",
   "id": "f2f7fbb2",
   "metadata": {},
   "source": [
    "## Section 2: Data Types"
   ]
  },
  {
   "cell_type": "markdown",
   "id": "01ec4610",
   "metadata": {},
   "source": [
    "### String\n",
    "    * Strings\n",
    "    * print string\n",
    "    * slice string\n",
    "    * escape sequence (\\, \\n, \\t)\n",
    "    * format string (use f\"\")\n",
    "    * some string method:\n",
    "    * title/upper/lower/strip/find/replace/split/starwith/index"
   ]
  },
  {
   "cell_type": "markdown",
   "id": "15cf3070",
   "metadata": {},
   "source": [
    "| Slice         | Meaning                         | Example (`\"Python\"`) |\n",
    "| ------------- | ------------------------------- | -------------------- |\n",
    "| `text[a:b]`   | from index `a` to `b-1`         | `text[1:4] → \"yth\"`  |\n",
    "| `text[:b]`    | from start to `b-1`             | `text[:3] → \"Pyt\"`   |\n",
    "| `text[a:]`    | from `a` to end                 | `text[2:] → \"thon\"`  |\n",
    "| `text[a:b:c]` | from `a` to `b-1` with step `c` | `text[::2] → \"Pto\"`  |\n",
    "| `text[-n]`    | last n char                     | `\"nohtyP\"`           |\n",
    "| `text[::-1]`  | reverse string                  | `\"nohtyP\"`           |\n"
   ]
  },
  {
   "cell_type": "code",
   "execution_count": 157,
   "id": "827b75fb",
   "metadata": {},
   "outputs": [
    {
     "data": {
      "text/plain": [
       "str"
      ]
     },
     "execution_count": 157,
     "metadata": {},
     "output_type": "execute_result"
    }
   ],
   "source": [
    "str_var=\"hi everyone!\"\n",
    "type(str_var)"
   ]
  },
  {
   "cell_type": "code",
   "execution_count": 158,
   "id": "0248cf03",
   "metadata": {},
   "outputs": [
    {
     "name": "stdout",
     "output_type": "stream",
     "text": [
      "hi everyone!\n"
     ]
    }
   ],
   "source": [
    "print(str_var)"
   ]
  },
  {
   "cell_type": "code",
   "execution_count": 159,
   "id": "c29f4888",
   "metadata": {},
   "outputs": [
    {
     "data": {
      "text/plain": [
       "'hi ev'"
      ]
     },
     "execution_count": 159,
     "metadata": {},
     "output_type": "execute_result"
    }
   ],
   "source": [
    "str_var[0:5]"
   ]
  },
  {
   "cell_type": "code",
   "execution_count": 160,
   "id": "a9f68066",
   "metadata": {},
   "outputs": [
    {
     "data": {
      "text/plain": [
       "'hi'"
      ]
     },
     "execution_count": 160,
     "metadata": {},
     "output_type": "execute_result"
    }
   ],
   "source": [
    "str_var[:2]"
   ]
  },
  {
   "cell_type": "code",
   "execution_count": 161,
   "id": "85ed600e",
   "metadata": {},
   "outputs": [
    {
     "data": {
      "text/plain": [
       "'everyone!'"
      ]
     },
     "execution_count": 161,
     "metadata": {},
     "output_type": "execute_result"
    }
   ],
   "source": [
    "str_var[3:]"
   ]
  },
  {
   "cell_type": "code",
   "execution_count": 162,
   "id": "51cdf9c6",
   "metadata": {},
   "outputs": [
    {
     "data": {
      "text/plain": [
       "'ien'"
      ]
     },
     "execution_count": 162,
     "metadata": {},
     "output_type": "execute_result"
    }
   ],
   "source": [
    "str_var[1::4]"
   ]
  },
  {
   "cell_type": "code",
   "execution_count": 163,
   "id": "8a43d863",
   "metadata": {},
   "outputs": [
    {
     "data": {
      "text/plain": [
       "'!enoyreve ih'"
      ]
     },
     "execution_count": 163,
     "metadata": {},
     "output_type": "execute_result"
    }
   ],
   "source": [
    "str_var[::-1]"
   ]
  },
  {
   "cell_type": "code",
   "execution_count": 164,
   "id": "951241ac",
   "metadata": {},
   "outputs": [
    {
     "data": {
      "text/plain": [
       "'!'"
      ]
     },
     "execution_count": 164,
     "metadata": {},
     "output_type": "execute_result"
    }
   ],
   "source": [
    "str_var[-1]"
   ]
  },
  {
   "cell_type": "markdown",
   "id": "31c630ec",
   "metadata": {},
   "source": [
    "## Escapse Sequence"
   ]
  },
  {
   "cell_type": "markdown",
   "id": "fd9ce778",
   "metadata": {},
   "source": [
    "| Escape | Meaning      | Example Output                               |\n",
    "| ------ | ------------ | -------------------------------------------- |\n",
    "| `\\\\`   | Backslash    | `print(\"C:\\\\Users\")` → `C:\\Users`            |\n",
    "| `\\'`   | Single quote | `print('It\\'s fine')` → `It's fine`          |\n",
    "| `\\\"`   | Double quote | `print(\"She said \\\"Hi\\\"\")` → `She said \"Hi\"` |\n",
    "| `\\n`   | Newline      | `print(\"Hello\\nWorld\")` →                    |\n",
    "| `\\t`   | Newline      | `print(\"Hello\\tWorld\")` →                    |\n"
   ]
  },
  {
   "cell_type": "code",
   "execution_count": 165,
   "id": "1d0b6ab3",
   "metadata": {},
   "outputs": [
    {
     "name": "stdout",
     "output_type": "stream",
     "text": [
      "hello\n",
      "world\n"
     ]
    }
   ],
   "source": [
    "var=\"hello\\nworld\"\n",
    "print(var)\n"
   ]
  },
  {
   "cell_type": "code",
   "execution_count": 166,
   "id": "51dbef5c",
   "metadata": {},
   "outputs": [
    {
     "name": "stdout",
     "output_type": "stream",
     "text": [
      "hello\tworld\n"
     ]
    }
   ],
   "source": [
    "var=\"hello\\tworld\"\n",
    "print(var)"
   ]
  },
  {
   "cell_type": "code",
   "execution_count": 167,
   "id": "a5cc3c6b",
   "metadata": {},
   "outputs": [
    {
     "name": "stdout",
     "output_type": "stream",
     "text": [
      "She said 'Hi'!\n"
     ]
    }
   ],
   "source": [
    "var=\"She said \\'Hi\\'!\"\n",
    "print(var)"
   ]
  },
  {
   "cell_type": "code",
   "execution_count": 168,
   "id": "0fb04286",
   "metadata": {},
   "outputs": [
    {
     "data": {
      "text/plain": [
       "61"
      ]
     },
     "execution_count": 168,
     "metadata": {},
     "output_type": "execute_result"
    }
   ],
   "source": [
    "var=\"hello friend! this is python course for oil and gas engineer!\"\n",
    "len(var)"
   ]
  },
  {
   "cell_type": "code",
   "execution_count": 169,
   "id": "74ae35f0",
   "metadata": {},
   "outputs": [
    {
     "name": "stdout",
     "output_type": "stream",
     "text": [
      "engineer!\n"
     ]
    }
   ],
   "source": [
    "print(max(var.split(\" \"),key=len))"
   ]
  },
  {
   "cell_type": "code",
   "execution_count": 170,
   "id": "cfb86bf5",
   "metadata": {},
   "outputs": [
    {
     "name": "stdout",
     "output_type": "stream",
     "text": [
      "is\n"
     ]
    }
   ],
   "source": [
    "print(min(var.split(\" \"),key=len))"
   ]
  },
  {
   "cell_type": "markdown",
   "id": "5c7bf6dd",
   "metadata": {},
   "source": [
    "## String Formating"
   ]
  },
  {
   "cell_type": "markdown",
   "id": "ee816c57",
   "metadata": {},
   "source": [
    "| Method        | Example                                | When to Use                        |\n",
    "| ------------- | -------------------------------------- | ---------------------------------- |\n",
    "| `%` operator  | `\"Hello %s\" % name`                    | Legacy code, quick hacks           |\n",
    "| `.format()`   | `\"Hello {}\".format(name)`              | Flexible, Python 2/3               |\n",
    "| **f-strings** | `f\"Hello {name}\"`                      | ✅ Best for modern Python (3.6+)    |\n",
    "\n"
   ]
  },
  {
   "cell_type": "markdown",
   "id": "8eef7500",
   "metadata": {},
   "source": [
    "**%s → string**\n",
    "\n",
    "%d → integer\n",
    "\n",
    "%f → float"
   ]
  },
  {
   "cell_type": "markdown",
   "id": "bec5c61e",
   "metadata": {},
   "source": [
    "*   Old-style formatting with %"
   ]
  },
  {
   "cell_type": "code",
   "execution_count": 171,
   "id": "b0ce2f36",
   "metadata": {},
   "outputs": [
    {
     "name": "stdout",
     "output_type": "stream",
     "text": [
      "Company name is PQPOC and it was established in year 2010.\n"
     ]
    }
   ],
   "source": [
    "name=\"PQPOC\"\n",
    "year=2010\n",
    "print(\"Company name is %s and it was established in year %d.\" %(name,year))"
   ]
  },
  {
   "cell_type": "code",
   "execution_count": 172,
   "id": "430a0031",
   "metadata": {},
   "outputs": [
    {
     "name": "stdout",
     "output_type": "stream",
     "text": [
      "My name is Tan and i am 43 year old.\n"
     ]
    }
   ],
   "source": [
    "name =\"Tan\"\n",
    "age=43\n",
    "print(\"My name is %s and i am %d year old.\" %(name, age))"
   ]
  },
  {
   "cell_type": "markdown",
   "id": "43843898",
   "metadata": {},
   "source": [
    "*   str.format() method"
   ]
  },
  {
   "cell_type": "code",
   "execution_count": 173,
   "id": "94ca5fdf",
   "metadata": {},
   "outputs": [
    {
     "name": "stdout",
     "output_type": "stream",
     "text": [
      "Company name is PQPOC and it was established in year 2010.\n"
     ]
    }
   ],
   "source": [
    "name=\"PQPOC\"\n",
    "year=2010\n",
    "print(\"Company name is {} and it was established in year {}.\".format(name,year))"
   ]
  },
  {
   "cell_type": "code",
   "execution_count": 174,
   "id": "94c6eedb",
   "metadata": {},
   "outputs": [
    {
     "name": "stdout",
     "output_type": "stream",
     "text": [
      "Company name is PQPOC and it was established in year 2010.\n"
     ]
    }
   ],
   "source": [
    "name=\"PQPOC\"\n",
    "year=2010\n",
    "print(\"Company name is {0} and it was established in year {1}.\".format(name,year))"
   ]
  },
  {
   "cell_type": "code",
   "execution_count": 175,
   "id": "a1158023",
   "metadata": {},
   "outputs": [
    {
     "name": "stdout",
     "output_type": "stream",
     "text": [
      "Company name is PQPOC and it was established in year 2010.\n"
     ]
    }
   ],
   "source": [
    "name=\"PQPOC\"\n",
    "year=2010\n",
    "print(\"Company name is {n} and it was established in year {y}.\".format(n=name,y=year))"
   ]
  },
  {
   "cell_type": "code",
   "execution_count": 176,
   "id": "720ba41b",
   "metadata": {},
   "outputs": [
    {
     "name": "stdout",
     "output_type": "stream",
     "text": [
      "Pi =3.142\n"
     ]
    }
   ],
   "source": [
    "pi=3.14159\n",
    "print(\"Pi ={:.3f}\".format(pi))"
   ]
  },
  {
   "cell_type": "markdown",
   "id": "52ee9fd5",
   "metadata": {},
   "source": [
    "*   f-Strings (Python 3.6+)"
   ]
  },
  {
   "cell_type": "code",
   "execution_count": 177,
   "id": "ed7271c2",
   "metadata": {},
   "outputs": [
    {
     "name": "stdout",
     "output_type": "stream",
     "text": [
      "Company name is PQPOC and it was established in year 2010.\n"
     ]
    }
   ],
   "source": [
    "name=\"PQPOC\"\n",
    "year=2010\n",
    "print(f\"Company name is {name} and it was established in year {year}.\")"
   ]
  },
  {
   "cell_type": "markdown",
   "id": "87322754",
   "metadata": {},
   "source": [
    "# Type conversion"
   ]
  },
  {
   "cell_type": "code",
   "execution_count": 178,
   "id": "b578c0d0",
   "metadata": {},
   "outputs": [
    {
     "data": {
      "text/plain": [
       "1"
      ]
     },
     "execution_count": 178,
     "metadata": {},
     "output_type": "execute_result"
    }
   ],
   "source": [
    "var=\"1\"\n",
    "int(var)"
   ]
  },
  {
   "cell_type": "code",
   "execution_count": 179,
   "id": "5695044c",
   "metadata": {},
   "outputs": [
    {
     "name": "stdout",
     "output_type": "stream",
     "text": [
      "x is  and type of x is <class 'str'>\n"
     ]
    }
   ],
   "source": [
    "x=input(f\"Please input a number: \")\n",
    "print(f\"x is {x} and type of x is {type(x)}\")\n"
   ]
  },
  {
   "cell_type": "code",
   "execution_count": 180,
   "id": "69724f3d",
   "metadata": {},
   "outputs": [
    {
     "ename": "ValueError",
     "evalue": "invalid literal for int() with base 10: ''",
     "output_type": "error",
     "traceback": [
      "\u001b[1;31m---------------------------------------------------------------------------\u001b[0m",
      "\u001b[1;31mValueError\u001b[0m                                Traceback (most recent call last)",
      "Cell \u001b[1;32mIn[180], line 1\u001b[0m\n\u001b[1;32m----> 1\u001b[0m x\u001b[38;5;241m=\u001b[39m\u001b[38;5;28;43mint\u001b[39;49m\u001b[43m(\u001b[49m\u001b[38;5;28;43minput\u001b[39;49m\u001b[43m(\u001b[49m\u001b[38;5;124;43mf\u001b[39;49m\u001b[38;5;124;43m\"\u001b[39;49m\u001b[38;5;124;43mPlease input a number: \u001b[39;49m\u001b[38;5;124;43m\"\u001b[39;49m\u001b[43m)\u001b[49m\u001b[43m)\u001b[49m\n\u001b[0;32m      2\u001b[0m \u001b[38;5;28mprint\u001b[39m(\u001b[38;5;124mf\u001b[39m\u001b[38;5;124m\"\u001b[39m\u001b[38;5;124mx is \u001b[39m\u001b[38;5;132;01m{\u001b[39;00mx\u001b[38;5;132;01m}\u001b[39;00m\u001b[38;5;124m and type of x is \u001b[39m\u001b[38;5;132;01m{\u001b[39;00m\u001b[38;5;28mtype\u001b[39m(x)\u001b[38;5;132;01m}\u001b[39;00m\u001b[38;5;124m\"\u001b[39m)\n\u001b[0;32m      3\u001b[0m y\u001b[38;5;241m=\u001b[39mx\u001b[38;5;241m+\u001b[39m\u001b[38;5;241m10\u001b[39m\n",
      "\u001b[1;31mValueError\u001b[0m: invalid literal for int() with base 10: ''"
     ]
    }
   ],
   "source": [
    "x=int(input(f\"Please input a number: \"))\n",
    "print(f\"x is {x} and type of x is {type(x)}\")\n",
    "y=x+10\n",
    "print(y)"
   ]
  },
  {
   "cell_type": "markdown",
   "id": "9a9dec24",
   "metadata": {},
   "source": [
    "## STRING METHOD"
   ]
  },
  {
   "cell_type": "markdown",
   "id": "c0a63e0e",
   "metadata": {},
   "source": [
    "| String Method            | Use                 |\n",
    "| ------------------------ | ------------------- |\n",
    "| `.strip()`               | Clean up spacing    |\n",
    "| `.upper()`, `.lower()`   | Case normalization  |\n",
    "| `.replace()`, `.split()` | Parsing strings     |\n",
    "| `.in`, `.find()`         | Searching           |\n",
    "| `.count()`               | Counting substrings |\n",
    "| `f\"{var}\"`               | Formatting          |\n"
   ]
  },
  {
   "cell_type": "markdown",
   "id": "99288f34",
   "metadata": {},
   "source": [
    "# String Task\n",
    "    *   well_name = \"  HT-1a  \"--> Expect: HT_1X\n",
    "    *   file_path = \"projects/namconson/gas_field_A/well_logs/HT1_log.las\"---> Extract gas_field_A from path\n",
    "    *   Use f string to comebine (depth=3000, unit=\"m\")\n",
    "    *   Count how many \"oil\", \"gas\" appear in the \"The reservoir contains oil, gas, and more gas than expected.\" \n",
    "    *   --> check Uppercase"
   ]
  },
  {
   "cell_type": "code",
   "execution_count": null,
   "id": "95784e95",
   "metadata": {},
   "outputs": [
    {
     "data": {
      "text/plain": [
       "'HT-1X'"
      ]
     },
     "execution_count": 96,
     "metadata": {},
     "output_type": "execute_result"
    }
   ],
   "source": [
    "well_name=\" HT-1a   \"\n",
    "well_name=well_name.strip().upper()\n",
    "well_name.replace(\"-\",\"_\")\n",
    "well_name.replace(\"A\",\"X\")"
   ]
  },
  {
   "cell_type": "code",
   "execution_count": null,
   "id": "abb6ca94",
   "metadata": {},
   "outputs": [
    {
     "data": {
      "text/plain": [
       "['projects', 'namconson', 'gas_field_A', 'well_logs', 'HT1_log.las']"
      ]
     },
     "execution_count": 97,
     "metadata": {},
     "output_type": "execute_result"
    }
   ],
   "source": [
    "file_path = \"projects/namconson/gas_field_A/well_logs/HT1_log.las\"\n",
    "lst=file_path.split(\"/\")\n",
    "lst"
   ]
  },
  {
   "cell_type": "code",
   "execution_count": null,
   "id": "cc55e408",
   "metadata": {},
   "outputs": [],
   "source": [
    "data=\"The reservoir contains oil, gas, and more gas than expected.\""
   ]
  },
  {
   "cell_type": "code",
   "execution_count": null,
   "id": "ad84dac4",
   "metadata": {},
   "outputs": [
    {
     "data": {
      "text/plain": [
       "['The',\n",
       " 'reservoir',\n",
       " 'contains',\n",
       " 'oil,',\n",
       " 'gas,',\n",
       " 'and',\n",
       " 'more',\n",
       " 'gas',\n",
       " 'than',\n",
       " 'expected.']"
      ]
     },
     "execution_count": 99,
     "metadata": {},
     "output_type": "execute_result"
    }
   ],
   "source": [
    "data.split(\" \")"
   ]
  },
  {
   "cell_type": "code",
   "execution_count": null,
   "id": "9b307e6b",
   "metadata": {},
   "outputs": [
    {
     "data": {
      "text/plain": [
       "2"
      ]
     },
     "execution_count": 100,
     "metadata": {},
     "output_type": "execute_result"
    }
   ],
   "source": [
    "data.count(\"gas\")"
   ]
  },
  {
   "cell_type": "code",
   "execution_count": null,
   "id": "ce223f21",
   "metadata": {},
   "outputs": [
    {
     "data": {
      "text/plain": [
       "False"
      ]
     },
     "execution_count": 102,
     "metadata": {},
     "output_type": "execute_result"
    }
   ],
   "source": [
    "var=\"Hi\"\n",
    "var.isupper()"
   ]
  },
  {
   "cell_type": "markdown",
   "id": "3246c1c2",
   "metadata": {},
   "source": [
    "## Python String Exercises"
   ]
  },
  {
   "cell_type": "markdown",
   "id": "72578dae",
   "metadata": {},
   "source": [
    "*   1. Comebine two strings using f_string\n",
    "*   2. Count a sub string in a string\n",
    "*   3. Capitalize each first word\n",
    "*   4. Split string by space, comma"
   ]
  },
  {
   "cell_type": "markdown",
   "id": "f72a6d89",
   "metadata": {},
   "source": [
    "## SECTION 3 OPERATORS"
   ]
  },
  {
   "cell_type": "markdown",
   "id": "2912522d",
   "metadata": {},
   "source": [
    "## Arithmetic Operators\n"
   ]
  },
  {
   "cell_type": "markdown",
   "id": "51324814",
   "metadata": {},
   "source": [
    "| Operator | Description         | Example  | Result |\n",
    "| -------- | ------------------- | -------- | ------ |\n",
    "| `+`      | Addition            | `3 + 2`  | `5`    |\n",
    "| `-`      | Subtraction         | `5 - 2`  | `3`    |\n",
    "| `*`      | Multiplication      | `3 * 4`  | `12`   |\n",
    "| `/`      | Division (float)    | `7 / 2`  | `3.5`  |\n",
    "| `//`     | Floor Division      | `7 // 2` | `3`    |\n",
    "| `%`      | Modulus (remainder) | `7 % 2`  | `1`    |\n",
    "| `**`     | Exponentiation      | `2 ** 3` | `8`    |\n"
   ]
  },
  {
   "cell_type": "code",
   "execution_count": null,
   "id": "76b9b0bd",
   "metadata": {},
   "outputs": [
    {
     "name": "stdout",
     "output_type": "stream",
     "text": [
      "11\n"
     ]
    }
   ],
   "source": [
    "print(10+1)"
   ]
  },
  {
   "cell_type": "code",
   "execution_count": null,
   "id": "ad2778db",
   "metadata": {},
   "outputs": [
    {
     "name": "stdout",
     "output_type": "stream",
     "text": [
      "3\n"
     ]
    }
   ],
   "source": [
    "print(10//3)"
   ]
  },
  {
   "cell_type": "code",
   "execution_count": null,
   "id": "ea50eaba",
   "metadata": {},
   "outputs": [
    {
     "name": "stdout",
     "output_type": "stream",
     "text": [
      "1\n"
     ]
    }
   ],
   "source": [
    "print(10%3)"
   ]
  },
  {
   "cell_type": "code",
   "execution_count": null,
   "id": "ae01f1a9",
   "metadata": {},
   "outputs": [
    {
     "name": "stdout",
     "output_type": "stream",
     "text": [
      "9\n"
     ]
    }
   ],
   "source": [
    "print(10^3)"
   ]
  },
  {
   "cell_type": "code",
   "execution_count": null,
   "id": "a4615cb1",
   "metadata": {},
   "outputs": [
    {
     "name": "stdout",
     "output_type": "stream",
     "text": [
      "3.333\n"
     ]
    }
   ],
   "source": [
    "print(round(10/3,3))"
   ]
  },
  {
   "cell_type": "code",
   "execution_count": null,
   "id": "d194fdd7",
   "metadata": {},
   "outputs": [
    {
     "data": {
      "text/plain": [
       "1000"
      ]
     },
     "execution_count": 128,
     "metadata": {},
     "output_type": "execute_result"
    }
   ],
   "source": [
    "abs(-1000)"
   ]
  },
  {
   "cell_type": "markdown",
   "id": "2c0c5fde",
   "metadata": {},
   "source": [
    "## Comparison Operators"
   ]
  },
  {
   "cell_type": "markdown",
   "id": "6f1701e9",
   "metadata": {},
   "source": [
    "| Operator | Description      | Example  | Result |\n",
    "| -------- | ---------------- | -------- | ------ |\n",
    "| `==`     | Equal            | `3 == 3` | `True` |\n",
    "| `!=`     | Not equal        | `3 != 2` | `True` |\n",
    "| `>`      | Greater than     | `5 > 2`  | `True` |\n",
    "| `<`      | Less than        | `2 < 5`  | `True` |\n",
    "| `>=`     | Greater or equal | `5 >= 5` | `True` |\n",
    "| `<=`     | Less or equal    | `3 <= 4` | `True` |\n"
   ]
  },
  {
   "cell_type": "code",
   "execution_count": null,
   "id": "dd1ae112",
   "metadata": {},
   "outputs": [
    {
     "name": "stdout",
     "output_type": "stream",
     "text": [
      "True\n"
     ]
    }
   ],
   "source": [
    "print(1==1)"
   ]
  },
  {
   "cell_type": "code",
   "execution_count": null,
   "id": "5d9ccb6f",
   "metadata": {},
   "outputs": [
    {
     "name": "stdout",
     "output_type": "stream",
     "text": [
      "False\n"
     ]
    }
   ],
   "source": [
    "print(0>=1)"
   ]
  },
  {
   "cell_type": "markdown",
   "id": "6a422abb",
   "metadata": {},
   "source": [
    "## Logical Operators"
   ]
  },
  {
   "cell_type": "markdown",
   "id": "d1ea6f12",
   "metadata": {},
   "source": [
    "| Operator | Description       | Example             | Result  |\n",
    "| -------- | ----------------- | ------------------- | ------- |\n",
    "| `and`    | True if both True | `(5 > 2 and 4 > 1)` | `True`  |\n",
    "| `or`     | True if one True  | `(5 > 2 or 4 < 1)`  | `True`  |\n",
    "| `not`    | Negation          | `not(5 > 2)`        | `False` |\n"
   ]
  },
  {
   "cell_type": "code",
   "execution_count": null,
   "id": "56551a11",
   "metadata": {},
   "outputs": [
    {
     "data": {
      "text/plain": [
       "True"
      ]
     },
     "execution_count": 115,
     "metadata": {},
     "output_type": "execute_result"
    }
   ],
   "source": [
    "5>3 and 4>1"
   ]
  },
  {
   "cell_type": "code",
   "execution_count": null,
   "id": "0c906d2f",
   "metadata": {},
   "outputs": [
    {
     "data": {
      "text/plain": [
       "False"
      ]
     },
     "execution_count": 116,
     "metadata": {},
     "output_type": "execute_result"
    }
   ],
   "source": [
    "5>10 and 4>7"
   ]
  },
  {
   "cell_type": "markdown",
   "id": "272b24ea",
   "metadata": {},
   "source": [
    "## Assignment Operators"
   ]
  },
  {
   "cell_type": "markdown",
   "id": "fd115355",
   "metadata": {},
   "source": [
    "| Operator | Description             | Example   | Equivalent To |\n",
    "| -------- | ----------------------- | --------- | ------------- |\n",
    "| `=`      | Assign value            | `x = 5`   | –             |\n",
    "| `+=`     | Add and assign          | `x += 3`  | `x = x + 3`   |\n",
    "| `-=`     | Subtract and assign     | `x -= 2`  | `x = x - 2`   |\n",
    "| `*=`     | Multiply and assign     | `x *= 4`  | `x = x * 4`   |\n",
    "| `/=`     | Divide and assign       | `x /= 2`  | `x = x / 2`   |\n",
    "| `//=`    | Floor-divide and assign | `x //= 2` | `x = x // 2`  |\n",
    "| `%=`     | Modulus and assign      | `x %= 2`  | `x = x % 2`   |\n",
    "| `**=`    | Power and assign        | `x **= 2` | `x = x ** 2`  |\n"
   ]
  },
  {
   "cell_type": "markdown",
   "id": "f94b8df6",
   "metadata": {},
   "source": [
    "## Membership Operators"
   ]
  },
  {
   "cell_type": "markdown",
   "id": "315ad107",
   "metadata": {},
   "source": [
    "| Operator | Description                  | Example            | Result |\n",
    "| -------- | ---------------------------- | ------------------ | ------ |\n",
    "| `in`     | True if value exists in seq. | `\"a\" in \"apple\"`   | `True` |\n",
    "| `not in` | True if value not in seq.    | `\"z\" not in \"dog\"` | `True` |\n"
   ]
  },
  {
   "cell_type": "markdown",
   "id": "c056547c",
   "metadata": {},
   "source": [
    "## Identity Operators"
   ]
  },
  {
   "cell_type": "markdown",
   "id": "d94f4508",
   "metadata": {},
   "source": [
    "| Operator | Description             | Example      | Result       |\n",
    "| -------- | ----------------------- | ------------ | ------------ |\n",
    "| `is`     | True if same object     | `x is y`     | `True/False` |\n",
    "| `is not` | True if not same object | `x is not y` | `True/False` |\n"
   ]
  },
  {
   "cell_type": "markdown",
   "id": "2805065c",
   "metadata": {},
   "source": [
    "# CONTROL FLOW"
   ]
  },
  {
   "cell_type": "code",
   "execution_count": 181,
   "id": "330e56a3",
   "metadata": {},
   "outputs": [
    {
     "data": {
      "image/png": "[encoded data removed]",
      "text/plain": [
       "<PIL.PngImagePlugin.PngImageFile image mode=RGBA size=1095x293>"
      ]
     },
     "metadata": {},
     "output_type": "display_data"
    }
   ],
   "source": [
    "from PIL import Image\n",
    "img = Image.open(\"../img/if_else.png\")\n",
    "# img.show()  # Mở bằng image viewer mặc định (có thể mở tab mới nếu dùng JupyterLab)\n",
    "\n",
    "# Nếu muốn hiện ngay trong cell Jupyter:\n",
    "from IPython.display import display\n",
    "display(img)"
   ]
  },
  {
   "cell_type": "code",
   "execution_count": 182,
   "id": "59be7938",
   "metadata": {},
   "outputs": [
    {
     "name": "stdout",
     "output_type": "stream",
     "text": [
      "True\n"
     ]
    }
   ],
   "source": [
    "var=5\n",
    "if var<10:\n",
    "    print(f\"True\")\n",
    "else:\n",
    "    print(\"False\")"
   ]
  },
  {
   "cell_type": "code",
   "execution_count": 186,
   "id": "c960c45c",
   "metadata": {},
   "outputs": [
    {
     "name": "stdout",
     "output_type": "stream",
     "text": [
      "facies is 'sand'\n"
     ]
    }
   ],
   "source": [
    "phie=0.15\n",
    "sw=0.6\n",
    "if phie>0.1 and sw<0.7:\n",
    "    print(\"facies is \\'sand'\")\n",
    "else:\n",
    "    print(\"facies is shale\")"
   ]
  },
  {
   "cell_type": "code",
   "execution_count": 187,
   "id": "8ff1c3c7",
   "metadata": {},
   "outputs": [
    {
     "name": "stdout",
     "output_type": "stream",
     "text": [
      "good\n"
     ]
    }
   ],
   "source": [
    "score=70\n",
    "if score <50:\n",
    "    print(\"tb\")\n",
    "elif score <70:\n",
    "    print (\"fair\")\n",
    "elif score <90:\n",
    "    print(\"good\")\n",
    "else:\n",
    "    print(\"excellent!\")"
   ]
  },
  {
   "cell_type": "markdown",
   "id": "7edda419",
   "metadata": {},
   "source": [
    "## MATCH-CASE"
   ]
  },
  {
   "cell_type": "markdown",
   "id": "d9120209",
   "metadata": {},
   "source": [
    "![Python MATH-CASE Structure](../img/match_case.png)"
   ]
  },
  {
   "cell_type": "code",
   "execution_count": 198,
   "id": "b743f639",
   "metadata": {},
   "outputs": [
    {
     "name": "stdout",
     "output_type": "stream",
     "text": [
      "Weekend\n"
     ]
    }
   ],
   "source": [
    "day=\"Sun\"\n",
    "match day:\n",
    "    case \"Sat\" | \"Sun\":\n",
    "        print(\"Weekend\")\n",
    "    case \"Mon\" | \"Tue\" | \"Wed\" | \"Thu\" | \"Fri\":\n",
    "        print(\"Weekday\")\n",
    "    case _:\n",
    "        print(\"Invalid day\")"
   ]
  },
  {
   "cell_type": "markdown",
   "id": "585c2741",
   "metadata": {},
   "source": [
    "## WHILE LOOP"
   ]
  },
  {
   "cell_type": "markdown",
   "id": "1acb098c",
   "metadata": {},
   "source": [
    "![Python If Structure](../img/while.png)"
   ]
  },
  {
   "cell_type": "markdown",
   "id": "49381f78",
   "metadata": {},
   "source": [
    "*   \"continue\" will skip all code after it\n",
    "*   \"break\" will exit the loop"
   ]
  },
  {
   "cell_type": "code",
   "execution_count": 199,
   "id": "22cbc6e4",
   "metadata": {},
   "outputs": [
    {
     "name": "stdout",
     "output_type": "stream",
     "text": [
      "1\n",
      "2\n",
      "3\n",
      "4\n",
      "5\n",
      "6\n",
      "7\n",
      "8\n",
      "9\n"
     ]
    }
   ],
   "source": [
    "count=1\n",
    "while count<10:\n",
    "    print(count)\n",
    "    count+=1"
   ]
  },
  {
   "cell_type": "code",
   "execution_count": null,
   "id": "2a49542d",
   "metadata": {},
   "outputs": [],
   "source": [
    "num=2\n",
    "while num<50:\n",
    "    if num%2==0:\n",
    "        print(num)\n",
    "    else:\n",
    "        continue\n",
    "    num+=1"
   ]
  },
  {
   "cell_type": "code",
   "execution_count": null,
   "id": "062cfd3d",
   "metadata": {},
   "outputs": [],
   "source": [
    "num=2\n",
    "while num<50:\n",
    "    if num%2==0:\n",
    "        print(num)\n",
    "    else:\n",
    "        num+=1\n",
    "        continue\n",
    "    num+=1"
   ]
  },
  {
   "cell_type": "code",
   "execution_count": 213,
   "id": "c59a404b",
   "metadata": {},
   "outputs": [
    {
     "name": "stdout",
     "output_type": "stream",
     "text": [
      "10\n",
      "20\n",
      "Exit loop!\n"
     ]
    }
   ],
   "source": [
    "while True: #infinite loop\n",
    "    num=int(input(\"Please input a number:\"))\n",
    "    if num==5:\n",
    "        print(\"Exit loop!\")\n",
    "        break\n",
    "    else:\n",
    "        print(num)"
   ]
  },
  {
   "cell_type": "markdown",
   "id": "495d3771",
   "metadata": {},
   "source": [
    "## FOR LOOP"
   ]
  },
  {
   "cell_type": "markdown",
   "id": "96cf4e55",
   "metadata": {},
   "source": [
    "![Python If Structure](../img/for_loop.png)"
   ]
  },
  {
   "cell_type": "code",
   "execution_count": 216,
   "id": "eaf49968",
   "metadata": {},
   "outputs": [
    {
     "name": "stdout",
     "output_type": "stream",
     "text": [
      "0\n",
      "1\n",
      "2\n",
      "3\n",
      "4\n",
      "5\n",
      "6\n",
      "7\n",
      "8\n",
      "9\n"
     ]
    }
   ],
   "source": [
    "for i in range(10):\n",
    "    print(i)"
   ]
  },
  {
   "cell_type": "code",
   "execution_count": 220,
   "id": "98fcc006",
   "metadata": {},
   "outputs": [
    {
     "name": "stdout",
     "output_type": "stream",
     "text": [
      "0\n",
      "1\n",
      "3\n",
      "4\n"
     ]
    }
   ],
   "source": [
    "for i in range(5):\n",
    "    if i==2:\n",
    "        continue\n",
    "    else:\n",
    "        print(i)"
   ]
  },
  {
   "cell_type": "code",
   "execution_count": 221,
   "id": "9089e9e8",
   "metadata": {},
   "outputs": [
    {
     "name": "stdout",
     "output_type": "stream",
     "text": [
      "Exit\n"
     ]
    }
   ],
   "source": [
    "for i in range(1,20):\n",
    "    if i%2==0:\n",
    "        print(i)\n",
    "    else:\n",
    "        print(\"Exit\")\n",
    "        break"
   ]
  },
  {
   "cell_type": "code",
   "execution_count": 222,
   "id": "24209a49",
   "metadata": {},
   "outputs": [
    {
     "name": "stdout",
     "output_type": "stream",
     "text": [
      "h\n",
      "e\n",
      "l\n",
      "l\n",
      "o\n",
      " \n",
      "w\n",
      "o\n",
      "r\n",
      "d\n"
     ]
    }
   ],
   "source": [
    "for char in \"hello word\":\n",
    "    print(char)"
   ]
  },
  {
   "cell_type": "code",
   "execution_count": 225,
   "id": "5a506aa8",
   "metadata": {},
   "outputs": [
    {
     "name": "stdout",
     "output_type": "stream",
     "text": [
      "dddd\n",
      "hhhh\n",
      "ssss\n",
      "jjjj\n",
      "aaaa\n",
      "dddd\n",
      "hhhh\n",
      "aaaa\n",
      "jjjj\n"
     ]
    }
   ],
   "source": [
    "word=\"dhsjadhajHHHdshjdhs\"\n",
    "for w in word:\n",
    "    if w.isupper():\n",
    "        break\n",
    "    else:\n",
    "        print(w*4)"
   ]
  },
  {
   "cell_type": "code",
   "execution_count": 226,
   "id": "fcbe02f4",
   "metadata": {},
   "outputs": [
    {
     "name": "stdout",
     "output_type": "stream",
     "text": [
      "\n",
      " Total upper char is 3\n"
     ]
    }
   ],
   "source": [
    "word=\"dhsjadhajHHHdshjdhs\"\n",
    "count=0\n",
    "for w in word:\n",
    "    if w.isupper():\n",
    "        count+=1\n",
    "print(f\"\\n Total upper char is {count}\")"
   ]
  },
  {
   "cell_type": "code",
   "execution_count": 230,
   "id": "81d84060",
   "metadata": {},
   "outputs": [
    {
     "name": "stdout",
     "output_type": "stream",
     "text": [
      "0 p\n",
      "1 p\n",
      "2 y\n",
      "3 t\n",
      "4 h\n",
      "5 o\n",
      "6 n\n"
     ]
    }
   ],
   "source": [
    "for i,j in enumerate(\"ppython\"):\n",
    "    print(i,j)"
   ]
  },
  {
   "cell_type": "markdown",
   "id": "f64f075e",
   "metadata": {},
   "source": [
    "EXCERCISE 1:\n",
    "\n",
    "| Loại dầu                     | API Gravity (°API) | Đặc điểm                                                        |\n",
    "| ---------------------------- | ------------------ | --------------------------------------------------------------- |\n",
    "| **Dầu rất nhẹ (Condensate)** | > 45°              | Dầu có tỷ lệ khí cao, dễ bay hơi, thường đi kèm khí tự nhiên.   |\n",
    "| **Dầu nhẹ**                  | 35° – 45°          | Chất lượng cao, cho sản phẩm tinh chế như xăng và diesel nhiều. |\n",
    "| **Dầu trung bình**           | 25° – 35°          | Phổ biến, hiệu suất chế biến tốt.                               |\n",
    "| **Dầu nặng**                 | 10° – 25°          | Đặc sệt, khó xử lý, cần nâng cấp để chế biến.                   |\n",
    "| **Dầu rất nặng**             | < 10°              | Gần giống bitumen, xử lý rất phức tạp.                          |"
   ]
  },
  {
   "cell_type": "markdown",
   "id": "e18d6ece",
   "metadata": {},
   "source": [
    "EXCERCISE 2\n",
    "\n",
    "| **Nội dung**         | **Chi tiết** |\n",
    "|----------------------|-------------------------------------------------------------------------------------------------------------------------------------------------------------------------------------------------------------------------------------------------------------------|\n",
    "| **Chủ đề**           | Đánh giá tình trạng giếng dầu dựa trên áp suất và lưu lượng                                                                                                                         |\n",
    "| **Input yêu cầu**    | - Áp suất đáy giếng (BHP) – đơn vị: psi<br>- Lưu lượng khai thác (Production Rate) – đơn vị: BOPD                                                                                 |\n",
    "| **Quy tắc đánh giá** | - Nếu **BHP < 1000 psi** và **Rate > 500 BOPD** → *Giếng hoạt động tốt*<br>- Nếu **BHP > 3000 psi** và **Rate < 100 BOPD** → *Giếng có thể bị tổn thất áp suất hoặc nghẽn dòng*<br>- Nếu **1000 ≤ BHP ≤ 3000** và **100 ≤ Rate ≤ 500** → *Giếng hoạt động trung bình*<br>- Các trường hợp khác → *Cần đánh giá thêm* |\n",
    "| **Output mong muốn** | In ra đánh giá tình trạng giếng, ví dụ:<br>`Áp suất: 950 psi, Lưu lượng: 600 BOPD`<br>`=> Giếng"
   ]
  },
  {
   "cell_type": "markdown",
   "id": "2b49802b",
   "metadata": {},
   "source": [
    "Excercise 3:\n",
    "\n",
    "| **Nội dung**         | **Chi tiết**                                                                      |\n",
    "| -------------------- | --------------------------------------------------------------------------------- |\n",
    "| **Mô tả**            | Giả sử một giếng dầu hoạt động trong nhiều ngày. Mỗi ngày người vận hành nhập sản lượng dầu khai thác được (BOPD). Chương trình sẽ tính tổng sản lượng cho đến khi người dùng nhập số âm để kết thúc. |\n",
    "| **Input yêu cầu**    | - Sản lượng từng ngày (số dương)<br>- Nhập **số âm** để kết thúc |\n",
    "| **Output mong muốn** | - Tổng sản lượng đã khai thác |\n",
    "| **Mục tiêu học tập** | - Sử dụng vòng `while` với điều kiện dừng<br>- Tính tổng tích lũy  |"
   ]
  },
  {
   "cell_type": "markdown",
   "id": "9218299e",
   "metadata": {},
   "source": [
    "Exercise 4:\n",
    "\n",
    "| **Nội dung**         | **Chi tiết**                       |\n",
    "|----------------------|--------------------------------------------------------------------------------- |\n",
    "| **Mô tả**            | Một giếng dầu đang giảm áp suất theo tốc độ giảm **5% mỗi ngày**. Cho biết áp suất ban đầu, hãy tính số ngày cần để áp suất giảm xuống dưới 1000 psi. |\n",
    "| **Input yêu cầu**    | - Áp suất ban đầu (psi)      |\n",
    "| **Output mong muốn** | - Số ngày cần để áp suất < 1000 psi<br>- Giá trị áp suất cuối cùng|\n",
    "| **Mục tiêu học tập** | - Sử dụng vòng `while` với điều kiện kiểm tra<br>- Sử dụng toán học và định dạng kết quả |"
   ]
  },
  {
   "cell_type": "markdown",
   "id": "451d8df4",
   "metadata": {},
   "source": [
    "EXCERCISE 5\n",
    "\n",
    "| **Nội dung**         | **Chi tiết**   |\n",
    "| -------------------- | ----------------------------------------------------------------------------------------------------------------------------- |\n",
    "| **Mô tả**            | Giả sử bạn có 5 giếng dầu. Viết chương trình nhập sản lượng của từng giếng, sau đó tính **tổng** và **trung bình** sản lượng.|\n",
    "| **Input yêu cầu**    | - Sản lượng từng giếng (BOPD) qua 5 lần nhập            |\n",
    "| **Output mong muốn** | - Tổng sản lượng<br>- Trung bình sản lượng                    |\n",
    "| **Mục tiêu học tập** | - Sử dụng `for` với `range()`<br>- Tính tổng, trung bình từ danh sách giá trị       |\n"
   ]
  },
  {
   "cell_type": "markdown",
   "id": "0d62fdbc",
   "metadata": {},
   "source": [
    "EXCERCISE 6\n",
    "| **Nội dung**         | **Chi tiết**    |\n",
    "| -------------------- | ------------------------------------------------------------------------------------------------------------------------------------------------------------------------------------------ |\n",
    "| **Mô tả**            | Cho danh sách sản lượng từ 7 giếng. Duyệt qua danh sách và in ra loại giếng theo sản lượng:<br>- >500 BOPD → Giếng hiệu quả<br>- 100–500 → Giếng trung bình<br>- <100 → Giếng kém hiệu quả |\n",
    "| **Input yêu cầu**    | - Danh sách các sản lượng giếng (giả sử là list cố định hoặc nhập thủ công)                        |\n",
    "| **Output mong muốn** | - In số giếng thuộc từng loại và chi tiết từng giếng                  \n",
    "| **Mục tiêu học tập** | - Duyệt danh sách với `for`<br>- Dùng `if-else` kết hợp `for`                        |\n"
   ]
  }
 ],
 "metadata": {
  "kernelspec": {
   "display_name": "Python 3",
   "language": "python",
   "name": "python3"
  },
  "language_info": {
   "codemirror_mode": {
    "name": "ipython",
    "version": 3
   },
   "file_extension": ".py",
   "mimetype": "text/x-python",
   "name": "python",
   "nbconvert_exporter": "python",
   "pygments_lexer": "ipython3",
   "version": "3.12.2"
  }
 },
 "nbformat": 4,
 "nbformat_minor": 5
}

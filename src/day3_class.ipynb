{
 "cells": [
  {
   "cell_type": "markdown",
   "id": "7eb62448",
   "metadata": {},
   "source": [
    "# Class:\n",
    "    * create class\n",
    "    * constructor -> run when object created\n",
    "    * self--> reference to current object\n",
    "    * instance/ class attributes--> share to all instance\n",
    "    * instance vs class method\n",
    "    * magic methods\n",
    "    * making customs containers\n",
    "    * private method\n",
    "    * inheritance\n",
    "    * object class\n",
    "    * Method overriding\n"
   ]
  },
  {
   "cell_type": "code",
   "execution_count": 1,
   "id": "cac3f9a6",
   "metadata": {},
   "outputs": [],
   "source": [
    "class Well:\n",
    "    pressure_limit = 1000  # psi – class attribute dùng làm ngưỡng chung\n",
    "\n",
    "    def __init__(self, name, pressure):\n",
    "        self.name = name\n",
    "        self.pressure = pressure\n",
    "\n",
    "    def check_pressure(self):\n",
    "        if self.pressure < Well.pressure_limit:\n",
    "            return f\"{self.name}: Cảnh báo – Áp suất thấp!\"\n",
    "        else:\n",
    "            return f\"{self.name}: Áp suất ổn định.\""
   ]
  },
  {
   "cell_type": "code",
   "execution_count": 2,
   "id": "48715f6d",
   "metadata": {},
   "outputs": [
    {
     "name": "stdout",
     "output_type": "stream",
     "text": [
      "Well A: Cảnh báo – Áp suất thấp!\n",
      "Well B: Áp suất ổn định.\n",
      "Well A: Cảnh báo – Áp suất thấp!\n"
     ]
    }
   ],
   "source": [
    "w1 = Well(\"Well A\", 950)\n",
    "w2 = Well(\"Well B\", 1200)\n",
    "\n",
    "print(w1.check_pressure())\n",
    "print(w2.check_pressure())\n",
    "\n",
    "# Thay đổi ngưỡng áp suất cho toàn bộ hệ thống:\n",
    "Well.pressure_limit = 1100\n",
    "\n",
    "print(w1.check_pressure())  # Bây giờ Well A sẽ bị cảnh báo"
   ]
  },
  {
   "cell_type": "markdown",
   "id": "f6fb992f",
   "metadata": {},
   "source": [
    "##  Class vs instance method"
   ]
  },
  {
   "cell_type": "markdown",
   "id": "77af8d59",
   "metadata": {},
   "source": [
    "*       __init__(): dùng khi bạn biết chính xác từng tham số\n",
    "\n",
    "*       @classmethod: dùng khi bạn cần xử lý / chuẩn hóa dữ liệu đầu vào trước khi tạo đối tượng"
   ]
  },
  {
   "cell_type": "code",
   "execution_count": 9,
   "id": "0f765446",
   "metadata": {},
   "outputs": [],
   "source": [
    "class Well:\n",
    "    Total_well_counts = 0\n",
    "    Lst_Wells = []\n",
    "\n",
    "    def __init__(self, name: str, pressure: float):\n",
    "        self.name = name\n",
    "        self.pressure = pressure\n",
    "        Well.Total_well_counts += 1\n",
    "        Well.Lst_Wells.append(self)\n",
    "\n",
    "    def __repr__(self):\n",
    "        return f\"Well('{self.name}', {self.pressure})\"\n",
    "    def __iter__(self):\n",
    "        return iter(Well.Lst_Wells)\n",
    "    def __eq__(self, other):\n",
    "        if self.pressure == other.pressure:\n",
    "            return \"Two wells have same pressure!\"\n",
    "        else:\n",
    "            return \"Two wells dont have same pressure\"\n",
    "    @classmethod\n",
    "    def from_string(cls, data_str):\n",
    "        name, pressure = data_str.split(\",\")\n",
    "        return cls(name.strip(), float(pressure.strip()))\n",
    "\n",
    "    @staticmethod\n",
    "    def psi_to_bar(psi):\n",
    "        return psi * 0.0689476\n",
    "\n",
    "\n"
   ]
  },
  {
   "cell_type": "code",
   "execution_count": 10,
   "id": "03d98e87",
   "metadata": {},
   "outputs": [],
   "source": [
    "w1=Well(\"w1\",90)\n",
    "w3=Well(\"w3\",190)\n",
    "w2=Well(\"w2\",290)"
   ]
  },
  {
   "cell_type": "code",
   "execution_count": 11,
   "id": "7660777a",
   "metadata": {},
   "outputs": [
    {
     "name": "stdout",
     "output_type": "stream",
     "text": [
      "Well('w1', 90)\n"
     ]
    }
   ],
   "source": [
    "print(w1)"
   ]
  },
  {
   "cell_type": "code",
   "execution_count": 12,
   "id": "ffa8ad40",
   "metadata": {},
   "outputs": [
    {
     "name": "stdout",
     "output_type": "stream",
     "text": [
      "Well('w1', 90)\n",
      "Well('w3', 190)\n",
      "Well('w2', 290)\n"
     ]
    }
   ],
   "source": [
    "for w in Well.Lst_Wells:\n",
    "    print(w)"
   ]
  },
  {
   "cell_type": "code",
   "execution_count": 13,
   "id": "4d42be71",
   "metadata": {},
   "outputs": [],
   "source": [
    "class WellInfo:\n",
    "    def __init__(self,name,rate):\n",
    "        self.name=name\n",
    "        self.rate=rate\n",
    "    def __str__(self):\n",
    "        return f\"well {self.name} with rate {self.rate}\""
   ]
  },
  {
   "cell_type": "code",
   "execution_count": 14,
   "id": "e431a19b",
   "metadata": {},
   "outputs": [],
   "source": [
    "class Well_Group:\n",
    "    THRESOLD=500\n",
    "    def __init__(self,lst_well:list):\n",
    "        self.lst_well=lst_well\n",
    "    def __iter__(self):\n",
    "        return iter(self.lst_well)\n",
    "    def get_high_prod_rate(self):\n",
    "        return [well for well in self.lst_well if well.rate>Well_Group.THRESOLD]\n",
    "    def avg_rate(self):\n",
    "        return sum(well.rate for well in self.lst_well)/len(self.lst_well)"
   ]
  },
  {
   "cell_type": "code",
   "execution_count": 15,
   "id": "dabdf232",
   "metadata": {},
   "outputs": [],
   "source": [
    "# Tạo các giếng\n",
    "w1 = WellInfo(\"Well A\", 620)\n",
    "w2 = WellInfo(\"Well B\", 470)\n",
    "w3 = WellInfo(\"Well C\", 710)\n",
    "w4 = WellInfo(\"Well D\", 90)"
   ]
  },
  {
   "cell_type": "code",
   "execution_count": 16,
   "id": "be1bc7bf",
   "metadata": {},
   "outputs": [],
   "source": [
    "# Gom lại thành một nhóm\n",
    "group = Well_Group([w1, w2, w3, w4])"
   ]
  },
  {
   "cell_type": "code",
   "execution_count": 17,
   "id": "286e7641",
   "metadata": {},
   "outputs": [
    {
     "name": "stdout",
     "output_type": "stream",
     "text": [
      "well Well A with rate 620\n",
      "well Well B with rate 470\n",
      "well Well C with rate 710\n",
      "well Well D with rate 90\n"
     ]
    }
   ],
   "source": [
    "for w in group:\n",
    "    print(w)"
   ]
  },
  {
   "cell_type": "code",
   "execution_count": 18,
   "id": "722b05fe",
   "metadata": {},
   "outputs": [
    {
     "name": "stdout",
     "output_type": "stream",
     "text": [
      "well Well A with rate 620\n",
      "well Well C with rate 710\n"
     ]
    }
   ],
   "source": [
    "\n",
    "for w in group.get_high_prod_rate():\n",
    "    print(w)"
   ]
  },
  {
   "cell_type": "code",
   "execution_count": 19,
   "id": "2d1a867e",
   "metadata": {},
   "outputs": [
    {
     "data": {
      "text/plain": [
       "472.5"
      ]
     },
     "execution_count": 19,
     "metadata": {},
     "output_type": "execute_result"
    }
   ],
   "source": [
    "group.avg_rate()"
   ]
  }
 ],
 "metadata": {
  "kernelspec": {
   "display_name": "Python 3",
   "language": "python",
   "name": "python3"
  },
  "language_info": {
   "codemirror_mode": {
    "name": "ipython",
    "version": 3
   },
   "file_extension": ".py",
   "mimetype": "text/x-python",
   "name": "python",
   "nbconvert_exporter": "python",
   "pygments_lexer": "ipython3",
   "version": "3.12.2"
  }
 },
 "nbformat": 4,
 "nbformat_minor": 5
}

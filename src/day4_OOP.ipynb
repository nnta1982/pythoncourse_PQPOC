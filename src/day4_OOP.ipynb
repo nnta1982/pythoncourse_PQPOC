{
 "cells": [
  {
   "cell_type": "markdown",
   "id": "58f866bb",
   "metadata": {},
   "source": [
    "#   What is a Class?\n",
    "    *   A class is a blueprint for creating objects.\n",
    "    *   It defines attributes (data) and methods (functions) that the objects will have.\n",
    "    *   Think of a class as a template (like a house plan), and an object as the house built from that template."
   ]
  },
  {
   "cell_type": "markdown",
   "id": "8e67b672",
   "metadata": {},
   "source": [
    "#  Key Concepts\n",
    "    *  Attributes vs Methods\n",
    "        *   Attributes = variables attached to an object.\n",
    "        *   Methods = functions defined inside the class that operate on the object.\n",
    "    *   The self Keyword\n",
    "        *   Refers to the current instance of the class.\n",
    "        *   Lets methods access attributes and other methods.\n",
    "    *  __init__ Method\n",
    "        *  Runs automatically when you create a new object.\n",
    "        *  Used to initialize attributes."
   ]
  },
  {
   "cell_type": "markdown",
   "id": "81938927",
   "metadata": {},
   "source": [
    "✅ 1. Attributes(use method)"
   ]
  },
  {
   "cell_type": "code",
   "execution_count": 1,
   "id": "45ddc103",
   "metadata": {},
   "outputs": [],
   "source": [
    "class Wells:\n",
    "    def set_name(self,name):\n",
    "        self.name=name"
   ]
  },
  {
   "cell_type": "code",
   "execution_count": 2,
   "id": "42fd0c45",
   "metadata": {},
   "outputs": [],
   "source": [
    "well1=Wells()\n",
    "well1.set_name(\"PQ1\")"
   ]
  },
  {
   "cell_type": "code",
   "execution_count": 3,
   "id": "25864c08",
   "metadata": {},
   "outputs": [
    {
     "data": {
      "text/plain": [
       "'PQ1'"
      ]
     },
     "execution_count": 3,
     "metadata": {},
     "output_type": "execute_result"
    }
   ],
   "source": [
    "well1.name"
   ]
  },
  {
   "cell_type": "markdown",
   "id": "6e7fc2aa",
   "metadata": {},
   "source": [
    "✅ 2. Add more attributes (use method)"
   ]
  },
  {
   "cell_type": "code",
   "execution_count": 4,
   "id": "0b5c1252",
   "metadata": {},
   "outputs": [],
   "source": [
    "class Wells:\n",
    "    def set_name(self,name):\n",
    "        self.name=name\n",
    "    def set_type(self,type):\n",
    "        self.type=type\n",
    "    "
   ]
  },
  {
   "cell_type": "code",
   "execution_count": 5,
   "id": "dc5299ae",
   "metadata": {},
   "outputs": [],
   "source": [
    "well1=Wells()\n",
    "well1.set_name(\"PQ1\")\n",
    "well1.set_type(\"production\")"
   ]
  },
  {
   "cell_type": "code",
   "execution_count": 7,
   "id": "768c3985",
   "metadata": {},
   "outputs": [],
   "source": [
    "well2=Wells()\n",
    "well2.set_name(\"PQ2\")\n",
    "well2.set_type(\"exploration\")"
   ]
  },
  {
   "cell_type": "code",
   "execution_count": 6,
   "id": "2b82da40",
   "metadata": {},
   "outputs": [
    {
     "data": {
      "text/plain": [
       "('PQ1', 'production')"
      ]
     },
     "execution_count": 6,
     "metadata": {},
     "output_type": "execute_result"
    }
   ],
   "source": [
    "well1.name,well1.type"
   ]
  },
  {
   "cell_type": "code",
   "execution_count": 8,
   "id": "6617a3f3",
   "metadata": {},
   "outputs": [
    {
     "data": {
      "text/plain": [
       "('PQ2', 'exploration')"
      ]
     },
     "execution_count": 8,
     "metadata": {},
     "output_type": "execute_result"
    }
   ],
   "source": [
    "well2.name,well2.type"
   ]
  },
  {
   "cell_type": "markdown",
   "id": "646bd5c7",
   "metadata": {},
   "source": [
    "✅ 3. Attributes (use constructor(__init__))"
   ]
  },
  {
   "cell_type": "code",
   "execution_count": 9,
   "id": "cb47d59e",
   "metadata": {},
   "outputs": [],
   "source": [
    "class Wells:\n",
    "    def __init__(self,name,type):\n",
    "        self.name=name\n",
    "        self.type=type"
   ]
  },
  {
   "cell_type": "code",
   "execution_count": 11,
   "id": "fcbddc8a",
   "metadata": {},
   "outputs": [
    {
     "data": {
      "text/plain": [
       "('PQ1', 'production')"
      ]
     },
     "execution_count": 11,
     "metadata": {},
     "output_type": "execute_result"
    }
   ],
   "source": [
    "w1=Wells(\"PQ1\",\"production\")\n",
    "w1.name,w1.type"
   ]
  },
  {
   "cell_type": "code",
   "execution_count": 12,
   "id": "062e5bac",
   "metadata": {},
   "outputs": [
    {
     "data": {
      "text/plain": [
       "('PQ2', 'exploration')"
      ]
     },
     "execution_count": 12,
     "metadata": {},
     "output_type": "execute_result"
    }
   ],
   "source": [
    "w2=Wells(\"PQ2\",\"exploration\")\n",
    "w2.name,w2.type"
   ]
  },
  {
   "cell_type": "markdown",
   "id": "8b6c90a2",
   "metadata": {},
   "source": [
    "##   Class vs Instance Attributes\n",
    "    *   Instance Attributes: Belong to each object separately.\n",
    "    *   Class Attributes: Shared by all objects."
   ]
  },
  {
   "cell_type": "code",
   "execution_count": 19,
   "id": "a09af41a",
   "metadata": {},
   "outputs": [],
   "source": [
    "class Well:\n",
    "    total_wells = 0  # class attribute\n",
    "\n",
    "    def __init__(self, name, block, production):\n",
    "        self.name = name\n",
    "        self.block = block\n",
    "        self.production = production\n",
    "        Well.total_wells += 1  # count wells created"
   ]
  },
  {
   "cell_type": "code",
   "execution_count": 20,
   "id": "4434186e",
   "metadata": {},
   "outputs": [
    {
     "name": "stdout",
     "output_type": "stream",
     "text": [
      "2\n"
     ]
    }
   ],
   "source": [
    "well1 = Well(\"Well_1\", \"A\", 300)\n",
    "well2 = Well(\"Well_2\", \"B\", 400)\n",
    "print(Well.total_wells)  # Output: 2"
   ]
  },
  {
   "cell_type": "markdown",
   "id": "42ba2e3e",
   "metadata": {},
   "source": [
    "    *   class attributes when access by instance will belong to that instance only, cannot change class attribute"
   ]
  },
  {
   "cell_type": "code",
   "execution_count": 22,
   "id": "e1afba73",
   "metadata": {},
   "outputs": [
    {
     "data": {
      "text/plain": [
       "(2, 2)"
      ]
     },
     "execution_count": 22,
     "metadata": {},
     "output_type": "execute_result"
    }
   ],
   "source": [
    "well1.total_wells,well2.total_wells"
   ]
  },
  {
   "cell_type": "code",
   "execution_count": null,
   "id": "41b5e62c",
   "metadata": {},
   "outputs": [],
   "source": [
    "well1.total_wells=10 # only change for well1"
   ]
  },
  {
   "cell_type": "code",
   "execution_count": 24,
   "id": "4744f20d",
   "metadata": {},
   "outputs": [
    {
     "data": {
      "text/plain": [
       "(10, 2)"
      ]
     },
     "execution_count": 24,
     "metadata": {},
     "output_type": "execute_result"
    }
   ],
   "source": [
    "well1.total_wells,well2.total_wells"
   ]
  },
  {
   "cell_type": "markdown",
   "id": "242a2cc0",
   "metadata": {},
   "source": [
    "✅ 4. Behavior (Method)"
   ]
  },
  {
   "cell_type": "code",
   "execution_count": 26,
   "id": "8d352d4b",
   "metadata": {},
   "outputs": [],
   "source": [
    "class Wells:\n",
    "    def __init__(self,name,type,monthly_production):\n",
    "        self.name=name\n",
    "        self.type=type\n",
    "        self.monthly_production=monthly_production\n",
    "    def daily_production(self):\n",
    "        return self.monthly_production/30"
   ]
  },
  {
   "cell_type": "markdown",
   "id": "f2fce11d",
   "metadata": {},
   "source": [
    "✅ 5.Special Methods (Dunder Methods)\n",
    "\n",
    "    *   __str__ → controls what print(object) shows\n",
    "    *   __repr__ → “official” string representation\n",
    "    *   __len__, __eq__, __add__ → allow objects to behave like built-in types.\n",
    "    *   __getitem__, __setitem__ → Cho phép truy cập như list/dict: obj[key]\n",
    "    *   __eq__, __lt__, __add__ … → Cho phép so sánh & toán tử ==, <, +"
   ]
  },
  {
   "cell_type": "code",
   "execution_count": null,
   "id": "fd9d6201",
   "metadata": {},
   "outputs": [],
   "source": [
    "class Well:\n",
    "    def __init__(self, name, block, production):\n",
    "        self.name = name\n",
    "        self.block = block\n",
    "        self.production = production\n",
    "    def __str__(self):\n",
    "        return f\"Well {self.name} in block {self.block}\"\n",
    "    def __repr__(self):\n",
    "        return f\"Well(name={self.name!r}, block={self.block!r}, production={self.production!r})\"\n",
    "    def __len__(self):\n",
    "        return len(self.name)\n",
    "    def __eq__(self, other):   \n",
    "        return self.production == other.production\n",
    "    def __add__(self, other):   \n",
    "        return self.production + other.production\n",
    "    def __getitem__(self, key):\n",
    "        if key in self.__dict__:\n",
    "            return self.__dict__[key]\n",
    "        raise KeyError(f\"{key} is not a valid attribute\")\n",
    "    def __setitem__(self, key, value):\n",
    "        if key in self.__dict__:\n",
    "            self.__dict__[key] = value\n",
    "        else:\n",
    "            raise KeyError(f\"{key} is not a valid attribute\")"
   ]
  },
  {
   "cell_type": "code",
   "execution_count": 54,
   "id": "230cd148",
   "metadata": {},
   "outputs": [],
   "source": [
    "well1 = Well(\"Well_1\", \"A\", 300)\n",
    "well2 = Well(\"Well_2\", \"B\", 400)"
   ]
  },
  {
   "cell_type": "code",
   "execution_count": 57,
   "id": "ba37b608",
   "metadata": {},
   "outputs": [
    {
     "data": {
      "text/plain": [
       "{'name': 'Well_1', 'block': 'A', 'prod_data': 300}"
      ]
     },
     "execution_count": 57,
     "metadata": {},
     "output_type": "execute_result"
    }
   ],
   "source": [
    "well1.__dict__"
   ]
  },
  {
   "cell_type": "code",
   "execution_count": 56,
   "id": "abf63ffe",
   "metadata": {},
   "outputs": [
    {
     "data": {
      "text/plain": [
       "mappingproxy({'__module__': '__main__',\n",
       "              '__init__': <function __main__.Well.__init__(self, name, block, prod_data)>,\n",
       "              '__str__': <function __main__.Well.__str__(self)>,\n",
       "              '__eq__': <function __main__.Well.__eq__(self, other_well)>,\n",
       "              '__add__': <function __main__.Well.__add__(self, other_well)>,\n",
       "              '__setitem__': <function __main__.Well.__setitem__(self, key, value)>,\n",
       "              '__getitem__': <function __main__.Well.__getitem__(self, key)>,\n",
       "              '__dict__': <attribute '__dict__' of 'Well' objects>,\n",
       "              '__weakref__': <attribute '__weakref__' of 'Well' objects>,\n",
       "              '__doc__': None,\n",
       "              '__hash__': None})"
      ]
     },
     "execution_count": 56,
     "metadata": {},
     "output_type": "execute_result"
    }
   ],
   "source": [
    "Well.__dict__"
   ]
  },
  {
   "cell_type": "code",
   "execution_count": 49,
   "id": "f16e0bc4",
   "metadata": {},
   "outputs": [
    {
     "data": {
      "text/plain": [
       "False"
      ]
     },
     "execution_count": 49,
     "metadata": {},
     "output_type": "execute_result"
    }
   ],
   "source": [
    "well1==well2"
   ]
  },
  {
   "cell_type": "code",
   "execution_count": 50,
   "id": "c3ee0575",
   "metadata": {},
   "outputs": [
    {
     "data": {
      "text/plain": [
       "700"
      ]
     },
     "execution_count": 50,
     "metadata": {},
     "output_type": "execute_result"
    }
   ],
   "source": [
    "well1+well2"
   ]
  },
  {
   "cell_type": "code",
   "execution_count": 51,
   "id": "195cd611",
   "metadata": {},
   "outputs": [
    {
     "data": {
      "text/plain": [
       "'Well_1'"
      ]
     },
     "execution_count": 51,
     "metadata": {},
     "output_type": "execute_result"
    }
   ],
   "source": [
    "well1[\"name\"]"
   ]
  },
  {
   "cell_type": "code",
   "execution_count": 52,
   "id": "0c345695",
   "metadata": {},
   "outputs": [
    {
     "name": "stdout",
     "output_type": "stream",
     "text": [
      "Well_1\n"
     ]
    }
   ],
   "source": [
    "print(well1)"
   ]
  },
  {
   "cell_type": "code",
   "execution_count": 60,
   "id": "f70833b2",
   "metadata": {},
   "outputs": [],
   "source": [
    "well1 = Well(\"Well_1\",300)\n",
    "well2 = Well(\"Well_2\",400)"
   ]
  },
  {
   "cell_type": "markdown",
   "id": "5eada2fb",
   "metadata": {},
   "source": [
    "# Class vs instance method"
   ]
  },
  {
   "cell_type": "markdown",
   "id": "8fb06316",
   "metadata": {},
   "source": [
    "*       __init__(): dùng khi bạn biết chính xác từng tham số\n",
    "\n",
    "*       @classmethod: dùng khi bạn cần xử lý / chuẩn hóa dữ liệu đầu vào trước khi tạo đối tượng"
   ]
  },
  {
   "cell_type": "code",
   "execution_count": 98,
   "id": "f56dfb49",
   "metadata": {},
   "outputs": [],
   "source": [
    "class Well:\n",
    "    def __init__(self, name: str, pressure: float):\n",
    "        self.name = name\n",
    "        self.pressure = pressure\n",
    "    @classmethod\n",
    "    def from_string(cls, data_str):\n",
    "        name, pressure = data_str.split(\",\")\n",
    "        return cls(name.strip(), float(pressure.strip()))\n",
    "    @staticmethod\n",
    "    def psi_to_bar(psi):\n",
    "        return psi * 0.0689476"
   ]
  },
  {
   "cell_type": "code",
   "execution_count": 100,
   "id": "e3da35d3",
   "metadata": {},
   "outputs": [],
   "source": [
    "w1=Well(\"A\",1234)\n",
    "w2=Well.from_string(\"B,456\")"
   ]
  },
  {
   "cell_type": "code",
   "execution_count": 101,
   "id": "d5b5f537",
   "metadata": {},
   "outputs": [
    {
     "data": {
      "text/plain": [
       "<__main__.Well at 0x227b2d16d80>"
      ]
     },
     "execution_count": 101,
     "metadata": {},
     "output_type": "execute_result"
    }
   ],
   "source": [
    "w1"
   ]
  },
  {
   "cell_type": "markdown",
   "id": "a4f34ba1",
   "metadata": {},
   "source": [
    "#   Inheritance\n",
    "    *   A class can inherit from another class → it gets all the attributes and methods from the parent."
   ]
  },
  {
   "cell_type": "code",
   "execution_count": 63,
   "id": "82c47069",
   "metadata": {},
   "outputs": [],
   "source": [
    "class Well:\n",
    "    \"\"\"Base class for all wells\"\"\"\n",
    "    total_wells = 0\n",
    "\n",
    "    def __init__(self, name, block, production):\n",
    "        self.name = name\n",
    "        self.block = block\n",
    "        self.production = production\n",
    "        Well.total_wells += 1\n",
    "\n",
    "    def update_production(self, new_rate):\n",
    "        self.production = new_rate\n",
    "        print(f\"{self.name} production updated to {self.production} bbl/day\")\n",
    "\n",
    "    def report(self):\n",
    "        return f\"Well {self.name} in block {self.block} produces {self.production} bbl/day\"\n"
   ]
  },
  {
   "cell_type": "code",
   "execution_count": 64,
   "id": "9b93b704",
   "metadata": {},
   "outputs": [],
   "source": [
    "well1 = Well(\"Well_1\", \"A\", 300)\n",
    "well2 = Well(\"Well_2\", \"B\", 400)"
   ]
  },
  {
   "cell_type": "code",
   "execution_count": 65,
   "id": "f920a1d8",
   "metadata": {},
   "outputs": [
    {
     "data": {
      "text/plain": [
       "'Well Well_1 in block A produces 300 bbl/day'"
      ]
     },
     "execution_count": 65,
     "metadata": {},
     "output_type": "execute_result"
    }
   ],
   "source": [
    "well1.report()"
   ]
  },
  {
   "cell_type": "code",
   "execution_count": 66,
   "id": "d62046f8",
   "metadata": {},
   "outputs": [
    {
     "data": {
      "text/plain": [
       "'Well Well_2 in block B produces 400 bbl/day'"
      ]
     },
     "execution_count": 66,
     "metadata": {},
     "output_type": "execute_result"
    }
   ],
   "source": [
    "well2.report()"
   ]
  },
  {
   "cell_type": "markdown",
   "id": "627f9c1c",
   "metadata": {},
   "source": [
    "✅ Subclass 1: OffshoreWell"
   ]
  },
  {
   "cell_type": "code",
   "execution_count": 67,
   "id": "c7ceeba3",
   "metadata": {},
   "outputs": [],
   "source": [
    "class OffshoreWell(Well):\n",
    "    def __init__(self, name, block, production,platform):\n",
    "        super().__init__(name, block, production) #call parent constructor\n",
    "        self.platform=platform\n",
    "    # override parent method    \n",
    "    def report(self):  \n",
    "        return (f\"Offshore Well {self.name} on {self.platform} \"\n",
    "                f\"produces {self.production} bbl/day\")\n",
    "    #add more method(only for offshore)\n",
    "    def get_well_name(self):\n",
    "        return self.name\n",
    "        \n",
    "    "
   ]
  },
  {
   "cell_type": "code",
   "execution_count": 68,
   "id": "85270484",
   "metadata": {},
   "outputs": [],
   "source": [
    "class OnshoreWell(Well):\n",
    "    \"\"\"Subclass for onshore wells\"\"\"\n",
    "    def __init__(self, name, block, production, terrain):\n",
    "        super().__init__(name, block, production)\n",
    "        self.terrain = terrain  # desert, forest, etc.\n",
    "\n",
    "    def report(self):  # override parent method\n",
    "        return (f\"Onshore Well {self.name} in {self.terrain} terrain \"\n",
    "                f\"produces {self.production} bbl/day\")\n",
    "     #add more method(only for onshore)    \n",
    "    def get_block(self):\n",
    "        return self.block\n"
   ]
  },
  {
   "cell_type": "code",
   "execution_count": 74,
   "id": "ac4ea240",
   "metadata": {},
   "outputs": [
    {
     "name": "stdout",
     "output_type": "stream",
     "text": [
      "Offshore Well Well_A on Platform X produces 500 bbl/day\n",
      "Onshore Well Well_B in Desert terrain produces 300 bbl/day\n",
      "Well_A production updated to 600 bbl/day\n",
      "Total wells: 14\n",
      "Well_A\n",
      "Block-02\n"
     ]
    }
   ],
   "source": [
    "w1 = OffshoreWell(\"Well_A\", \"Block-01\", 500, \"Platform X\")\n",
    "w2 = OnshoreWell(\"Well_B\", \"Block-02\", 300, \"Desert\")\n",
    "\n",
    "print(w1.report())\n",
    "print(w2.report())\n",
    "\n",
    "w1.update_production(600)  # method inherited from Well\n",
    "print(f\"Total wells: {Well.total_wells}\")\n",
    "\n",
    "print(w1.get_well_name())\n",
    "print(w2.get_block())"
   ]
  },
  {
   "cell_type": "markdown",
   "id": "d1c4df1d",
   "metadata": {},
   "source": [
    "# Example: add created time for a dataframe"
   ]
  },
  {
   "cell_type": "code",
   "execution_count": 75,
   "id": "5f441b2d",
   "metadata": {},
   "outputs": [],
   "source": [
    "import pandas as pd"
   ]
  },
  {
   "cell_type": "code",
   "execution_count": 77,
   "id": "688bbfd8",
   "metadata": {},
   "outputs": [],
   "source": [
    "df=pd.DataFrame({\"A\":[1,2,3,4,5],\"B\":[10,12,13,13,1]})"
   ]
  },
  {
   "cell_type": "code",
   "execution_count": 78,
   "id": "b97a2914",
   "metadata": {},
   "outputs": [
    {
     "data": {
      "text/html": [
       "<div>\n",
       "<style scoped>\n",
       "    .dataframe tbody tr th:only-of-type {\n",
       "        vertical-align: middle;\n",
       "    }\n",
       "\n",
       "    .dataframe tbody tr th {\n",
       "        vertical-align: top;\n",
       "    }\n",
       "\n",
       "    .dataframe thead th {\n",
       "        text-align: right;\n",
       "    }\n",
       "</style>\n",
       "<table border=\"1\" class=\"dataframe\">\n",
       "  <thead>\n",
       "    <tr style=\"text-align: right;\">\n",
       "      <th></th>\n",
       "      <th>A</th>\n",
       "      <th>B</th>\n",
       "    </tr>\n",
       "  </thead>\n",
       "  <tbody>\n",
       "    <tr>\n",
       "      <th>0</th>\n",
       "      <td>1</td>\n",
       "      <td>10</td>\n",
       "    </tr>\n",
       "    <tr>\n",
       "      <th>1</th>\n",
       "      <td>2</td>\n",
       "      <td>12</td>\n",
       "    </tr>\n",
       "    <tr>\n",
       "      <th>2</th>\n",
       "      <td>3</td>\n",
       "      <td>13</td>\n",
       "    </tr>\n",
       "    <tr>\n",
       "      <th>3</th>\n",
       "      <td>4</td>\n",
       "      <td>13</td>\n",
       "    </tr>\n",
       "    <tr>\n",
       "      <th>4</th>\n",
       "      <td>5</td>\n",
       "      <td>1</td>\n",
       "    </tr>\n",
       "  </tbody>\n",
       "</table>\n",
       "</div>"
      ],
      "text/plain": [
       "   A   B\n",
       "0  1  10\n",
       "1  2  12\n",
       "2  3  13\n",
       "3  4  13\n",
       "4  5   1"
      ]
     },
     "execution_count": 78,
     "metadata": {},
     "output_type": "execute_result"
    }
   ],
   "source": [
    "df"
   ]
  },
  {
   "cell_type": "code",
   "execution_count": 79,
   "id": "75f04030",
   "metadata": {},
   "outputs": [],
   "source": [
    "class UserPandas(pd.DataFrame):\n",
    "    pass"
   ]
  },
  {
   "cell_type": "code",
   "execution_count": 80,
   "id": "1df6608a",
   "metadata": {},
   "outputs": [],
   "source": [
    "df_mod=UserPandas({\"A\":[1,2,3,4,5],\"B\":[10,12,13,13,1]})"
   ]
  },
  {
   "cell_type": "code",
   "execution_count": 81,
   "id": "537e1138",
   "metadata": {},
   "outputs": [
    {
     "data": {
      "text/html": [
       "<div>\n",
       "<style scoped>\n",
       "    .dataframe tbody tr th:only-of-type {\n",
       "        vertical-align: middle;\n",
       "    }\n",
       "\n",
       "    .dataframe tbody tr th {\n",
       "        vertical-align: top;\n",
       "    }\n",
       "\n",
       "    .dataframe thead th {\n",
       "        text-align: right;\n",
       "    }\n",
       "</style>\n",
       "<table border=\"1\" class=\"dataframe\">\n",
       "  <thead>\n",
       "    <tr style=\"text-align: right;\">\n",
       "      <th></th>\n",
       "      <th>A</th>\n",
       "      <th>B</th>\n",
       "    </tr>\n",
       "  </thead>\n",
       "  <tbody>\n",
       "    <tr>\n",
       "      <th>0</th>\n",
       "      <td>1</td>\n",
       "      <td>10</td>\n",
       "    </tr>\n",
       "    <tr>\n",
       "      <th>1</th>\n",
       "      <td>2</td>\n",
       "      <td>12</td>\n",
       "    </tr>\n",
       "    <tr>\n",
       "      <th>2</th>\n",
       "      <td>3</td>\n",
       "      <td>13</td>\n",
       "    </tr>\n",
       "    <tr>\n",
       "      <th>3</th>\n",
       "      <td>4</td>\n",
       "      <td>13</td>\n",
       "    </tr>\n",
       "    <tr>\n",
       "      <th>4</th>\n",
       "      <td>5</td>\n",
       "      <td>1</td>\n",
       "    </tr>\n",
       "  </tbody>\n",
       "</table>\n",
       "</div>"
      ],
      "text/plain": [
       "   A   B\n",
       "0  1  10\n",
       "1  2  12\n",
       "2  3  13\n",
       "3  4  13\n",
       "4  5   1"
      ]
     },
     "execution_count": 81,
     "metadata": {},
     "output_type": "execute_result"
    }
   ],
   "source": [
    "df_mod"
   ]
  },
  {
   "cell_type": "code",
   "execution_count": 82,
   "id": "00476a30",
   "metadata": {},
   "outputs": [],
   "source": [
    "from datetime import datetime"
   ]
  },
  {
   "cell_type": "code",
   "execution_count": 95,
   "id": "c6bed1ea",
   "metadata": {},
   "outputs": [],
   "source": [
    "class UserPandas(pd.DataFrame):\n",
    "    def __init__(self,*args,**kwargs):\n",
    "        super().__init__(*args,*kwargs)\n",
    "        self.create_time=datetime.today()"
   ]
  },
  {
   "cell_type": "code",
   "execution_count": 96,
   "id": "3f6b28c9",
   "metadata": {},
   "outputs": [],
   "source": [
    "df_mod_date=UserPandas({\"A\":[1,2,3,4,5],\"B\":[10,12,13,13,1]})"
   ]
  },
  {
   "cell_type": "code",
   "execution_count": 97,
   "id": "b694b4ec",
   "metadata": {},
   "outputs": [
    {
     "data": {
      "text/plain": [
       "datetime.datetime(2025, 8, 1, 8, 6, 39, 303144)"
      ]
     },
     "execution_count": 97,
     "metadata": {},
     "output_type": "execute_result"
    }
   ],
   "source": [
    "df_mod_date.create_time"
   ]
  },
  {
   "cell_type": "markdown",
   "id": "3d742f4b",
   "metadata": {},
   "source": [
    "#   Why Use Classes?\n",
    "✅ Organizes code (groups data + behavior)\n",
    "\n",
    "✅ Easier to manage complex systems (OOP design)\n",
    "\n",
    "✅ Enables reusability via inheritance\n",
    "\n",
    "✅ Makes code more readable and maintainable"
   ]
  }
 ],
 "metadata": {
  "kernelspec": {
   "display_name": "Python 3",
   "language": "python",
   "name": "python3"
  },
  "language_info": {
   "codemirror_mode": {
    "name": "ipython",
    "version": 3
   },
   "file_extension": ".py",
   "mimetype": "text/x-python",
   "name": "python",
   "nbconvert_exporter": "python",
   "pygments_lexer": "ipython3",
   "version": "3.12.2"
  }
 },
 "nbformat": 4,
 "nbformat_minor": 5
}

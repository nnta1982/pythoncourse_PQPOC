{
 "cells": [
  {
   "cell_type": "markdown",
   "id": "87ca7369",
   "metadata": {},
   "source": [
    "# Excersise 1\n",
    "\n",
    "| **Yêu cầu**   | Viết một hàm tính thể tích giếng khoan hình trụ dựa trên đường kính và chiều sâu. |\n",
    "| ------------- | --------------------------------------------------------------------------------- |\n",
    "| **Công thức** | $V = \\pi \\times \\left(\\frac{D}{2}\\right)^2 \\times h$                              |\n",
    "| **Input**     | Đường kính `D` (inch), chiều sâu `h` (feet)                                       |\n",
    "| **Output**    | Thể tích tính bằng **barrels** (gợi ý: 1 bbl = 5.6146 ft³)                        |\n",
    "| **Gợi ý**     |                                                                                   |\n"
   ]
  },
  {
   "cell_type": "markdown",
   "id": "6faaced2",
   "metadata": {},
   "source": [
    "# Exercise 2\n",
    "| Yêu cầu | Viết hàm nhận vào lưu lượng dầu khai thác và trả về phân loại: high, medium, low |\n",
    "|-------------|-----------------------------------------------------------------------------------|\n",
    "| Quy tắc | >500 → high, 100–500 → medium, <100 → low |\n",
    "| Input | rate_bopd (barrels of oil per day) |\n",
    "| Output | Chuỗi 'high', 'medium', 'low' |"
   ]
  },
  {
   "cell_type": "markdown",
   "id": "800f15b7",
   "metadata": {},
   "source": [
    "# Excercise 3 (function in function):\n",
    "| Yêu cầu | Viết hàm nhận vào danh sách tên giếng và lưu lượng, in ra báo cáo phân loại từng giếng |\n",
    "|---------|----------------------------------------------------------------------------------------|\n",
    "| Input | names = [\"W1\", \"W2\", \"W3\"], rates = [620, 450, 70] |\n",
    "| Output|W1: 620 BOPD → high, W2: 450 BOPD → medium, W3: 70 BOPD → low|"
   ]
  }
 ],
 "metadata": {
  "language_info": {
   "name": "python"
  }
 },
 "nbformat": 4,
 "nbformat_minor": 5
}

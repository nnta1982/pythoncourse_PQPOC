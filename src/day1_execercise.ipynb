{
 "cells": [
  {
   "cell_type": "markdown",
   "id": "2b417de8",
   "metadata": {},
   "source": [
    "EXCERCISE 1:\n",
    "\n",
    "| Loại dầu                     | API Gravity (°API) | Đặc điểm                                                        |\n",
    "| ---------------------------- | ------------------ | --------------------------------------------------------------- |\n",
    "| **Dầu rất nhẹ (Condensate)** | > 45°              | Dầu có tỷ lệ khí cao, dễ bay hơi, thường đi kèm khí tự nhiên.   |\n",
    "| **Dầu nhẹ**                  | 35° – 45°          | Chất lượng cao, cho sản phẩm tinh chế như xăng và diesel nhiều. |\n",
    "| **Dầu trung bình**           | 25° – 35°          | Phổ biến, hiệu suất chế biến tốt.                               |\n",
    "| **Dầu nặng**                 | 10° – 25°          | Đặc sệt, khó xử lý, cần nâng cấp để chế biến.                   |\n",
    "| **Dầu rất nặng**             | < 10°              | Gần giống bitumen, xử lý rất phức tạp.                          |"
   ]
  },
  {
   "cell_type": "markdown",
   "id": "8946470d",
   "metadata": {},
   "source": [
    "EXCERCISE 2\n",
    "\n",
    "| **Nội dung**         | **Chi tiết** |\n",
    "|----------------------|-------------------------------------------------------------------------------------------------------------------------------------------------------------------------------------------------------------------------------------------------------------------|\n",
    "| **Chủ đề**           | Đánh giá tình trạng giếng dầu dựa trên áp suất và lưu lượng                                                                                                                         |\n",
    "| **Input yêu cầu**    | - Áp suất đáy giếng (BHP) – đơn vị: psi<br>- Lưu lượng khai thác (Production Rate) – đơn vị: BOPD                                                                                 |\n",
    "| **Quy tắc đánh giá** | - Nếu **BHP < 1000 psi** và **Rate > 500 BOPD** → *Giếng hoạt động tốt*<br>- Nếu **BHP > 3000 psi** và **Rate < 100 BOPD** → *Giếng có thể bị tổn thất áp suất hoặc nghẽn dòng*<br>- Nếu **1000 ≤ BHP ≤ 3000** và **100 ≤ Rate ≤ 500** → *Giếng hoạt động trung bình*<br>- Các trường hợp khác → *Cần đánh giá thêm* |\n",
    "| **Output mong muốn** | In ra đánh giá tình trạng giếng, ví dụ:<br>`Áp suất: 950 psi, Lưu lượng: 600 BOPD`<br>`=> Giếng"
   ]
  },
  {
   "cell_type": "markdown",
   "id": "7848fb43",
   "metadata": {},
   "source": [
    "Excercise 3:\n",
    "\n",
    "| **Nội dung**         | **Chi tiết**                                                                      |\n",
    "| -------------------- | --------------------------------------------------------------------------------- |\n",
    "| **Mô tả**            | Giả sử một giếng dầu hoạt động trong nhiều ngày. Mỗi ngày người vận hành nhập sản lượng dầu khai thác được (BOPD). Chương trình sẽ tính tổng sản lượng cho đến khi người dùng nhập số âm để kết thúc. |\n",
    "| **Input yêu cầu**    | - Sản lượng từng ngày (số dương)<br>- Nhập **số âm** để kết thúc |\n",
    "| **Output mong muốn** | - Tổng sản lượng đã khai thác |\n",
    "| **Mục tiêu học tập** | - Sử dụng vòng `while` với điều kiện dừng<br>- Tính tổng tích lũy  |"
   ]
  },
  {
   "cell_type": "markdown",
   "id": "9a45d872",
   "metadata": {},
   "source": [
    "Exercise 4:\n",
    "\n",
    "| **Nội dung**         | **Chi tiết**                       |\n",
    "|----------------------|--------------------------------------------------------------------------------- |\n",
    "| **Mô tả**            | Một giếng dầu đang giảm áp suất theo tốc độ giảm **5% mỗi ngày**. Cho biết áp suất ban đầu, hãy tính số ngày cần để áp suất giảm xuống dưới 1000 psi. |\n",
    "| **Input yêu cầu**    | - Áp suất ban đầu (psi)      |\n",
    "| **Output mong muốn** | - Số ngày cần để áp suất < 1000 psi<br>- Giá trị áp suất cuối cùng|\n",
    "| **Mục tiêu học tập** | - Sử dụng vòng `while` với điều kiện kiểm tra<br>- Sử dụng toán học và định dạng kết quả |"
   ]
  },
  {
   "cell_type": "markdown",
   "id": "c6588d54",
   "metadata": {},
   "source": [
    "EXCERCISE 5\n",
    "\n",
    "| **Nội dung**         | **Chi tiết**   |\n",
    "| -------------------- | ----------------------------------------------------------------------------------------------------------------------------- |\n",
    "| **Mô tả**            | Giả sử bạn có 5 giếng dầu. Viết chương trình nhập sản lượng của từng giếng, sau đó tính **tổng** và **trung bình** sản lượng.|\n",
    "| **Input yêu cầu**    | - Sản lượng từng giếng (BOPD) qua 5 lần nhập            |\n",
    "| **Output mong muốn** | - Tổng sản lượng<br>- Trung bình sản lượng                    |\n",
    "| **Mục tiêu học tập** | - Sử dụng `for` với `range()`<br>- Tính tổng, trung bình từ danh sách giá trị       |\n"
   ]
  },
  {
   "cell_type": "markdown",
   "id": "a8dd8b0d",
   "metadata": {},
   "source": [
    "EXCERCISE 6\n",
    "| **Nội dung**         | **Chi tiết**    |\n",
    "| -------------------- | ------------------------------------------------------------------------------------------------------------------------------------------------------------------------------------------ |\n",
    "| **Mô tả**            | Cho danh sách sản lượng từ 7 giếng. Duyệt qua danh sách và in ra loại giếng theo sản lượng:<br>- >500 BOPD → Giếng hiệu quả<br>- 100–500 → Giếng trung bình<br>- <100 → Giếng kém hiệu quả |\n",
    "| **Input yêu cầu**    | - Danh sách các sản lượng giếng (giả sử là list cố định hoặc nhập thủ công)                        |\n",
    "| **Output mong muốn** | - In số giếng thuộc từng loại và chi tiết từng giếng                  \n",
    "| **Mục tiêu học tập** | - Duyệt danh sách với `for`<br>- Dùng `if-else` kết hợp `for`                        |\n"
   ]
  }
 ],
 "metadata": {
  "language_info": {
   "name": "python"
  }
 },
 "nbformat": 4,
 "nbformat_minor": 5
}

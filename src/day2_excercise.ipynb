{
 "cells": [
  {
   "cell_type": "markdown",
   "id": "8d26b85e",
   "metadata": {},
   "source": [
    "# Ex1: Convert depth (m->ft)\n",
    "*   Requirement:\n",
    "    * task 1: define a function to convert\n",
    "    * task 2: use built-in\n",
    "    * Output: print out result\n",
    "    *   depth_m=[1000,2300,4500,7000]"
   ]
  },
  {
   "cell_type": "markdown",
   "id": "b07126e5",
   "metadata": {},
   "source": [
    "# Ex2:  Calculate BOE (Barrels of Oil Equivalent)\n",
    "*   You have daily oil (bbl) and gas (Mcf) production for several wells.\n",
    "*   Use map() to calculate BOE for each well using this formula:\n",
    "\n",
    "*   BOE=oil (bbl)+gas (Mcf)/6\n",
    "*   production = [(100, 600), (80, 420), (150, 720)]  # (oil, gas)\n",
    "*   Expected Output: [200.0, 150.0, 270.0]\n",
    "*   Task1: Use define function\n",
    "*   Task2: Use map\n",
    "\n"
   ]
  },
  {
   "cell_type": "markdown",
   "id": "eb9806f7",
   "metadata": {},
   "source": [
    "#   Ex3: \n",
    "*   Declare a list of dictionary of wells with name, block, production rate\n",
    "*   Print well with block\n",
    "*   Use function to return well with specific rate as input argument\n",
    "*   Filter well with highest production rate (use function)\n",
    "*   Filter wells with given block with block name as parameter of function \n",
    "*   Use built-in function"
   ]
  },
  {
   "cell_type": "code",
   "execution_count": 28,
   "id": "4271003c",
   "metadata": {},
   "outputs": [],
   "source": [
    "wells = [\n",
    "        {\"name\": \"Well_1\", \"block\": \"A\", \"production_rate\": 300},\n",
    "        {\"name\": \"Well_2\", \"block\": \"B\", \"production_rate\": 600},\n",
    "        {\"name\": \"Well_3\", \"block\": \"C\", \"production_rate\": 400},\n",
    "        {\"name\": \"Well_4\", \"block\": \"A\", \"production_rate\": 350},\n",
    "        {\"name\": \"Well_5\", \"block\": \"C\", \"production_rate\": 630},\n",
    "        {\"name\": \"Well_6\", \"block\": \"B\", \"production_rate\": 410},\n",
    "        {\"name\": \"Well_7\", \"block\": \"A\", \"production_rate\": 530},\n",
    "        {\"name\": \"Well_8\", \"block\": \"B\", \"production_rate\": 360},\n",
    "        {\"name\": \"Well_9\", \"block\": \"A\", \"production_rate\": 140}\n",
    "        ]\n"
   ]
  },
  {
   "cell_type": "code",
   "execution_count": 29,
   "id": "da67f9c7",
   "metadata": {},
   "outputs": [],
   "source": [
    "def find_max(data:list)->float:\n",
    "    lst_rate=[]\n",
    "    for w in data:\n",
    "        rate=w.get(\"production_rate\",None)\n",
    "        lst_rate.append(rate)\n",
    "    return max(lst_rate)"
   ]
  },
  {
   "cell_type": "code",
   "execution_count": 34,
   "id": "f4ac9f74",
   "metadata": {},
   "outputs": [],
   "source": [
    "def find_max_wells(wells:list)->dict:\n",
    "    max_rate=find_max(wells)\n",
    "    print(f\"max_rate is {max_rate}\")\n",
    "    for w in wells:\n",
    "        if w.get(\"production_rate\")==max_rate:\n",
    "            return w"
   ]
  },
  {
   "cell_type": "code",
   "execution_count": 35,
   "id": "91f010fc",
   "metadata": {},
   "outputs": [
    {
     "name": "stdout",
     "output_type": "stream",
     "text": [
      "max_rate is 630\n",
      "{'name': 'Well_5', 'block': 'C', 'production_rate': 630}\n"
     ]
    }
   ],
   "source": [
    "print(find_max_wells(wells))"
   ]
  },
  {
   "cell_type": "code",
   "execution_count": 292,
   "id": "04b21839",
   "metadata": {},
   "outputs": [],
   "source": [
    "from functools import reduce"
   ]
  },
  {
   "cell_type": "code",
   "execution_count": 293,
   "id": "0d907829",
   "metadata": {},
   "outputs": [
    {
     "data": {
      "text/plain": [
       "{'name': 'Well_5', 'block': 'C', 'production_rate': 630}"
      ]
     },
     "execution_count": 293,
     "metadata": {},
     "output_type": "execute_result"
    }
   ],
   "source": [
    "reduce(lambda x,y: x if x[\"production_rate\"]>y[\"production_rate\"] else y,wells)"
   ]
  },
  {
   "cell_type": "code",
   "execution_count": 295,
   "id": "96c990d5",
   "metadata": {},
   "outputs": [
    {
     "data": {
      "text/plain": [
       "{'name': 'Well_5', 'block': 'C', 'production_rate': 630}"
      ]
     },
     "execution_count": 295,
     "metadata": {},
     "output_type": "execute_result"
    }
   ],
   "source": [
    "max(wells,key=lambda x:x[\"production_rate\"])"
   ]
  },
  {
   "cell_type": "markdown",
   "id": "c2afea5c",
   "metadata": {},
   "source": [
    "#   EX4:"
   ]
  },
  {
   "cell_type": "markdown",
   "id": "692cd848",
   "metadata": {},
   "source": [
    "*       HIIP=BRV*NTG*PHIE*(1-SW)*GEF\n",
    "*       Generate dictionary with reservoir name, and use random function to generate properties. Calculate HIIP for each reservoir\n",
    "*       Print out top 5 reservoir by HIIP"
   ]
  },
  {
   "cell_type": "code",
   "execution_count": 150,
   "id": "20c566c9",
   "metadata": {},
   "outputs": [
    {
     "data": {
      "text/plain": [
       "('B', 'C')"
      ]
     },
     "execution_count": 150,
     "metadata": {},
     "output_type": "execute_result"
    }
   ],
   "source": [
    "import random\n",
    "lst=random.choices([\"A\",\"B\",\"C\",\"D\",\"E\"],k=2)\n",
    "tuple(lst)"
   ]
  },
  {
   "cell_type": "code",
   "execution_count": 296,
   "id": "20c892a8",
   "metadata": {},
   "outputs": [],
   "source": [
    "def gen_hiip_pro(lst_reservoirs):\n",
    "    import random\n",
    "    lst_hiip_prob=[]\n",
    "    for _ in range(len(lst_reservoirs)):\n",
    "        brv=random.uniform(200,400)\n",
    "        ntg=random.random()#0-1\n",
    "        phie=random.uniform(0.1,0.35)\n",
    "        sw=random.uniform(0.08,0.7)\n",
    "        gef=random.uniform(230,305)\n",
    "        lst_hiip_prob.append({\"BRV\":brv,\"NTG\":ntg,\"PHIE\":phie,\"SW\":sw,\"GEF\":gef})\n",
    "    dct_res=dict(zip(lst_reservoirs,lst_hiip_prob))\n",
    "    return dct_res\n"
   ]
  },
  {
   "cell_type": "code",
   "execution_count": 297,
   "id": "ef93b3f6",
   "metadata": {},
   "outputs": [],
   "source": [
    "lst_reservoirs=[\"A\",\"B\",\"C\",\"D\",\"E\",\"F\",\"G\",\"H\"]"
   ]
  },
  {
   "cell_type": "code",
   "execution_count": 298,
   "id": "0caf8040",
   "metadata": {},
   "outputs": [],
   "source": [
    "dct_res=gen_hiip_pro(lst_reservoirs=lst_reservoirs)"
   ]
  },
  {
   "cell_type": "code",
   "execution_count": 299,
   "id": "b30149bc",
   "metadata": {},
   "outputs": [
    {
     "data": {
      "text/plain": [
       "{'A': {'BRV': 260.77934655454743,\n",
       "  'NTG': 0.9642400953348742,\n",
       "  'PHIE': 0.15657188434595712,\n",
       "  'SW': 0.5913095974224059,\n",
       "  'GEF': 244.58967199621765},\n",
       " 'B': {'BRV': 253.0412195149877,\n",
       "  'NTG': 0.35400551148938464,\n",
       "  'PHIE': 0.2990578099649624,\n",
       "  'SW': 0.35822683885239703,\n",
       "  'GEF': 233.81119181528095},\n",
       " 'C': {'BRV': 296.4963770130745,\n",
       "  'NTG': 0.6588437766092805,\n",
       "  'PHIE': 0.18052658421057405,\n",
       "  'SW': 0.6856815176106992,\n",
       "  'GEF': 283.24585583894645},\n",
       " 'D': {'BRV': 395.40118848229616,\n",
       "  'NTG': 0.14236481337488638,\n",
       "  'PHIE': 0.19420027018137753,\n",
       "  'SW': 0.5580029105815368,\n",
       "  'GEF': 276.0643271271588},\n",
       " 'E': {'BRV': 314.14256467181593,\n",
       "  'NTG': 0.49968457460908233,\n",
       "  'PHIE': 0.2795734899201874,\n",
       "  'SW': 0.6767995990677491,\n",
       "  'GEF': 232.15429566602972},\n",
       " 'F': {'BRV': 248.1116263770832,\n",
       "  'NTG': 0.14745829990811843,\n",
       "  'PHIE': 0.30450265634539764,\n",
       "  'SW': 0.48335271549630254,\n",
       "  'GEF': 288.61819012476764},\n",
       " 'G': {'BRV': 241.25696383032763,\n",
       "  'NTG': 0.07549126909897685,\n",
       "  'PHIE': 0.3312998718678939,\n",
       "  'SW': 0.4598397810623535,\n",
       "  'GEF': 259.83001425285806},\n",
       " 'H': {'BRV': 242.2438634735928,\n",
       "  'NTG': 0.4594128870548634,\n",
       "  'PHIE': 0.1924354725207778,\n",
       "  'SW': 0.12795765446804178,\n",
       "  'GEF': 249.5138914797943}}"
      ]
     },
     "execution_count": 299,
     "metadata": {},
     "output_type": "execute_result"
    }
   ],
   "source": [
    "dct_res"
   ]
  },
  {
   "cell_type": "code",
   "execution_count": 300,
   "id": "d132bdb5",
   "metadata": {},
   "outputs": [],
   "source": [
    "from functools import reduce"
   ]
  },
  {
   "cell_type": "code",
   "execution_count": 301,
   "id": "2197a50e",
   "metadata": {},
   "outputs": [],
   "source": [
    "def hiip_cal(dct:dict):\n",
    "    return reduce(lambda x,y: x*y,dct.values())"
   ]
  },
  {
   "cell_type": "code",
   "execution_count": 302,
   "id": "1647fbe9",
   "metadata": {},
   "outputs": [
    {
     "data": {
      "text/plain": [
       "[5694.101445761115,\n",
       " 2243.777870723731,\n",
       " 6849.029101107791,\n",
       " 1683.9811217054632,\n",
       " 6895.337570035255,\n",
       " 1554.1584191277693,\n",
       " 720.9310143241871,\n",
       " 683.7574772968683]"
      ]
     },
     "execution_count": 302,
     "metadata": {},
     "output_type": "execute_result"
    }
   ],
   "source": [
    "lst_result=list(map(hiip_cal,dct_res.values()))\n",
    "lst_result"
   ]
  },
  {
   "cell_type": "code",
   "execution_count": 276,
   "id": "476513f8",
   "metadata": {},
   "outputs": [
    {
     "data": {
      "text/plain": [
       "{'A': 4251.648980068692,\n",
       " 'B': 4906.952316976166,\n",
       " 'C': 2256.210424725828,\n",
       " 'D': 2799.336509654737,\n",
       " 'E': 1098.898165762987,\n",
       " 'F': 878.1988555930874,\n",
       " 'G': 4133.649870150943,\n",
       " 'H': 5945.934461063285}"
      ]
     },
     "execution_count": 276,
     "metadata": {},
     "output_type": "execute_result"
    }
   ],
   "source": [
    "res=dict(zip(lst_reservoirs,lst_result))\n",
    "res"
   ]
  }
 ],
 "metadata": {
  "kernelspec": {
   "display_name": "Python 3",
   "language": "python",
   "name": "python3"
  },
  "language_info": {
   "codemirror_mode": {
    "name": "ipython",
    "version": 3
   },
   "file_extension": ".py",
   "mimetype": "text/x-python",
   "name": "python",
   "nbconvert_exporter": "python",
   "pygments_lexer": "ipython3",
   "version": "3.12.2"
  }
 },
 "nbformat": 4,
 "nbformat_minor": 5
}

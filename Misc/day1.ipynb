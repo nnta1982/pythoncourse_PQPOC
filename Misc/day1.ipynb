{
 "cells": [
  {
   "cell_type": "markdown",
   "id": "e915174d",
   "metadata": {},
   "source": [
    "# Section 1: Variables\n",
    "    * Variables\n",
    "    * Variable id\n",
    "    * print\n",
    "\n"
   ]
  },
  {
   "cell_type": "markdown",
   "id": "2d9703e5",
   "metadata": {},
   "source": [
    "# Section 2: String data types\n",
    "    * Strings\n",
    "    * print string\n",
    "    * slice string\n",
    "    * escape sequence (\\, \\n, \\t)\n",
    "    * format string (use f\"\")\n",
    "    * some string method:\n",
    "    * title/upper/lower/strip/find/replace/split/starwith/index"
   ]
  },
  {
   "cell_type": "markdown",
   "id": "b4504606",
   "metadata": {},
   "source": [
    "(See also [Link for examples](https://pythonexamples.org/python-string-methods/))\n"
   ]
  },
  {
   "cell_type": "markdown",
   "id": "d717c43b",
   "metadata": {},
   "source": [
    "# Section 3: Numbers\n",
    "    * Integer/float/decimals\n",
    "    * print decimal\n",
    "    * math (*,/,+,-,//, %,**)\n",
    "    * round/ceil/floor\n",
    "    * boolean\n",
    "    * type converting\n",
    "    * variable reassignment"
   ]
  },
  {
   "cell_type": "markdown",
   "id": "7fcf865c",
   "metadata": {},
   "source": [
    "# Excercise \n",
    "    * Count the frequency of a char in a text.\n",
    "    * split the text by \",\" and space\n",
    "    * title\n",
    "    * replace"
   ]
  },
  {
   "cell_type": "markdown",
   "id": "d9cf4498",
   "metadata": {},
   "source": [
    "# Control Flow\n",
    "    * if-else\n",
    "    * match -case\n",
    "    * while\n",
    "    * for loop"
   ]
  }
 ],
 "metadata": {
  "kernelspec": {
   "display_name": "Python 3",
   "language": "python",
   "name": "python3"
  },
  "language_info": {
   "codemirror_mode": {
    "name": "ipython",
    "version": 3
   },
   "file_extension": ".py",
   "mimetype": "text/x-python",
   "name": "python",
   "nbconvert_exporter": "python",
   "pygments_lexer": "ipython3",
   "version": "3.12.2"
  }
 },
 "nbformat": 4,
 "nbformat_minor": 5
}

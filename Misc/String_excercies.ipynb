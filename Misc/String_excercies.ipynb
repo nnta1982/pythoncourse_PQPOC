{
 "cells": [
  {
   "cell_type": "markdown",
   "id": "f76a8e37",
   "metadata": {},
   "source": [
    "| String Method            | Use                 |\n",
    "| ------------------------ | ------------------- |\n",
    "| `.strip()`               | Clean up spacing    |\n",
    "| `.upper()`, `.lower()`   | Case normalization  |\n",
    "| `.replace()`, `.split()` | Parsing strings     |\n",
    "| `.in`, `.find()`         | Searching           |\n",
    "| `.count()`               | Counting substrings |\n",
    "| `f\"{var}\"`               | Formatting          |\n"
   ]
  },
  {
   "cell_type": "markdown",
   "id": "ea49740a",
   "metadata": {},
   "source": [
    "# String Task\n",
    "    *   well_name = \"  HT-1a  \"--> Expect: HT_1X\n",
    "    *   file_path = \"projects/namconson/gas_field_A/well_logs/HT1_log.las\"---> Extract gas_field_A from path\n",
    "    *   Use f string to comebine (depth=3000, unit=\"m\")\n",
    "    *   Count how many \"oil\", \"gas\" appear in the \"The reservoir contains oil, gas, and more gas than expected.\" \n",
    "    *   \"DST and RFT data are missing from HT-3X\"--> find all Uppercase\n"
   ]
  },
  {
   "cell_type": "code",
   "execution_count": 3,
   "id": "e55d678d",
   "metadata": {},
   "outputs": [
    {
     "data": {
      "text/plain": [
       "'HT-1X'"
      ]
     },
     "execution_count": 3,
     "metadata": {},
     "output_type": "execute_result"
    }
   ],
   "source": [
    "well_name=\" HT-1a   \"\n",
    "well_name=well_name.strip().upper()\n",
    "well_name.replace(\"-\",\"_\")\n",
    "well_name.replace(\"A\",\"X\")"
   ]
  },
  {
   "cell_type": "code",
   "execution_count": 5,
   "id": "6fe668d2",
   "metadata": {},
   "outputs": [
    {
     "data": {
      "text/plain": [
       "['projects', 'namconson', 'gas_field_A', 'well_logs', 'HT1_log.las']"
      ]
     },
     "execution_count": 5,
     "metadata": {},
     "output_type": "execute_result"
    }
   ],
   "source": [
    "file_path = \"projects/namconson/gas_field_A/well_logs/HT1_log.las\"\n",
    "lst=file_path.split(\"/\")\n",
    "lst"
   ]
  },
  {
   "cell_type": "code",
   "execution_count": 6,
   "id": "6fe0e39c",
   "metadata": {},
   "outputs": [],
   "source": [
    "data=\"The reservoir contains oil, gas, and more gas than expected.\""
   ]
  },
  {
   "cell_type": "code",
   "execution_count": 7,
   "id": "58234b00",
   "metadata": {},
   "outputs": [
    {
     "data": {
      "text/plain": [
       "2"
      ]
     },
     "execution_count": 7,
     "metadata": {},
     "output_type": "execute_result"
    }
   ],
   "source": [
    "data.count(\"gas\")"
   ]
  },
  {
   "cell_type": "code",
   "execution_count": 8,
   "id": "f4a58c8c",
   "metadata": {},
   "outputs": [],
   "source": [
    "txt=\"DST and RFT data are missing from HT-3X\""
   ]
  },
  {
   "cell_type": "code",
   "execution_count": 32,
   "id": "8709dbf0",
   "metadata": {},
   "outputs": [],
   "source": [
    "depth = {'HT1': 3550, 'HT2': 3600}\n",
    "status = {'HT1': 'producing', 'HT2': 'shut-in'}\n"
   ]
  },
  {
   "cell_type": "code",
   "execution_count": 42,
   "id": "7c6ba08d",
   "metadata": {},
   "outputs": [],
   "source": [
    "merge_dct={}\n",
    "for k,v in depth.items():\n",
    "    merge_dct[k]={\"depth\":v,\"status\":status.get(k)}"
   ]
  },
  {
   "cell_type": "code",
   "execution_count": 43,
   "id": "03eaec59",
   "metadata": {},
   "outputs": [
    {
     "data": {
      "text/plain": [
       "{'HT1': {'depth': 3550, 'status': 'producing'},\n",
       " 'HT2': {'depth': 3600, 'status': 'shut-in'}}"
      ]
     },
     "execution_count": 43,
     "metadata": {},
     "output_type": "execute_result"
    }
   ],
   "source": [
    "merge_dct"
   ]
  },
  {
   "cell_type": "code",
   "execution_count": 44,
   "id": "edc42c16",
   "metadata": {},
   "outputs": [],
   "source": [
    "statuses = {\n",
    "    'HT1': 'producing',\n",
    "    'HT2': 'shut-in',\n",
    "    'RC1': 'producing',\n",
    "    'RC2': 'shut-in'\n",
    "}\n"
   ]
  }
 ],
 "metadata": {
  "kernelspec": {
   "display_name": "Python 3",
   "language": "python",
   "name": "python3"
  },
  "language_info": {
   "codemirror_mode": {
    "name": "ipython",
    "version": 3
   },
   "file_extension": ".py",
   "mimetype": "text/x-python",
   "name": "python",
   "nbconvert_exporter": "python",
   "pygments_lexer": "ipython3",
   "version": "3.12.2"
  }
 },
 "nbformat": 4,
 "nbformat_minor": 5
}

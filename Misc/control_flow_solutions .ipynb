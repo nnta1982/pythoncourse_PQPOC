{
 "cells": [
  {
   "cell_type": "markdown",
   "id": "52b1c8b4",
   "metadata": {},
   "source": [
    "# Operator and control flows"
   ]
  },
  {
   "cell_type": "markdown",
   "id": "b36f9436",
   "metadata": {},
   "source": [
    "# if-else"
   ]
  },
  {
   "cell_type": "markdown",
   "id": "5f649ebf",
   "metadata": {},
   "source": [
    "Example1:"
   ]
  },
  {
   "cell_type": "code",
   "execution_count": 26,
   "id": "912071fe",
   "metadata": {},
   "outputs": [
    {
     "name": "stdout",
     "output_type": "stream",
     "text": [
      "x is greater than 5\n"
     ]
    }
   ],
   "source": [
    "# Simple if-else example\n",
    "x = 10\n",
    "if x > 5:\n",
    "    print(\"x is greater than 5\")\n",
    "else:\n",
    "    print(\"x is not greater than 5\")\n",
    "\n"
   ]
  },
  {
   "cell_type": "markdown",
   "id": "cc81694d",
   "metadata": {},
   "source": [
    "Example 2"
   ]
  },
  {
   "cell_type": "code",
   "execution_count": null,
   "id": "8d976ea9",
   "metadata": {},
   "outputs": [],
   "source": [
    "# if-elif-else example\n",
    "score = 85\n",
    "if score >= 90:\n",
    "    print(\"Grade: A\")\n",
    "elif score >= 80:\n",
    "    print(\"Grade: B\")\n",
    "else:\n",
    "    print(\"Grade: C or below\")"
   ]
  },
  {
   "cell_type": "markdown",
   "id": "b888dd15",
   "metadata": {},
   "source": [
    "EXCERCISE 1:\n",
    "\n",
    "| Loại dầu                     | API Gravity (°API) | Đặc điểm                                                        |\n",
    "| ---------------------------- | ------------------ | --------------------------------------------------------------- |\n",
    "| **Dầu rất nhẹ (Condensate)** | > 45°              | Dầu có tỷ lệ khí cao, dễ bay hơi, thường đi kèm khí tự nhiên.   |\n",
    "| **Dầu nhẹ**                  | 35° – 45°          | Chất lượng cao, cho sản phẩm tinh chế như xăng và diesel nhiều. |\n",
    "| **Dầu trung bình**           | 25° – 35°          | Phổ biến, hiệu suất chế biến tốt.                               |\n",
    "| **Dầu nặng**                 | 10° – 25°          | Đặc sệt, khó xử lý, cần nâng cấp để chế biến.                   |\n",
    "| **Dầu rất nặng**             | < 10°              | Gần giống bitumen, xử lý rất phức tạp.                          |\n"
   ]
  },
  {
   "cell_type": "markdown",
   "id": "d1068fa5",
   "metadata": {},
   "source": [
    "EXCERCISE 2\n",
    "\n",
    "| **Nội dung**         | **Chi tiết** |\n",
    "|----------------------|-------------------------------------------------------------------------------------------------------------------------------------------------------------------------------------------------------------------------------------------------------------------|\n",
    "| **Chủ đề**           | Đánh giá tình trạng giếng dầu dựa trên áp suất và lưu lượng                                                                                                                         |\n",
    "| **Input yêu cầu**    | - Áp suất đáy giếng (BHP) – đơn vị: psi<br>- Lưu lượng khai thác (Production Rate) – đơn vị: BOPD                                                                                 |\n",
    "| **Quy tắc đánh giá** | - Nếu **BHP < 1000 psi** và **Rate > 500 BOPD** → *Giếng hoạt động tốt*<br>- Nếu **BHP > 3000 psi** và **Rate < 100 BOPD** → *Giếng có thể bị tổn thất áp suất hoặc nghẽn dòng*<br>- Nếu **1000 ≤ BHP ≤ 3000** và **100 ≤ Rate ≤ 500** → *Giếng hoạt động trung bình*<br>- Các trường hợp khác → *Cần đánh giá thêm* |\n",
    "| **Output mong muốn** | In ra đánh giá tình trạng giếng, ví dụ:<br>`Áp suất: 950 psi, Lưu lượng: 600 BOPD`<br>`=> Giếng"
   ]
  },
  {
   "cell_type": "markdown",
   "id": "736e4901",
   "metadata": {},
   "source": [
    "# match-case\n",
    "**làm lại bài tập 1 dùng match case**\n"
   ]
  },
  {
   "cell_type": "markdown",
   "id": "6afd08eb",
   "metadata": {},
   "source": [
    "# while-break"
   ]
  },
  {
   "cell_type": "markdown",
   "id": "6030dcb0",
   "metadata": {},
   "source": [
    "Excercise 3:\n",
    "\n",
    "| **Nội dung**         | **Chi tiết**                                                                      |\n",
    "| -------------------- | --------------------------------------------------------------------------------- |\n",
    "| **Mô tả**            | Giả sử một giếng dầu hoạt động trong nhiều ngày. Mỗi ngày người vận hành nhập sản lượng dầu khai thác được (BOPD). Chương trình sẽ tính tổng sản lượng cho đến khi người dùng nhập số âm để kết thúc. |\n",
    "| **Input yêu cầu**    | - Sản lượng từng ngày (số dương)<br>- Nhập **số âm** để kết thúc |\n",
    "| **Output mong muốn** | - Tổng sản lượng đã khai thác |\n",
    "| **Mục tiêu học tập** | - Sử dụng vòng `while` với điều kiện dừng<br>- Tính tổng tích lũy  |\n"
   ]
  },
  {
   "cell_type": "code",
   "execution_count": 3,
   "id": "d91d0fda",
   "metadata": {},
   "outputs": [
    {
     "name": "stdout",
     "output_type": "stream",
     "text": [
      "Tổng sản lượng khai thác: 60.0 barrels\n"
     ]
    }
   ],
   "source": [
    "total = 0\n",
    "day = 1\n",
    "\n",
    "while True:\n",
    "    daily = float(input(f\"Nhập sản lượng ngày {day} (BOPD, nhập số âm để dừng): \"))\n",
    "    if daily < 0:\n",
    "        break\n",
    "    total += daily\n",
    "    day += 1\n",
    "\n",
    "print(f\"Tổng sản lượng khai thác: {total} barrels\")\n"
   ]
  },
  {
   "cell_type": "markdown",
   "id": "3176e427",
   "metadata": {},
   "source": [
    "Exercise 4:\n",
    "\n",
    "| **Nội dung**         | **Chi tiết**                       |\n",
    "|----------------------|--------------------------------------------------------------------------------- |\n",
    "| **Mô tả**            | Một giếng dầu đang giảm áp suất theo tốc độ giảm **5% mỗi ngày**. Cho biết áp suất ban đầu, hãy tính số ngày cần để áp suất giảm xuống dưới 1000 psi. |\n",
    "| **Input yêu cầu**    | - Áp suất ban đầu (psi)      |\n",
    "| **Output mong muốn** | - Số ngày cần để áp suất < 1000 psi<br>- Giá trị áp suất cuối cùng|\n",
    "| **Mục tiêu học tập** | - Sử dụng vòng `while` với điều kiện kiểm tra<br>- Sử dụng toán học và định dạng kết quả |\n"
   ]
  },
  {
   "cell_type": "code",
   "execution_count": 1,
   "id": "dae4cfa8",
   "metadata": {},
   "outputs": [
    {
     "name": "stdout",
     "output_type": "stream",
     "text": [
      "Sau 18 ngày, áp suất giảm còn 993.04 psi (dưới 1000 psi)\n"
     ]
    }
   ],
   "source": [
    "pressure = float(input(\"Nhập áp suất ban đầu (psi): \"))\n",
    "day = 0\n",
    "\n",
    "while pressure >= 1000:\n",
    "    pressure *= 0.95  # Giảm 5%\n",
    "    day += 1\n",
    "\n",
    "print(f\"Sau {day} ngày, áp suất giảm còn {pressure:.2f} psi (dưới 1000 psi)\")\n"
   ]
  },
  {
   "cell_type": "markdown",
   "id": "df31e4e9",
   "metadata": {},
   "source": [
    "# for loop"
   ]
  },
  {
   "cell_type": "markdown",
   "id": "657b76ff",
   "metadata": {},
   "source": [
    "EXCERCISE 5\n",
    "\n",
    "| **Nội dung**         | **Chi tiết**   |\n",
    "| -------------------- | ----------------------------------------------------------------------------------------------------------------------------- |\n",
    "| **Mô tả**            | Giả sử bạn có 5 giếng dầu. Viết chương trình nhập sản lượng của từng giếng, sau đó tính **tổng** và **trung bình** sản lượng.|\n",
    "| **Input yêu cầu**    | - Sản lượng từng giếng (BOPD) qua 5 lần nhập            |\n",
    "| **Output mong muốn** | - Tổng sản lượng<br>- Trung bình sản lượng                    |\n",
    "| **Mục tiêu học tập** | - Sử dụng `for` với `range()`<br>- Tính tổng, trung bình từ danh sách giá trị       |\n"
   ]
  },
  {
   "cell_type": "code",
   "execution_count": 28,
   "id": "040b2346",
   "metadata": {},
   "outputs": [
    {
     "name": "stdout",
     "output_type": "stream",
     "text": [
      "Tổng sản lượng: 19.0 BOPD\n",
      "Trung bình mỗi giếng: 3.80 BOPD\n"
     ]
    }
   ],
   "source": [
    "total = 0\n",
    "num_wells = 5\n",
    "\n",
    "for i in range(1, num_wells + 1):\n",
    "    prod = float(input(f\"Nhập sản lượng giếng {i} (BOPD): \"))\n",
    "    total += prod\n",
    "\n",
    "average = total / num_wells\n",
    "print(f\"Tổng sản lượng: {total} BOPD\")\n",
    "print(f\"Trung bình mỗi giếng: {average:.2f} BOPD\")\n"
   ]
  },
  {
   "cell_type": "markdown",
   "id": "58af8909",
   "metadata": {},
   "source": [
    "EXCERCISE 6\n",
    "| **Nội dung**         | **Chi tiết**    |\n",
    "| -------------------- | ------------------------------------------------------------------------------------------------------------------------------------------------------------------------------------------ |\n",
    "| **Mô tả**            | Cho danh sách sản lượng từ 7 giếng. Duyệt qua danh sách và in ra loại giếng theo sản lượng:<br>- >500 BOPD → Giếng hiệu quả<br>- 100–500 → Giếng trung bình<br>- <100 → Giếng kém hiệu quả |\n",
    "| **Input yêu cầu**    | - Danh sách các sản lượng giếng (giả sử là list cố định hoặc nhập thủ công)                        |\n",
    "| **Output mong muốn** | - In số giếng thuộc từng loại và chi tiết từng giếng                  \n",
    "| **Mục tiêu học tập** | - Duyệt danh sách với `for`<br>- Dùng `if-else` kết hợp `for`                        |\n"
   ]
  },
  {
   "cell_type": "code",
   "execution_count": 29,
   "id": "74a5d38c",
   "metadata": {},
   "outputs": [
    {
     "name": "stdout",
     "output_type": "stream",
     "text": [
      "Giếng 1: 620 BOPD → Giếng hiệu quả\n",
      "Giếng 2: 450 BOPD → Giếng trung bình\n",
      "Giếng 3: 95 BOPD → Giếng kém hiệu quả\n",
      "Giếng 4: 800 BOPD → Giếng hiệu quả\n",
      "Giếng 5: 370 BOPD → Giếng trung bình\n",
      "Giếng 6: 50 BOPD → Giếng kém hiệu quả\n",
      "Giếng 7: 520 BOPD → Giếng hiệu quả\n",
      "\n",
      "Tóm tắt:\n",
      "- Giếng hiệu quả: 3\n",
      "- Giếng trung bình: 2\n",
      "- Giếng kém hiệu quả: 2\n"
     ]
    }
   ],
   "source": [
    "wells = [620, 450, 95, 800, 370, 50, 520]\n",
    "\n",
    "high = 0\n",
    "medium = 0\n",
    "low = 0\n",
    "\n",
    "for i, rate in enumerate(wells, start=1):\n",
    "    if rate > 500:\n",
    "        status = \"Giếng hiệu quả\"\n",
    "        high += 1\n",
    "    elif rate >= 100:\n",
    "        status = \"Giếng trung bình\"\n",
    "        medium += 1\n",
    "    else:\n",
    "        status = \"Giếng kém hiệu quả\"\n",
    "        low += 1\n",
    "    print(f\"Giếng {i}: {rate} BOPD → {status}\")\n",
    "\n",
    "print(\"\\nTóm tắt:\")\n",
    "print(f\"- Giếng hiệu quả: {high}\")\n",
    "print(f\"- Giếng trung bình: {medium}\")\n",
    "print(f\"- Giếng kém hiệu quả: {low}\")\n"
   ]
  }
 ],
 "metadata": {
  "kernelspec": {
   "display_name": "Python 3",
   "language": "python",
   "name": "python3"
  },
  "language_info": {
   "codemirror_mode": {
    "name": "ipython",
    "version": 3
   },
   "file_extension": ".py",
   "mimetype": "text/x-python",
   "name": "python",
   "nbconvert_exporter": "python",
   "pygments_lexer": "ipython3",
   "version": "3.12.2"
  }
 },
 "nbformat": 4,
 "nbformat_minor": 5
}
